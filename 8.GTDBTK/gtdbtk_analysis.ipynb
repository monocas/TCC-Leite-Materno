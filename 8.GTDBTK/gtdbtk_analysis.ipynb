{
 "cells": [
  {
   "cell_type": "markdown",
   "source": [
    "# Notebook para tratamento dos dados de taxonomia da microbiota intestinal dos bebês 👶🏽💩"
   ],
   "metadata": {}
  },
  {
   "cell_type": "code",
   "execution_count": 172,
   "source": [
    "#importações \r\n",
    "\r\n",
    "import plotly.graph_objects as go\r\n",
    "import pandas as pd\r\n",
    "import os\r\n",
    "import seaborn.objects as so\r\n",
    "import seaborn as sns\r\n",
    "import matplotlib.pyplot as plt\r\n",
    "import plotly.graph_objects as go\r\n",
    "import plotly.colors as colors"
   ],
   "outputs": [],
   "metadata": {}
  },
  {
   "cell_type": "code",
   "execution_count": 2,
   "source": [
    "#Convertendo de tsv para dataframe pandas\r\n",
    "\r\n",
    "df_1month_tax = pd.read_csv('gtdbtk.bac120.summary_1month_baby.tsv', sep='\\t')\r\n",
    "df_6month_tax = pd.read_csv('gtdbtk.bac120.summary_6month_baby.tsv', sep='\\t')"
   ],
   "outputs": [],
   "metadata": {}
  },
  {
   "cell_type": "code",
   "execution_count": 3,
   "source": [
    "#Organizando os dados\r\n",
    "\r\n",
    "colunas_classificacao = ['Domínio', 'Filo', 'Classe', 'Ordem', 'Família','Gênero', 'Espécie']\r\n",
    "df_1month_tax[colunas_classificacao] = df_1month_tax['classification'].str.split(';', expand=True)\r\n",
    "df_6month_tax[colunas_classificacao] = df_6month_tax['classification'].str.split(';', expand=True)"
   ],
   "outputs": [],
   "metadata": {}
  },
  {
   "cell_type": "code",
   "execution_count": 4,
   "source": [
    "#Filtrando os dados\r\n",
    "\r\n",
    "df_1month_tax2 = df_1month_tax[df_1month_tax['classification'] != 'Unclassified Bacteria']\r\n",
    "df_1month_tax2 = df_1month_tax2[df_1month_tax2['classification'] != 'Unclassified']\r\n",
    "df_1month_tax2 = df_1month_tax2[df_1month_tax2['Filo'] != 'None']\r\n",
    "\r\n",
    "df_6month_tax2 = df_6month_tax[df_6month_tax['classification'] != 'Unclassified Bacteria']\r\n",
    "df_6month_tax2 = df_6month_tax2[df_6month_tax2['classification'] != 'Unclassified']\r\n",
    "df_6month_tax2 = df_6month_tax2[df_6month_tax2['Filo'] != 'None']"
   ],
   "outputs": [],
   "metadata": {}
  },
  {
   "cell_type": "code",
   "execution_count": 5,
   "source": [
    "# Função para contar as frequências de cada item da classificação\r\n",
    "def contar_frequencias(df, coluna):\r\n",
    "    # Contagem de frequências\r\n",
    "    frequencias = df[coluna].value_counts().to_dict()\r\n",
    "    # Preencher lista com frequências\r\n",
    "    return [frequencias.get(value, 0) for value in df[coluna]]\r\n",
    "\r\n",
    "frequencias_tax_1month = [] # Lista para armazenar todas as frequências \r\n",
    "frequencias_tax_6month = []\r\n",
    "\r\n",
    "# Colunas taxonômicas a serem processadas\r\n",
    "colunas = [\"Domínio\", \"Filo\", \"Classe\", \"Ordem\", \"Família\", \"Gênero\", \"Espécie\"]\r\n",
    "\r\n",
    "# Preencher a lista com as frequências\r\n",
    "for coluna in colunas:\r\n",
    "    frequencias_tax_1month.extend(contar_frequencias(df_1month_tax2, coluna))\r\n",
    "    frequencias_tax_6month.extend(contar_frequencias(df_6month_tax2, coluna))"
   ],
   "outputs": [],
   "metadata": {}
  },
  {
   "cell_type": "markdown",
   "source": [
    "## Plot Sankey 🪢"
   ],
   "metadata": {}
  },
  {
   "cell_type": "code",
   "execution_count": 6,
   "source": [
    "def plot_taxonomy_sankey(df,titulo,value):\r\n",
    "    stats_data = df\r\n",
    "   \r\n",
    "    #stats_data\r\n",
    "\r\n",
    "    taxonomies = stats_data[stats_data[\"classification\"].notna()][\r\n",
    "        \"classification\"\r\n",
    "    ].tolist()\r\n",
    "\r\n",
    "    sources = []\r\n",
    "    targets = []\r\n",
    "    values = value\r\n",
    "\r\n",
    "    for taxonomy in taxonomies:\r\n",
    "        taxonomy_levels = taxonomy.split(\";\")\r\n",
    "        for i in range(len(taxonomy_levels) - 1):\r\n",
    "            sources.append(taxonomy_levels[i])\r\n",
    "            targets.append(taxonomy_levels[i + 1])\r\n",
    "            \r\n",
    "    \r\n",
    "\r\n",
    "    all_taxonomies = list(set(sources + targets))\r\n",
    "    taxonomy_to_index = {taxonomy: i for i, taxonomy in enumerate(all_taxonomies)}\r\n",
    "\r\n",
    "    colors = [\r\n",
    "        \"#00CED1\",\r\n",
    "        \"#7FFFD4\",\r\n",
    "        \"#FFB6C1\",\r\n",
    "        \"#E6E6FA\",\r\n",
    "        \"#D8BFD8\",\r\n",
    "        \"#BA55D3\",\r\n",
    "        \"#87CEFA\",\r\n",
    "        \"#DC143C\",\r\n",
    "        \"#FFD700\",\r\n",
    "        \"#7B68EE\",\r\n",
    "        \"#FF00FF\",\r\n",
    "        \"#98FB98\",\r\n",
    "        \"#5F9EA0\",\r\n",
    "        \"#8B008B\",\r\n",
    "        \"#CD5C5C\",\r\n",
    "        \"#F0E68C\",\r\n",
    "        \"#32CD32\"\r\n",
    "\r\n",
    "\r\n",
    "    ]\r\n",
    "\r\n",
    "    fig = go.Figure(\r\n",
    "        data=[\r\n",
    "            go.Sankey(\r\n",
    "                node=dict(\r\n",
    "                    pad=20,\r\n",
    "                    thickness=30,\r\n",
    "                    line=dict(color=\"black\", width=0.5),\r\n",
    "                    label=all_taxonomies,\r\n",
    "                    color=colors * (len(all_taxonomies) // len(colors) + 1),\r\n",
    "                    #itle=node_titles \r\n",
    "                ),\r\n",
    "                link=dict(\r\n",
    "                    source=[taxonomy_to_index[source] for source in sources],\r\n",
    "                    target=[taxonomy_to_index[target] for target in targets],\r\n",
    "                    value=values,\r\n",
    "                    #color = colors\r\n",
    "                    color=\"#DCDCDC\",\r\n",
    "                   #color=\"rgba(0, 0, 0, 0.5)\"\r\n",
    "                )\r\n",
    "            )\r\n",
    "        ]\r\n",
    "    )\r\n",
    "\r\n",
    "    fig.update_layout(\r\n",
    "        title_text=titulo,\r\n",
    "        font_size=12,\r\n",
    "        title_font_size=20,\r\n",
    "        \r\n",
    "    )\r\n",
    "\r\n",
    "    fig.update_layout(\r\n",
    "    width=4000,\r\n",
    "    height=1000\r\n",
    ")\r\n",
    "\r\n",
    "    return fig"
   ],
   "outputs": [],
   "metadata": {}
  },
  {
   "cell_type": "code",
   "execution_count": 7,
   "source": [
    "plot_taxonomy_sankey(df_1month_tax2, 'Sankey Taxonomia 1 month',frequencias_tax_1month)"
   ],
   "outputs": [
    {
     "output_type": "display_data",
     "data": {
      "application/vnd.plotly.v1+json": {
       "data": [
        {
         "link": {
          "color": "#DCDCDC",
          "source": [
           61,
           111,
           77,
           44,
           36,
           60,
           61,
           32,
           37,
           65,
           62,
           84,
           61,
           32,
           37,
           83,
           2,
           64,
           61,
           32,
           37,
           83,
           72,
           73,
           61,
           3,
           54,
           86,
           69,
           92,
           61,
           32,
           37,
           65,
           62,
           26,
           61,
           32,
           37,
           83,
           2,
           64,
           61,
           15,
           74,
           99,
           57,
           98,
           61,
           32,
           37,
           65,
           62,
           79,
           61,
           15,
           74,
           99,
           57,
           98,
           61,
           70,
           56,
           50,
           82,
           63,
           61,
           10,
           23,
           30,
           78,
           88,
           61,
           3,
           54,
           86,
           69,
           92,
           61,
           32,
           37,
           75,
           109,
           16,
           61,
           70,
           56,
           34,
           24,
           115,
           61,
           3,
           54,
           86,
           69,
           92,
           61,
           32,
           37,
           65,
           62,
           8,
           61,
           15,
           74,
           99,
           57,
           98,
           61,
           32,
           37,
           65,
           62,
           58,
           61,
           107,
           68,
           91,
           90,
           11,
           61,
           3,
           54,
           86,
           69,
           92,
           61,
           15,
           74,
           99,
           57,
           98,
           61,
           32,
           37,
           65,
           62,
           14,
           61,
           3,
           54,
           86,
           69,
           92,
           61,
           15,
           74,
           99,
           57,
           98,
           61,
           70,
           56,
           50,
           39,
           106,
           61,
           32,
           37,
           65,
           62,
           67,
           61,
           111,
           77,
           44,
           36,
           60,
           61,
           32,
           37,
           65,
           62,
           12,
           61,
           32,
           37,
           65,
           62,
           14,
           61,
           32,
           37,
           65,
           62,
           8,
           61,
           3,
           54,
           86,
           69,
           92,
           61,
           3,
           54,
           86,
           104,
           31,
           61,
           107,
           68,
           91,
           90,
           40,
           61,
           3,
           54,
           86,
           104,
           5,
           61,
           3,
           54,
           86,
           69,
           92,
           61,
           3,
           22,
           81,
           71,
           38,
           61,
           111,
           77,
           44,
           36,
           60,
           61,
           32,
           37,
           65,
           62,
           14,
           61,
           70,
           56,
           50,
           82,
           63,
           61,
           70,
           56,
           34,
           24,
           115,
           61,
           111,
           77,
           44,
           101,
           9,
           61,
           3,
           54,
           86,
           69,
           92,
           61,
           32,
           37,
           65,
           62,
           14,
           61,
           70,
           56,
           34,
           24,
           115,
           61,
           10,
           23,
           30,
           78,
           88,
           61,
           32,
           37,
           65,
           62,
           84,
           61,
           32,
           37,
           83,
           6,
           33,
           61,
           3,
           54,
           86,
           69,
           92,
           61,
           32,
           37,
           65,
           62,
           58,
           61,
           3,
           22,
           81,
           1,
           59,
           61,
           3,
           54,
           86,
           69,
           92,
           61,
           15,
           74,
           99,
           57,
           45,
           61,
           70,
           56,
           34,
           24,
           115,
           61,
           15,
           74,
           99,
           57,
           98,
           61,
           70,
           56,
           34,
           41,
           89,
           61,
           70,
           56,
           34,
           41,
           96,
           61,
           111,
           77,
           44,
           36,
           48,
           61,
           70,
           56,
           34,
           24,
           115,
           61,
           107,
           68,
           91,
           90,
           40,
           61,
           107,
           68,
           91,
           90,
           11,
           61,
           111,
           77,
           44,
           36,
           60,
           61,
           15,
           74,
           99,
           57,
           98,
           61,
           111,
           77,
           44,
           101,
           9,
           61,
           3,
           22,
           81,
           71,
           38,
           61,
           15,
           74,
           99,
           57,
           98,
           61,
           3,
           54,
           86,
           69,
           92,
           61,
           32,
           37,
           65,
           62,
           58,
           61,
           107,
           68,
           91,
           90,
           11,
           61,
           111,
           77,
           44,
           36,
           60,
           61,
           107,
           68,
           91,
           90,
           40,
           61,
           32,
           37,
           83,
           72,
           73,
           61,
           15,
           74,
           99,
           57,
           98,
           61,
           3,
           22,
           81,
           71,
           38,
           61,
           32,
           37,
           65,
           62,
           58,
           61,
           107,
           68,
           91,
           90,
           40
          ],
          "target": [
           111,
           77,
           44,
           36,
           60,
           17,
           32,
           37,
           65,
           62,
           84,
           13,
           32,
           37,
           83,
           2,
           64,
           18,
           32,
           37,
           83,
           72,
           73,
           27,
           3,
           54,
           86,
           69,
           92,
           49,
           32,
           37,
           65,
           62,
           26,
           19,
           32,
           37,
           83,
           2,
           64,
           80,
           15,
           74,
           99,
           57,
           98,
           102,
           32,
           37,
           65,
           62,
           79,
           103,
           15,
           74,
           99,
           57,
           98,
           102,
           70,
           56,
           50,
           82,
           63,
           43,
           10,
           23,
           30,
           78,
           88,
           114,
           3,
           54,
           86,
           69,
           92,
           28,
           32,
           37,
           75,
           109,
           16,
           21,
           70,
           56,
           34,
           24,
           115,
           108,
           3,
           54,
           86,
           69,
           92,
           28,
           32,
           37,
           65,
           62,
           8,
           110,
           15,
           74,
           99,
           57,
           98,
           102,
           32,
           37,
           65,
           62,
           58,
           76,
           107,
           68,
           91,
           90,
           11,
           87,
           3,
           54,
           86,
           69,
           92,
           46,
           15,
           74,
           99,
           57,
           98,
           102,
           32,
           37,
           65,
           62,
           14,
           94,
           3,
           54,
           86,
           69,
           92,
           7,
           15,
           74,
           99,
           57,
           98,
           102,
           70,
           56,
           50,
           39,
           106,
           0,
           32,
           37,
           65,
           62,
           67,
           66,
           111,
           77,
           44,
           36,
           60,
           17,
           32,
           37,
           65,
           62,
           12,
           42,
           32,
           37,
           65,
           62,
           14,
           94,
           32,
           37,
           65,
           62,
           8,
           110,
           3,
           54,
           86,
           69,
           92,
           46,
           3,
           54,
           86,
           104,
           31,
           51,
           107,
           68,
           91,
           90,
           40,
           112,
           3,
           54,
           86,
           104,
           5,
           52,
           3,
           54,
           86,
           69,
           92,
           46,
           3,
           22,
           81,
           71,
           38,
           25,
           111,
           77,
           44,
           36,
           60,
           17,
           32,
           37,
           65,
           62,
           14,
           94,
           70,
           56,
           50,
           82,
           63,
           43,
           70,
           56,
           34,
           24,
           115,
           108,
           111,
           77,
           44,
           101,
           9,
           93,
           3,
           54,
           86,
           69,
           92,
           7,
           32,
           37,
           65,
           62,
           14,
           94,
           70,
           56,
           34,
           24,
           115,
           108,
           10,
           23,
           30,
           78,
           88,
           114,
           32,
           37,
           65,
           62,
           84,
           100,
           32,
           37,
           83,
           6,
           33,
           85,
           3,
           54,
           86,
           69,
           92,
           35,
           32,
           37,
           65,
           62,
           58,
           76,
           3,
           22,
           81,
           1,
           59,
           4,
           3,
           54,
           86,
           69,
           92,
           29,
           15,
           74,
           99,
           57,
           45,
           113,
           70,
           56,
           34,
           24,
           115,
           108,
           15,
           74,
           99,
           57,
           98,
           102,
           70,
           56,
           34,
           41,
           89,
           95,
           70,
           56,
           34,
           41,
           96,
           47,
           111,
           77,
           44,
           36,
           48,
           20,
           70,
           56,
           34,
           24,
           115,
           108,
           107,
           68,
           91,
           90,
           40,
           105,
           107,
           68,
           91,
           90,
           11,
           87,
           111,
           77,
           44,
           36,
           60,
           97,
           15,
           74,
           99,
           57,
           98,
           102,
           111,
           77,
           44,
           101,
           9,
           93,
           3,
           22,
           81,
           71,
           38,
           25,
           15,
           74,
           99,
           57,
           98,
           102,
           3,
           54,
           86,
           69,
           92,
           46,
           32,
           37,
           65,
           62,
           58,
           76,
           107,
           68,
           91,
           90,
           11,
           53,
           111,
           77,
           44,
           36,
           60,
           17,
           107,
           68,
           91,
           90,
           40,
           105,
           32,
           37,
           83,
           72,
           73,
           27,
           15,
           74,
           99,
           57,
           98,
           102,
           3,
           22,
           81,
           71,
           38,
           25,
           32,
           37,
           65,
           62,
           58,
           76,
           107,
           68,
           91,
           90,
           40,
           55
          ],
          "value": [
           76,
           76,
           76,
           76,
           76,
           76,
           76,
           76,
           76,
           76,
           76,
           76,
           76,
           76,
           76,
           76,
           76,
           76,
           76,
           76,
           76,
           76,
           76,
           76,
           76,
           76,
           76,
           76,
           76,
           76,
           76,
           76,
           76,
           76,
           76,
           76,
           76,
           76,
           76,
           76,
           76,
           76,
           76,
           76,
           76,
           76,
           76,
           76,
           76,
           76,
           76,
           76,
           76,
           76,
           76,
           76,
           76,
           76,
           76,
           76,
           76,
           76,
           76,
           76,
           76,
           76,
           76,
           76,
           76,
           76,
           76,
           76,
           76,
           76,
           76,
           76,
           8,
           22,
           22,
           22,
           17,
           22,
           22,
           10,
           22,
           10,
           10,
           2,
           17,
           22,
           10,
           17,
           22,
           10,
           22,
           7,
           17,
           10,
           22,
           17,
           10,
           10,
           22,
           8,
           22,
           22,
           22,
           17,
           17,
           7,
           17,
           17,
           17,
           8,
           22,
           10,
           10,
           8,
           17,
           22,
           10,
           2,
           22,
           22,
           17,
           22,
           17,
           17,
           10,
           10,
           10,
           10,
           10,
           8,
           10,
           7,
           7,
           8,
           10,
           8,
           17,
           10,
           17,
           22,
           7,
           8,
           7,
           22,
           10,
           17,
           22,
           7,
           8,
           22,
           22,
           22,
           13,
           22,
           22,
           10,
           22,
           10,
           10,
           2,
           13,
           22,
           10,
           13,
           22,
           10,
           22,
           7,
           13,
           10,
           22,
           13,
           10,
           10,
           22,
           8,
           22,
           22,
           22,
           13,
           13,
           7,
           13,
           13,
           4,
           8,
           22,
           10,
           10,
           8,
           13,
           22,
           10,
           2,
           22,
           22,
           13,
           22,
           4,
           13,
           10,
           10,
           10,
           10,
           10,
           8,
           10,
           7,
           7,
           8,
           10,
           8,
           4,
           10,
           13,
           22,
           7,
           8,
           7,
           22,
           10,
           4,
           22,
           7,
           8,
           16,
           5,
           5,
           13,
           16,
           5,
           10,
           16,
           10,
           3,
           2,
           13,
           1,
           7,
           13,
           16,
           10,
           16,
           7,
           13,
           10,
           16,
           13,
           10,
           3,
           16,
           8,
           16,
           16,
           16,
           13,
           13,
           7,
           13,
           13,
           4,
           8,
           16,
           3,
           7,
           8,
           13,
           16,
           7,
           2,
           16,
           5,
           13,
           16,
           4,
           13,
           10,
           7,
           10,
           7,
           7,
           8,
           7,
           7,
           7,
           8,
           10,
           8,
           4,
           10,
           13,
           16,
           7,
           8,
           7,
           5,
           10,
           4,
           16,
           7,
           6,
           16,
           2,
           2,
           11,
           16,
           2,
           10,
           16,
           10,
           2,
           2,
           11,
           1,
           5,
           11,
           16,
           10,
           16,
           7,
           11,
           10,
           16,
           11,
           10,
           1,
           16,
           6,
           16,
           16,
           16,
           11,
           2,
           7,
           2,
           11,
           3,
           6,
           16,
           2,
           5,
           2,
           11,
           16,
           5,
           2,
           16,
           1,
           11,
           16,
           1,
           11,
           10,
           5,
           10,
           2,
           2,
           6,
           5,
           7,
           7,
           6,
           10,
           2,
           3,
           10,
           11,
           16,
           7,
           6,
           7,
           2,
           10,
           3,
           16,
           7,
           5,
           2,
           2,
           2,
           11,
           1,
           2,
           9,
           1,
           9,
           2,
           2,
           11,
           1,
           5,
           11,
           2,
           9,
           4,
           3,
           11,
           9,
           4,
           11,
           9,
           1,
           1,
           5,
           1,
           4,
           2,
           11,
           1,
           4,
           1,
           11,
           3,
           5,
           4,
           2,
           5,
           2,
           11,
           4,
           5,
           2,
           2,
           1,
           11,
           4,
           1,
           11,
           1,
           5,
           9,
           1,
           1,
           1,
           5,
           4,
           3,
           5,
           9,
           2,
           3,
           9,
           11,
           4,
           3,
           5,
           4,
           2,
           9,
           3,
           4,
           4,
           4,
           1,
           1,
           2,
           1,
           1,
           1,
           9,
           1,
           9,
           2,
           2,
           2,
           1,
           5,
           2,
           2,
           9,
           4,
           2,
           4,
           9,
           4,
           2,
           9,
           1,
           1,
           4,
           1,
           4,
           2,
           4,
           1,
           1,
           1,
           4,
           3,
           4,
           4,
           2,
           5,
           2,
           2,
           4,
           5,
           2,
           1,
           1,
           1,
           4,
           1,
           1,
           1,
           5,
           9,
           1,
           1,
           1,
           5,
           2,
           2,
           1,
           9,
           2,
           3,
           9,
           4,
           4,
           1,
           4,
           2,
           2,
           9,
           3,
           4,
           1
          ]
         },
         "node": {
          "color": [
           "#00CED1",
           "#7FFFD4",
           "#FFB6C1",
           "#E6E6FA",
           "#D8BFD8",
           "#BA55D3",
           "#87CEFA",
           "#DC143C",
           "#FFD700",
           "#7B68EE",
           "#FF00FF",
           "#98FB98",
           "#5F9EA0",
           "#8B008B",
           "#CD5C5C",
           "#F0E68C",
           "#32CD32",
           "#00CED1",
           "#7FFFD4",
           "#FFB6C1",
           "#E6E6FA",
           "#D8BFD8",
           "#BA55D3",
           "#87CEFA",
           "#DC143C",
           "#FFD700",
           "#7B68EE",
           "#FF00FF",
           "#98FB98",
           "#5F9EA0",
           "#8B008B",
           "#CD5C5C",
           "#F0E68C",
           "#32CD32",
           "#00CED1",
           "#7FFFD4",
           "#FFB6C1",
           "#E6E6FA",
           "#D8BFD8",
           "#BA55D3",
           "#87CEFA",
           "#DC143C",
           "#FFD700",
           "#7B68EE",
           "#FF00FF",
           "#98FB98",
           "#5F9EA0",
           "#8B008B",
           "#CD5C5C",
           "#F0E68C",
           "#32CD32",
           "#00CED1",
           "#7FFFD4",
           "#FFB6C1",
           "#E6E6FA",
           "#D8BFD8",
           "#BA55D3",
           "#87CEFA",
           "#DC143C",
           "#FFD700",
           "#7B68EE",
           "#FF00FF",
           "#98FB98",
           "#5F9EA0",
           "#8B008B",
           "#CD5C5C",
           "#F0E68C",
           "#32CD32",
           "#00CED1",
           "#7FFFD4",
           "#FFB6C1",
           "#E6E6FA",
           "#D8BFD8",
           "#BA55D3",
           "#87CEFA",
           "#DC143C",
           "#FFD700",
           "#7B68EE",
           "#FF00FF",
           "#98FB98",
           "#5F9EA0",
           "#8B008B",
           "#CD5C5C",
           "#F0E68C",
           "#32CD32",
           "#00CED1",
           "#7FFFD4",
           "#FFB6C1",
           "#E6E6FA",
           "#D8BFD8",
           "#BA55D3",
           "#87CEFA",
           "#DC143C",
           "#FFD700",
           "#7B68EE",
           "#FF00FF",
           "#98FB98",
           "#5F9EA0",
           "#8B008B",
           "#CD5C5C",
           "#F0E68C",
           "#32CD32",
           "#00CED1",
           "#7FFFD4",
           "#FFB6C1",
           "#E6E6FA",
           "#D8BFD8",
           "#BA55D3",
           "#87CEFA",
           "#DC143C",
           "#FFD700",
           "#7B68EE",
           "#FF00FF",
           "#98FB98",
           "#5F9EA0",
           "#8B008B",
           "#CD5C5C",
           "#F0E68C",
           "#32CD32"
          ],
          "label": [
           "s__Clostridium_AQ innocuum",
           "f__Coriobacteriaceae",
           "f__Ruminococcaceae",
           "p__Actinobacteriota",
           "s__Collinsella sp900540945",
           "g__Pauljensenia",
           "f__Acutalibacteraceae",
           "s__Bifidobacterium dentium",
           "g__Hungatella",
           "g__Anaeroglobus",
           "p__Verrucomicrobiota",
           "g__Phocaeicola",
           "g__Sellimonas",
           "s__Anaerostipes hadrus_A",
           "g__Ruminococcus_B",
           "p__Proteobacteria",
           "g__Eubacterium",
           "s__Veillonella parvula_A",
           "s__Faecalibacterium prausnitzii_D",
           "s__Anaerobutyricum hallii",
           "s__Veillonella_A seminalis",
           "s__Eubacterium maltosivorans",
           "c__Coriobacteriia",
           "c__Verrucomicrobiae",
           "f__Lactobacillaceae",
           "s__Eggerthella lenta",
           "g__Anaerobutyricum",
           "s__Flavonifractor plautii",
           "s__Bifidobacterium longum",
           "s__",
           "o__Verrucomicrobiales",
           "g__Varibaculum",
           "p__Firmicutes_A",
           "g__Ruminococcus_E",
           "o__Lactobacillales",
           "s__Bifidobacterium pseudocatenulatum",
           "f__Veillonellaceae",
           "c__Clostridia",
           "g__Eggerthella",
           "f__Erysipelotrichaceae",
           "g__Bacteroides",
           "f__Enterococcaceae",
           "s__Sellimonas intestinalis",
           "s__Erysipelatoclostridium ramosum",
           "o__Veillonellales",
           "g__Enterobacter",
           "s__Bifidobacterium breve",
           "s__Enterococcus faecalis",
           "g__Veillonella_A",
           "s__Bifidobacterium catenulatum",
           "o__Erysipelotrichales",
           "s__Varibaculum cambriense",
           "s__Pauljensenia turicensis",
           "s__Phocaeicola vulgatus",
           "c__Actinomycetia",
           "s__Bacteroides sp902362375",
           "c__Bacilli",
           "f__Enterobacteriaceae",
           "g__Blautia_A",
           "g__Collinsella",
           "g__Veillonella",
           "d__Bacteria",
           "f__Lachnospiraceae",
           "g__Erysipelatoclostridium",
           "g__Faecalibacterium",
           "o__Lachnospirales",
           "s__Clostridium_Q symbiosum",
           "g__Clostridium_Q",
           "c__Bacteroidia",
           "f__Bifidobacteriaceae",
           "p__Firmicutes",
           "f__Eggerthellaceae",
           "f__Oscillospiraceae",
           "g__Flavonifractor",
           "c__Gammaproteobacteria",
           "o__Eubacteriales",
           "s__Blautia_A wexlerae",
           "c__Negativicutes",
           "f__Akkermansiaceae",
           "g__Enterocloster",
           "s__Faecalibacterium sp900539945",
           "o__Coriobacteriales",
           "f__Coprobacillaceae",
           "o__Oscillospirales",
           "g__Anaerostipes",
           "s__Ruminococcus_E bromii_B",
           "o__Actinomycetales",
           "s__Phocaeicola dorei",
           "g__Akkermansia",
           "g__Enterococcus_B",
           "f__Bacteroidaceae",
           "o__Bacteroidales",
           "g__Bifidobacterium",
           "s__Anaeroglobus micronuciformis",
           "s__Ruminococcus_B gnavus",
           "s__Enterococcus_B lactis",
           "g__Enterococcus",
           "s__Veillonella parvula",
           "g__Escherichia",
           "o__Enterobacterales",
           "s__Anaerostipes hadrus",
           "f__Megasphaeraceae",
           "s__Escherichia coli",
           "s__Enterocloster clostridioformis",
           "f__Actinomycetaceae",
           "s__Bacteroides uniformis",
           "g__Clostridium_AQ",
           "p__Bacteroidota",
           "s__Lacticaseibacillus rhamnosus",
           "f__Eubacteriaceae",
           "s__Hungatella effluvii",
           "p__Firmicutes_C",
           "s__Bacteroides fragilis",
           "s__Enterobacter ludwigii",
           "s__Akkermansia muciniphila_B",
           "g__Lacticaseibacillus"
          ],
          "line": {
           "color": "black",
           "width": 0.5
          },
          "pad": 20,
          "thickness": 30
         },
         "type": "sankey"
        }
       ],
       "layout": {
        "template": {
         "data": {
          "histogram2dcontour": [
           {
            "type": "histogram2dcontour",
            "colorbar": {
             "outlinewidth": 0,
             "ticks": ""
            },
            "colorscale": [
             [
              0,
              "#0d0887"
             ],
             [
              0.1111111111111111,
              "#46039f"
             ],
             [
              0.2222222222222222,
              "#7201a8"
             ],
             [
              0.3333333333333333,
              "#9c179e"
             ],
             [
              0.4444444444444444,
              "#bd3786"
             ],
             [
              0.5555555555555556,
              "#d8576b"
             ],
             [
              0.6666666666666666,
              "#ed7953"
             ],
             [
              0.7777777777777778,
              "#fb9f3a"
             ],
             [
              0.8888888888888888,
              "#fdca26"
             ],
             [
              1,
              "#f0f921"
             ]
            ]
           }
          ],
          "choropleth": [
           {
            "type": "choropleth",
            "colorbar": {
             "outlinewidth": 0,
             "ticks": ""
            }
           }
          ],
          "histogram2d": [
           {
            "type": "histogram2d",
            "colorbar": {
             "outlinewidth": 0,
             "ticks": ""
            },
            "colorscale": [
             [
              0,
              "#0d0887"
             ],
             [
              0.1111111111111111,
              "#46039f"
             ],
             [
              0.2222222222222222,
              "#7201a8"
             ],
             [
              0.3333333333333333,
              "#9c179e"
             ],
             [
              0.4444444444444444,
              "#bd3786"
             ],
             [
              0.5555555555555556,
              "#d8576b"
             ],
             [
              0.6666666666666666,
              "#ed7953"
             ],
             [
              0.7777777777777778,
              "#fb9f3a"
             ],
             [
              0.8888888888888888,
              "#fdca26"
             ],
             [
              1,
              "#f0f921"
             ]
            ]
           }
          ],
          "heatmap": [
           {
            "type": "heatmap",
            "colorbar": {
             "outlinewidth": 0,
             "ticks": ""
            },
            "colorscale": [
             [
              0,
              "#0d0887"
             ],
             [
              0.1111111111111111,
              "#46039f"
             ],
             [
              0.2222222222222222,
              "#7201a8"
             ],
             [
              0.3333333333333333,
              "#9c179e"
             ],
             [
              0.4444444444444444,
              "#bd3786"
             ],
             [
              0.5555555555555556,
              "#d8576b"
             ],
             [
              0.6666666666666666,
              "#ed7953"
             ],
             [
              0.7777777777777778,
              "#fb9f3a"
             ],
             [
              0.8888888888888888,
              "#fdca26"
             ],
             [
              1,
              "#f0f921"
             ]
            ]
           }
          ],
          "heatmapgl": [
           {
            "type": "heatmapgl",
            "colorbar": {
             "outlinewidth": 0,
             "ticks": ""
            },
            "colorscale": [
             [
              0,
              "#0d0887"
             ],
             [
              0.1111111111111111,
              "#46039f"
             ],
             [
              0.2222222222222222,
              "#7201a8"
             ],
             [
              0.3333333333333333,
              "#9c179e"
             ],
             [
              0.4444444444444444,
              "#bd3786"
             ],
             [
              0.5555555555555556,
              "#d8576b"
             ],
             [
              0.6666666666666666,
              "#ed7953"
             ],
             [
              0.7777777777777778,
              "#fb9f3a"
             ],
             [
              0.8888888888888888,
              "#fdca26"
             ],
             [
              1,
              "#f0f921"
             ]
            ]
           }
          ],
          "contourcarpet": [
           {
            "type": "contourcarpet",
            "colorbar": {
             "outlinewidth": 0,
             "ticks": ""
            }
           }
          ],
          "contour": [
           {
            "type": "contour",
            "colorbar": {
             "outlinewidth": 0,
             "ticks": ""
            },
            "colorscale": [
             [
              0,
              "#0d0887"
             ],
             [
              0.1111111111111111,
              "#46039f"
             ],
             [
              0.2222222222222222,
              "#7201a8"
             ],
             [
              0.3333333333333333,
              "#9c179e"
             ],
             [
              0.4444444444444444,
              "#bd3786"
             ],
             [
              0.5555555555555556,
              "#d8576b"
             ],
             [
              0.6666666666666666,
              "#ed7953"
             ],
             [
              0.7777777777777778,
              "#fb9f3a"
             ],
             [
              0.8888888888888888,
              "#fdca26"
             ],
             [
              1,
              "#f0f921"
             ]
            ]
           }
          ],
          "surface": [
           {
            "type": "surface",
            "colorbar": {
             "outlinewidth": 0,
             "ticks": ""
            },
            "colorscale": [
             [
              0,
              "#0d0887"
             ],
             [
              0.1111111111111111,
              "#46039f"
             ],
             [
              0.2222222222222222,
              "#7201a8"
             ],
             [
              0.3333333333333333,
              "#9c179e"
             ],
             [
              0.4444444444444444,
              "#bd3786"
             ],
             [
              0.5555555555555556,
              "#d8576b"
             ],
             [
              0.6666666666666666,
              "#ed7953"
             ],
             [
              0.7777777777777778,
              "#fb9f3a"
             ],
             [
              0.8888888888888888,
              "#fdca26"
             ],
             [
              1,
              "#f0f921"
             ]
            ]
           }
          ],
          "mesh3d": [
           {
            "type": "mesh3d",
            "colorbar": {
             "outlinewidth": 0,
             "ticks": ""
            }
           }
          ],
          "scatter": [
           {
            "fillpattern": {
             "fillmode": "overlay",
             "size": 10,
             "solidity": 0.2
            },
            "type": "scatter"
           }
          ],
          "parcoords": [
           {
            "type": "parcoords",
            "line": {
             "colorbar": {
              "outlinewidth": 0,
              "ticks": ""
             }
            }
           }
          ],
          "scatterpolargl": [
           {
            "type": "scatterpolargl",
            "marker": {
             "colorbar": {
              "outlinewidth": 0,
              "ticks": ""
             }
            }
           }
          ],
          "bar": [
           {
            "error_x": {
             "color": "#2a3f5f"
            },
            "error_y": {
             "color": "#2a3f5f"
            },
            "marker": {
             "line": {
              "color": "#E5ECF6",
              "width": 0.5
             },
             "pattern": {
              "fillmode": "overlay",
              "size": 10,
              "solidity": 0.2
             }
            },
            "type": "bar"
           }
          ],
          "scattergeo": [
           {
            "type": "scattergeo",
            "marker": {
             "colorbar": {
              "outlinewidth": 0,
              "ticks": ""
             }
            }
           }
          ],
          "scatterpolar": [
           {
            "type": "scatterpolar",
            "marker": {
             "colorbar": {
              "outlinewidth": 0,
              "ticks": ""
             }
            }
           }
          ],
          "histogram": [
           {
            "marker": {
             "pattern": {
              "fillmode": "overlay",
              "size": 10,
              "solidity": 0.2
             }
            },
            "type": "histogram"
           }
          ],
          "scattergl": [
           {
            "type": "scattergl",
            "marker": {
             "colorbar": {
              "outlinewidth": 0,
              "ticks": ""
             }
            }
           }
          ],
          "scatter3d": [
           {
            "type": "scatter3d",
            "line": {
             "colorbar": {
              "outlinewidth": 0,
              "ticks": ""
             }
            },
            "marker": {
             "colorbar": {
              "outlinewidth": 0,
              "ticks": ""
             }
            }
           }
          ],
          "scattermapbox": [
           {
            "type": "scattermapbox",
            "marker": {
             "colorbar": {
              "outlinewidth": 0,
              "ticks": ""
             }
            }
           }
          ],
          "scatterternary": [
           {
            "type": "scatterternary",
            "marker": {
             "colorbar": {
              "outlinewidth": 0,
              "ticks": ""
             }
            }
           }
          ],
          "scattercarpet": [
           {
            "type": "scattercarpet",
            "marker": {
             "colorbar": {
              "outlinewidth": 0,
              "ticks": ""
             }
            }
           }
          ],
          "carpet": [
           {
            "aaxis": {
             "endlinecolor": "#2a3f5f",
             "gridcolor": "white",
             "linecolor": "white",
             "minorgridcolor": "white",
             "startlinecolor": "#2a3f5f"
            },
            "baxis": {
             "endlinecolor": "#2a3f5f",
             "gridcolor": "white",
             "linecolor": "white",
             "minorgridcolor": "white",
             "startlinecolor": "#2a3f5f"
            },
            "type": "carpet"
           }
          ],
          "table": [
           {
            "cells": {
             "fill": {
              "color": "#EBF0F8"
             },
             "line": {
              "color": "white"
             }
            },
            "header": {
             "fill": {
              "color": "#C8D4E3"
             },
             "line": {
              "color": "white"
             }
            },
            "type": "table"
           }
          ],
          "barpolar": [
           {
            "marker": {
             "line": {
              "color": "#E5ECF6",
              "width": 0.5
             },
             "pattern": {
              "fillmode": "overlay",
              "size": 10,
              "solidity": 0.2
             }
            },
            "type": "barpolar"
           }
          ],
          "pie": [
           {
            "automargin": true,
            "type": "pie"
           }
          ]
         },
         "layout": {
          "autotypenumbers": "strict",
          "colorway": [
           "#636efa",
           "#EF553B",
           "#00cc96",
           "#ab63fa",
           "#FFA15A",
           "#19d3f3",
           "#FF6692",
           "#B6E880",
           "#FF97FF",
           "#FECB52"
          ],
          "font": {
           "color": "#2a3f5f"
          },
          "hovermode": "closest",
          "hoverlabel": {
           "align": "left"
          },
          "paper_bgcolor": "white",
          "plot_bgcolor": "#E5ECF6",
          "polar": {
           "bgcolor": "#E5ECF6",
           "angularaxis": {
            "gridcolor": "white",
            "linecolor": "white",
            "ticks": ""
           },
           "radialaxis": {
            "gridcolor": "white",
            "linecolor": "white",
            "ticks": ""
           }
          },
          "ternary": {
           "bgcolor": "#E5ECF6",
           "aaxis": {
            "gridcolor": "white",
            "linecolor": "white",
            "ticks": ""
           },
           "baxis": {
            "gridcolor": "white",
            "linecolor": "white",
            "ticks": ""
           },
           "caxis": {
            "gridcolor": "white",
            "linecolor": "white",
            "ticks": ""
           }
          },
          "coloraxis": {
           "colorbar": {
            "outlinewidth": 0,
            "ticks": ""
           }
          },
          "colorscale": {
           "sequential": [
            [
             0,
             "#0d0887"
            ],
            [
             0.1111111111111111,
             "#46039f"
            ],
            [
             0.2222222222222222,
             "#7201a8"
            ],
            [
             0.3333333333333333,
             "#9c179e"
            ],
            [
             0.4444444444444444,
             "#bd3786"
            ],
            [
             0.5555555555555556,
             "#d8576b"
            ],
            [
             0.6666666666666666,
             "#ed7953"
            ],
            [
             0.7777777777777778,
             "#fb9f3a"
            ],
            [
             0.8888888888888888,
             "#fdca26"
            ],
            [
             1,
             "#f0f921"
            ]
           ],
           "sequentialminus": [
            [
             0,
             "#0d0887"
            ],
            [
             0.1111111111111111,
             "#46039f"
            ],
            [
             0.2222222222222222,
             "#7201a8"
            ],
            [
             0.3333333333333333,
             "#9c179e"
            ],
            [
             0.4444444444444444,
             "#bd3786"
            ],
            [
             0.5555555555555556,
             "#d8576b"
            ],
            [
             0.6666666666666666,
             "#ed7953"
            ],
            [
             0.7777777777777778,
             "#fb9f3a"
            ],
            [
             0.8888888888888888,
             "#fdca26"
            ],
            [
             1,
             "#f0f921"
            ]
           ],
           "diverging": [
            [
             0,
             "#8e0152"
            ],
            [
             0.1,
             "#c51b7d"
            ],
            [
             0.2,
             "#de77ae"
            ],
            [
             0.3,
             "#f1b6da"
            ],
            [
             0.4,
             "#fde0ef"
            ],
            [
             0.5,
             "#f7f7f7"
            ],
            [
             0.6,
             "#e6f5d0"
            ],
            [
             0.7,
             "#b8e186"
            ],
            [
             0.8,
             "#7fbc41"
            ],
            [
             0.9,
             "#4d9221"
            ],
            [
             1,
             "#276419"
            ]
           ]
          },
          "xaxis": {
           "gridcolor": "white",
           "linecolor": "white",
           "ticks": "",
           "title": {
            "standoff": 15
           },
           "zerolinecolor": "white",
           "automargin": true,
           "zerolinewidth": 2
          },
          "yaxis": {
           "gridcolor": "white",
           "linecolor": "white",
           "ticks": "",
           "title": {
            "standoff": 15
           },
           "zerolinecolor": "white",
           "automargin": true,
           "zerolinewidth": 2
          },
          "scene": {
           "xaxis": {
            "backgroundcolor": "#E5ECF6",
            "gridcolor": "white",
            "linecolor": "white",
            "showbackground": true,
            "ticks": "",
            "zerolinecolor": "white",
            "gridwidth": 2
           },
           "yaxis": {
            "backgroundcolor": "#E5ECF6",
            "gridcolor": "white",
            "linecolor": "white",
            "showbackground": true,
            "ticks": "",
            "zerolinecolor": "white",
            "gridwidth": 2
           },
           "zaxis": {
            "backgroundcolor": "#E5ECF6",
            "gridcolor": "white",
            "linecolor": "white",
            "showbackground": true,
            "ticks": "",
            "zerolinecolor": "white",
            "gridwidth": 2
           }
          },
          "shapedefaults": {
           "line": {
            "color": "#2a3f5f"
           }
          },
          "annotationdefaults": {
           "arrowcolor": "#2a3f5f",
           "arrowhead": 0,
           "arrowwidth": 1
          },
          "geo": {
           "bgcolor": "white",
           "landcolor": "#E5ECF6",
           "subunitcolor": "white",
           "showland": true,
           "showlakes": true,
           "lakecolor": "white"
          },
          "title": {
           "x": 0.05
          },
          "mapbox": {
           "style": "light"
          }
         }
        },
        "title": {
         "font": {
          "size": 20
         },
         "text": "Sankey Taxonomia 1 month"
        },
        "font": {
         "size": 12
        },
        "width": 4000,
        "height": 1000
       },
       "config": {
        "plotlyServerURL": "https://plot.ly"
       }
      }
     },
     "metadata": {}
    }
   ],
   "metadata": {}
  },
  {
   "cell_type": "code",
   "execution_count": 8,
   "source": [
    "plot_taxonomy_sankey(df_6month_tax2, 'Sankey Taxonomia 6 month',frequencias_tax_6month)"
   ],
   "outputs": [
    {
     "output_type": "display_data",
     "data": {
      "application/vnd.plotly.v1+json": {
       "data": [
        {
         "link": {
          "color": "#DCDCDC",
          "source": [
           45,
           1,
           37,
           64,
           79,
           63,
           45,
           1,
           37,
           64,
           49,
           69,
           45,
           1,
           37,
           0,
           14,
           71,
           45,
           7,
           56,
           74,
           41,
           39,
           45,
           50,
           40,
           19,
           54,
           18,
           45,
           50,
           40,
           16,
           59,
           10,
           45,
           7,
           56,
           74,
           41,
           39,
           45,
           1,
           37,
           64,
           79,
           76,
           45,
           17,
           23,
           47,
           46,
           42,
           45,
           1,
           9,
           61,
           51,
           26,
           45,
           7,
           56,
           74,
           41,
           73,
           45,
           1,
           37,
           64,
           49,
           69,
           45,
           50,
           40,
           19,
           11,
           87,
           45,
           1,
           37,
           64,
           49,
           69,
           45,
           50,
           40,
           19,
           27,
           72,
           45,
           7,
           56,
           74,
           41,
           39,
           45,
           7,
           56,
           74,
           41,
           73,
           45,
           82,
           48,
           68,
           67,
           3,
           45,
           17,
           23,
           47,
           46,
           6,
           45,
           50,
           40,
           19,
           27,
           72,
           45,
           1,
           37,
           64,
           49,
           69,
           45,
           50,
           40,
           19,
           54,
           18,
           45,
           50,
           40,
           19,
           54,
           18,
           45,
           1,
           37,
           64,
           49,
           69,
           45,
           50,
           40,
           19,
           11,
           87,
           45,
           82,
           48,
           68,
           67,
           28,
           45,
           1,
           37,
           0,
           14,
           71,
           45,
           1,
           37,
           64,
           49,
           69,
           45,
           1,
           9,
           61,
           51,
           26,
           45,
           82,
           48,
           68,
           67,
           28,
           45,
           7,
           56,
           74,
           41,
           73,
           45,
           1,
           9,
           61,
           51,
           26,
           45,
           1,
           37,
           64,
           49,
           69,
           45,
           1,
           37,
           64,
           49,
           69,
           45,
           50,
           40,
           19,
           11,
           77,
           45,
           1,
           37,
           64,
           49,
           69,
           45,
           50,
           40,
           19,
           11,
           87,
           45,
           82,
           48,
           68,
           67,
           28,
           45,
           7,
           56,
           74,
           41,
           73,
           45,
           84,
           58,
           30,
           21,
           34,
           45,
           82,
           48,
           68,
           67,
           3,
           45,
           82,
           48,
           68,
           67,
           28,
           45,
           1,
           37,
           64,
           49,
           69,
           45,
           7,
           56,
           74,
           41,
           52,
           45,
           1,
           37,
           64,
           79,
           60,
           45,
           82,
           48,
           68,
           67,
           28,
           45,
           17,
           23,
           62,
           53,
           55,
           45,
           1,
           37,
           64,
           49,
           69
          ],
          "target": [
           1,
           37,
           64,
           79,
           63,
           75,
           1,
           37,
           64,
           49,
           69,
           31,
           1,
           37,
           0,
           14,
           71,
           38,
           7,
           56,
           74,
           41,
           39,
           86,
           50,
           40,
           19,
           54,
           18,
           4,
           50,
           40,
           16,
           59,
           10,
           35,
           7,
           56,
           74,
           41,
           39,
           22,
           1,
           37,
           64,
           79,
           76,
           25,
           17,
           23,
           47,
           46,
           42,
           57,
           1,
           9,
           61,
           51,
           26,
           12,
           7,
           56,
           74,
           41,
           73,
           78,
           1,
           37,
           64,
           49,
           69,
           31,
           50,
           40,
           19,
           11,
           87,
           36,
           1,
           37,
           64,
           49,
           69,
           15,
           50,
           40,
           19,
           27,
           72,
           32,
           7,
           56,
           74,
           41,
           39,
           29,
           7,
           56,
           74,
           41,
           73,
           78,
           82,
           48,
           68,
           67,
           3,
           65,
           17,
           23,
           47,
           46,
           6,
           70,
           50,
           40,
           19,
           27,
           72,
           32,
           1,
           37,
           64,
           49,
           69,
           20,
           50,
           40,
           19,
           54,
           18,
           66,
           50,
           40,
           19,
           54,
           18,
           43,
           1,
           37,
           64,
           49,
           69,
           15,
           50,
           40,
           19,
           11,
           87,
           36,
           82,
           48,
           68,
           67,
           28,
           85,
           1,
           37,
           0,
           14,
           71,
           38,
           1,
           37,
           64,
           49,
           69,
           2,
           1,
           9,
           61,
           51,
           26,
           12,
           82,
           48,
           68,
           67,
           28,
           85,
           7,
           56,
           74,
           41,
           73,
           78,
           1,
           9,
           61,
           51,
           26,
           12,
           1,
           37,
           64,
           49,
           69,
           15,
           1,
           37,
           64,
           49,
           69,
           44,
           50,
           40,
           19,
           11,
           77,
           24,
           1,
           37,
           64,
           49,
           69,
           15,
           50,
           40,
           19,
           11,
           87,
           83,
           82,
           48,
           68,
           67,
           28,
           81,
           7,
           56,
           74,
           41,
           73,
           78,
           84,
           58,
           30,
           21,
           34,
           8,
           82,
           48,
           68,
           67,
           3,
           65,
           82,
           48,
           68,
           67,
           28,
           80,
           1,
           37,
           64,
           49,
           69,
           31,
           7,
           56,
           74,
           41,
           52,
           33,
           1,
           37,
           64,
           79,
           60,
           5,
           82,
           48,
           68,
           67,
           28,
           80,
           17,
           23,
           62,
           53,
           55,
           13,
           1,
           37,
           64,
           49,
           69,
           31
          ],
          "value": [
           48,
           48,
           48,
           48,
           48,
           48,
           48,
           48,
           48,
           48,
           48,
           48,
           48,
           48,
           48,
           48,
           48,
           48,
           48,
           48,
           48,
           48,
           48,
           48,
           48,
           48,
           48,
           48,
           48,
           48,
           48,
           48,
           48,
           48,
           48,
           48,
           48,
           48,
           48,
           48,
           48,
           48,
           48,
           48,
           48,
           48,
           48,
           48,
           19,
           19,
           19,
           8,
           10,
           10,
           8,
           19,
           3,
           19,
           8,
           19,
           10,
           19,
           10,
           8,
           8,
           7,
           3,
           10,
           19,
           10,
           10,
           19,
           10,
           7,
           19,
           19,
           19,
           7,
           8,
           19,
           19,
           19,
           10,
           19,
           10,
           7,
           8,
           1,
           7,
           7,
           19,
           8,
           19,
           7,
           3,
           19,
           16,
           16,
           16,
           8,
           10,
           10,
           8,
           16,
           3,
           3,
           8,
           16,
           10,
           16,
           10,
           8,
           8,
           7,
           3,
           10,
           16,
           10,
           10,
           16,
           10,
           7,
           16,
           16,
           3,
           7,
           8,
           3,
           16,
           16,
           10,
           16,
           10,
           7,
           8,
           1,
           7,
           7,
           16,
           8,
           16,
           7,
           3,
           16,
           14,
           14,
           2,
           8,
           9,
           1,
           8,
           14,
           2,
           3,
           8,
           14,
           9,
           14,
           9,
           8,
           8,
           7,
           2,
           9,
           14,
           9,
           9,
           14,
           9,
           7,
           2,
           14,
           3,
           7,
           8,
           3,
           14,
           14,
           9,
           14,
           9,
           7,
           8,
           1,
           7,
           7,
           14,
           8,
           14,
           7,
           1,
           14,
           3,
           11,
           2,
           8,
           3,
           1,
           8,
           3,
           2,
           3,
           8,
           11,
           4,
           11,
           2,
           8,
           8,
           7,
           2,
           2,
           11,
           3,
           3,
           11,
           4,
           7,
           2,
           11,
           3,
           7,
           8,
           3,
           11,
           11,
           4,
           11,
           4,
           7,
           8,
           1,
           7,
           7,
           11,
           8,
           3,
           7,
           1,
           11,
           1,
           11,
           2,
           3,
           3,
           1,
           3,
           1,
           1,
           3,
           4,
           11,
           3,
           11,
           2,
           3,
           4,
           2,
           1,
           2,
           11,
           3,
           3,
           11,
           3,
           5,
           2,
           11,
           3,
           5,
           4,
           3,
           11,
           11,
           1,
           11,
           3,
           5,
           4,
           1,
           2,
           5,
           11,
           1,
           1,
           5,
           1,
           11,
           1,
           4,
           2,
           1,
           1,
           1,
           1,
           1,
           1,
           3,
           4,
           4,
           2,
           4,
           2,
           1,
           4,
           2,
           1,
           2,
           1,
           1,
           1,
           4,
           2,
           2,
           2,
           1,
           3,
           2,
           4,
           3,
           4,
           1,
           1,
           4,
           1,
           1,
           4,
           1,
           2,
           2,
           4,
           1,
           1,
           2,
           1,
           4
          ]
         },
         "node": {
          "color": [
           "#00CED1",
           "#7FFFD4",
           "#FFB6C1",
           "#E6E6FA",
           "#D8BFD8",
           "#BA55D3",
           "#87CEFA",
           "#DC143C",
           "#FFD700",
           "#7B68EE",
           "#FF00FF",
           "#98FB98",
           "#5F9EA0",
           "#8B008B",
           "#CD5C5C",
           "#F0E68C",
           "#32CD32",
           "#00CED1",
           "#7FFFD4",
           "#FFB6C1",
           "#E6E6FA",
           "#D8BFD8",
           "#BA55D3",
           "#87CEFA",
           "#DC143C",
           "#FFD700",
           "#7B68EE",
           "#FF00FF",
           "#98FB98",
           "#5F9EA0",
           "#8B008B",
           "#CD5C5C",
           "#F0E68C",
           "#32CD32",
           "#00CED1",
           "#7FFFD4",
           "#FFB6C1",
           "#E6E6FA",
           "#D8BFD8",
           "#BA55D3",
           "#87CEFA",
           "#DC143C",
           "#FFD700",
           "#7B68EE",
           "#FF00FF",
           "#98FB98",
           "#5F9EA0",
           "#8B008B",
           "#CD5C5C",
           "#F0E68C",
           "#32CD32",
           "#00CED1",
           "#7FFFD4",
           "#FFB6C1",
           "#E6E6FA",
           "#D8BFD8",
           "#BA55D3",
           "#87CEFA",
           "#DC143C",
           "#FFD700",
           "#7B68EE",
           "#FF00FF",
           "#98FB98",
           "#5F9EA0",
           "#8B008B",
           "#CD5C5C",
           "#F0E68C",
           "#32CD32",
           "#00CED1",
           "#7FFFD4",
           "#FFB6C1",
           "#E6E6FA",
           "#D8BFD8",
           "#BA55D3",
           "#87CEFA",
           "#DC143C",
           "#FFD700",
           "#7B68EE",
           "#FF00FF",
           "#98FB98",
           "#5F9EA0",
           "#8B008B",
           "#CD5C5C",
           "#F0E68C",
           "#32CD32",
           "#00CED1",
           "#7FFFD4",
           "#FFB6C1",
           "#E6E6FA",
           "#D8BFD8",
           "#BA55D3",
           "#87CEFA",
           "#DC143C",
           "#FFD700",
           "#7B68EE",
           "#FF00FF",
           "#98FB98",
           "#5F9EA0",
           "#8B008B",
           "#CD5C5C",
           "#F0E68C",
           "#32CD32"
          ],
          "label": [
           "o__Propionibacteriales",
           "p__Actinobacteriota",
           "s__Bifidobacterium dentium",
           "g__Phocaeicola",
           "s__Streptococcus sp001556435",
           "s__Actinomyces urogenitalis",
           "g__Ruminococcus_B",
           "p__Proteobacteria",
           "s__Veillonella_A seminalis",
           "c__Coriobacteriia",
           "g__Staphylococcus",
           "f__Lactobacillaceae",
           "s__Eggerthella lenta",
           "s__Flavonifractor plautii",
           "f__Propionibacteriaceae",
           "s__Bifidobacterium longum",
           "o__Staphylococcales",
           "p__Firmicutes_A",
           "g__Streptococcus",
           "o__Lactobacillales",
           "s__Bifidobacterium pseudocatenulatum",
           "f__Veillonellaceae",
           "s__Klebsiella aerogenes",
           "c__Clostridia",
           "s__Lactobacillus gasseri",
           "s__Winkia sp002849225",
           "g__Eggerthella",
           "f__Enterococcaceae",
           "g__Bacteroides",
           "s__Klebsiella michiganensis",
           "o__Veillonellales",
           "s__Bifidobacterium breve",
           "s__Enterococcus faecalis",
           "s__Citrobacter_B koseri",
           "g__Veillonella_A",
           "s__Staphylococcus lugdunensis",
           "s__Lacticaseibacillus paracasei",
           "c__Actinomycetia",
           "s__Cutibacterium avidum",
           "g__Klebsiella",
           "c__Bacilli",
           "f__Enterobacteriaceae",
           "g__Blautia_A",
           "s__Streptococcus sp900766505",
           "s__Bifidobacterium bifidum",
           "d__Bacteria",
           "f__Lachnospiraceae",
           "o__Lachnospirales",
           "c__Bacteroidia",
           "f__Bifidobacteriaceae",
           "p__Firmicutes",
           "f__Eggerthellaceae",
           "g__Citrobacter_B",
           "f__Oscillospiraceae",
           "f__Streptococcaceae",
           "g__Flavonifractor",
           "c__Gammaproteobacteria",
           "s__Blautia_A wexlerae",
           "c__Negativicutes",
           "f__Staphylococcaceae",
           "g__Actinomyces",
           "o__Coriobacteriales",
           "o__Oscillospirales",
           "g__Actinobaculum",
           "o__Actinomycetales",
           "s__Phocaeicola dorei",
           "s__Streptococcus salivarius",
           "f__Bacteroidaceae",
           "o__Bacteroidales",
           "g__Bifidobacterium",
           "s__Ruminococcus_B gnavus",
           "g__Cutibacterium",
           "g__Enterococcus",
           "g__Escherichia",
           "o__Enterobacterales",
           "s__Actinobaculum massiliense",
           "g__Winkia",
           "g__Lactobacillus",
           "s__Escherichia coli",
           "f__Actinomycetaceae",
           "s__Bacteroides uniformis",
           "s__Bacteroides thetaiotaomicron",
           "p__Bacteroidota",
           "s__Lacticaseibacillus rhamnosus",
           "p__Firmicutes_C",
           "s__Bacteroides fragilis",
           "s__Klebsiella oxytoca",
           "g__Lacticaseibacillus"
          ],
          "line": {
           "color": "black",
           "width": 0.5
          },
          "pad": 20,
          "thickness": 30
         },
         "type": "sankey"
        }
       ],
       "layout": {
        "template": {
         "data": {
          "histogram2dcontour": [
           {
            "type": "histogram2dcontour",
            "colorbar": {
             "outlinewidth": 0,
             "ticks": ""
            },
            "colorscale": [
             [
              0,
              "#0d0887"
             ],
             [
              0.1111111111111111,
              "#46039f"
             ],
             [
              0.2222222222222222,
              "#7201a8"
             ],
             [
              0.3333333333333333,
              "#9c179e"
             ],
             [
              0.4444444444444444,
              "#bd3786"
             ],
             [
              0.5555555555555556,
              "#d8576b"
             ],
             [
              0.6666666666666666,
              "#ed7953"
             ],
             [
              0.7777777777777778,
              "#fb9f3a"
             ],
             [
              0.8888888888888888,
              "#fdca26"
             ],
             [
              1,
              "#f0f921"
             ]
            ]
           }
          ],
          "choropleth": [
           {
            "type": "choropleth",
            "colorbar": {
             "outlinewidth": 0,
             "ticks": ""
            }
           }
          ],
          "histogram2d": [
           {
            "type": "histogram2d",
            "colorbar": {
             "outlinewidth": 0,
             "ticks": ""
            },
            "colorscale": [
             [
              0,
              "#0d0887"
             ],
             [
              0.1111111111111111,
              "#46039f"
             ],
             [
              0.2222222222222222,
              "#7201a8"
             ],
             [
              0.3333333333333333,
              "#9c179e"
             ],
             [
              0.4444444444444444,
              "#bd3786"
             ],
             [
              0.5555555555555556,
              "#d8576b"
             ],
             [
              0.6666666666666666,
              "#ed7953"
             ],
             [
              0.7777777777777778,
              "#fb9f3a"
             ],
             [
              0.8888888888888888,
              "#fdca26"
             ],
             [
              1,
              "#f0f921"
             ]
            ]
           }
          ],
          "heatmap": [
           {
            "type": "heatmap",
            "colorbar": {
             "outlinewidth": 0,
             "ticks": ""
            },
            "colorscale": [
             [
              0,
              "#0d0887"
             ],
             [
              0.1111111111111111,
              "#46039f"
             ],
             [
              0.2222222222222222,
              "#7201a8"
             ],
             [
              0.3333333333333333,
              "#9c179e"
             ],
             [
              0.4444444444444444,
              "#bd3786"
             ],
             [
              0.5555555555555556,
              "#d8576b"
             ],
             [
              0.6666666666666666,
              "#ed7953"
             ],
             [
              0.7777777777777778,
              "#fb9f3a"
             ],
             [
              0.8888888888888888,
              "#fdca26"
             ],
             [
              1,
              "#f0f921"
             ]
            ]
           }
          ],
          "heatmapgl": [
           {
            "type": "heatmapgl",
            "colorbar": {
             "outlinewidth": 0,
             "ticks": ""
            },
            "colorscale": [
             [
              0,
              "#0d0887"
             ],
             [
              0.1111111111111111,
              "#46039f"
             ],
             [
              0.2222222222222222,
              "#7201a8"
             ],
             [
              0.3333333333333333,
              "#9c179e"
             ],
             [
              0.4444444444444444,
              "#bd3786"
             ],
             [
              0.5555555555555556,
              "#d8576b"
             ],
             [
              0.6666666666666666,
              "#ed7953"
             ],
             [
              0.7777777777777778,
              "#fb9f3a"
             ],
             [
              0.8888888888888888,
              "#fdca26"
             ],
             [
              1,
              "#f0f921"
             ]
            ]
           }
          ],
          "contourcarpet": [
           {
            "type": "contourcarpet",
            "colorbar": {
             "outlinewidth": 0,
             "ticks": ""
            }
           }
          ],
          "contour": [
           {
            "type": "contour",
            "colorbar": {
             "outlinewidth": 0,
             "ticks": ""
            },
            "colorscale": [
             [
              0,
              "#0d0887"
             ],
             [
              0.1111111111111111,
              "#46039f"
             ],
             [
              0.2222222222222222,
              "#7201a8"
             ],
             [
              0.3333333333333333,
              "#9c179e"
             ],
             [
              0.4444444444444444,
              "#bd3786"
             ],
             [
              0.5555555555555556,
              "#d8576b"
             ],
             [
              0.6666666666666666,
              "#ed7953"
             ],
             [
              0.7777777777777778,
              "#fb9f3a"
             ],
             [
              0.8888888888888888,
              "#fdca26"
             ],
             [
              1,
              "#f0f921"
             ]
            ]
           }
          ],
          "surface": [
           {
            "type": "surface",
            "colorbar": {
             "outlinewidth": 0,
             "ticks": ""
            },
            "colorscale": [
             [
              0,
              "#0d0887"
             ],
             [
              0.1111111111111111,
              "#46039f"
             ],
             [
              0.2222222222222222,
              "#7201a8"
             ],
             [
              0.3333333333333333,
              "#9c179e"
             ],
             [
              0.4444444444444444,
              "#bd3786"
             ],
             [
              0.5555555555555556,
              "#d8576b"
             ],
             [
              0.6666666666666666,
              "#ed7953"
             ],
             [
              0.7777777777777778,
              "#fb9f3a"
             ],
             [
              0.8888888888888888,
              "#fdca26"
             ],
             [
              1,
              "#f0f921"
             ]
            ]
           }
          ],
          "mesh3d": [
           {
            "type": "mesh3d",
            "colorbar": {
             "outlinewidth": 0,
             "ticks": ""
            }
           }
          ],
          "scatter": [
           {
            "fillpattern": {
             "fillmode": "overlay",
             "size": 10,
             "solidity": 0.2
            },
            "type": "scatter"
           }
          ],
          "parcoords": [
           {
            "type": "parcoords",
            "line": {
             "colorbar": {
              "outlinewidth": 0,
              "ticks": ""
             }
            }
           }
          ],
          "scatterpolargl": [
           {
            "type": "scatterpolargl",
            "marker": {
             "colorbar": {
              "outlinewidth": 0,
              "ticks": ""
             }
            }
           }
          ],
          "bar": [
           {
            "error_x": {
             "color": "#2a3f5f"
            },
            "error_y": {
             "color": "#2a3f5f"
            },
            "marker": {
             "line": {
              "color": "#E5ECF6",
              "width": 0.5
             },
             "pattern": {
              "fillmode": "overlay",
              "size": 10,
              "solidity": 0.2
             }
            },
            "type": "bar"
           }
          ],
          "scattergeo": [
           {
            "type": "scattergeo",
            "marker": {
             "colorbar": {
              "outlinewidth": 0,
              "ticks": ""
             }
            }
           }
          ],
          "scatterpolar": [
           {
            "type": "scatterpolar",
            "marker": {
             "colorbar": {
              "outlinewidth": 0,
              "ticks": ""
             }
            }
           }
          ],
          "histogram": [
           {
            "marker": {
             "pattern": {
              "fillmode": "overlay",
              "size": 10,
              "solidity": 0.2
             }
            },
            "type": "histogram"
           }
          ],
          "scattergl": [
           {
            "type": "scattergl",
            "marker": {
             "colorbar": {
              "outlinewidth": 0,
              "ticks": ""
             }
            }
           }
          ],
          "scatter3d": [
           {
            "type": "scatter3d",
            "line": {
             "colorbar": {
              "outlinewidth": 0,
              "ticks": ""
             }
            },
            "marker": {
             "colorbar": {
              "outlinewidth": 0,
              "ticks": ""
             }
            }
           }
          ],
          "scattermapbox": [
           {
            "type": "scattermapbox",
            "marker": {
             "colorbar": {
              "outlinewidth": 0,
              "ticks": ""
             }
            }
           }
          ],
          "scatterternary": [
           {
            "type": "scatterternary",
            "marker": {
             "colorbar": {
              "outlinewidth": 0,
              "ticks": ""
             }
            }
           }
          ],
          "scattercarpet": [
           {
            "type": "scattercarpet",
            "marker": {
             "colorbar": {
              "outlinewidth": 0,
              "ticks": ""
             }
            }
           }
          ],
          "carpet": [
           {
            "aaxis": {
             "endlinecolor": "#2a3f5f",
             "gridcolor": "white",
             "linecolor": "white",
             "minorgridcolor": "white",
             "startlinecolor": "#2a3f5f"
            },
            "baxis": {
             "endlinecolor": "#2a3f5f",
             "gridcolor": "white",
             "linecolor": "white",
             "minorgridcolor": "white",
             "startlinecolor": "#2a3f5f"
            },
            "type": "carpet"
           }
          ],
          "table": [
           {
            "cells": {
             "fill": {
              "color": "#EBF0F8"
             },
             "line": {
              "color": "white"
             }
            },
            "header": {
             "fill": {
              "color": "#C8D4E3"
             },
             "line": {
              "color": "white"
             }
            },
            "type": "table"
           }
          ],
          "barpolar": [
           {
            "marker": {
             "line": {
              "color": "#E5ECF6",
              "width": 0.5
             },
             "pattern": {
              "fillmode": "overlay",
              "size": 10,
              "solidity": 0.2
             }
            },
            "type": "barpolar"
           }
          ],
          "pie": [
           {
            "automargin": true,
            "type": "pie"
           }
          ]
         },
         "layout": {
          "autotypenumbers": "strict",
          "colorway": [
           "#636efa",
           "#EF553B",
           "#00cc96",
           "#ab63fa",
           "#FFA15A",
           "#19d3f3",
           "#FF6692",
           "#B6E880",
           "#FF97FF",
           "#FECB52"
          ],
          "font": {
           "color": "#2a3f5f"
          },
          "hovermode": "closest",
          "hoverlabel": {
           "align": "left"
          },
          "paper_bgcolor": "white",
          "plot_bgcolor": "#E5ECF6",
          "polar": {
           "bgcolor": "#E5ECF6",
           "angularaxis": {
            "gridcolor": "white",
            "linecolor": "white",
            "ticks": ""
           },
           "radialaxis": {
            "gridcolor": "white",
            "linecolor": "white",
            "ticks": ""
           }
          },
          "ternary": {
           "bgcolor": "#E5ECF6",
           "aaxis": {
            "gridcolor": "white",
            "linecolor": "white",
            "ticks": ""
           },
           "baxis": {
            "gridcolor": "white",
            "linecolor": "white",
            "ticks": ""
           },
           "caxis": {
            "gridcolor": "white",
            "linecolor": "white",
            "ticks": ""
           }
          },
          "coloraxis": {
           "colorbar": {
            "outlinewidth": 0,
            "ticks": ""
           }
          },
          "colorscale": {
           "sequential": [
            [
             0,
             "#0d0887"
            ],
            [
             0.1111111111111111,
             "#46039f"
            ],
            [
             0.2222222222222222,
             "#7201a8"
            ],
            [
             0.3333333333333333,
             "#9c179e"
            ],
            [
             0.4444444444444444,
             "#bd3786"
            ],
            [
             0.5555555555555556,
             "#d8576b"
            ],
            [
             0.6666666666666666,
             "#ed7953"
            ],
            [
             0.7777777777777778,
             "#fb9f3a"
            ],
            [
             0.8888888888888888,
             "#fdca26"
            ],
            [
             1,
             "#f0f921"
            ]
           ],
           "sequentialminus": [
            [
             0,
             "#0d0887"
            ],
            [
             0.1111111111111111,
             "#46039f"
            ],
            [
             0.2222222222222222,
             "#7201a8"
            ],
            [
             0.3333333333333333,
             "#9c179e"
            ],
            [
             0.4444444444444444,
             "#bd3786"
            ],
            [
             0.5555555555555556,
             "#d8576b"
            ],
            [
             0.6666666666666666,
             "#ed7953"
            ],
            [
             0.7777777777777778,
             "#fb9f3a"
            ],
            [
             0.8888888888888888,
             "#fdca26"
            ],
            [
             1,
             "#f0f921"
            ]
           ],
           "diverging": [
            [
             0,
             "#8e0152"
            ],
            [
             0.1,
             "#c51b7d"
            ],
            [
             0.2,
             "#de77ae"
            ],
            [
             0.3,
             "#f1b6da"
            ],
            [
             0.4,
             "#fde0ef"
            ],
            [
             0.5,
             "#f7f7f7"
            ],
            [
             0.6,
             "#e6f5d0"
            ],
            [
             0.7,
             "#b8e186"
            ],
            [
             0.8,
             "#7fbc41"
            ],
            [
             0.9,
             "#4d9221"
            ],
            [
             1,
             "#276419"
            ]
           ]
          },
          "xaxis": {
           "gridcolor": "white",
           "linecolor": "white",
           "ticks": "",
           "title": {
            "standoff": 15
           },
           "zerolinecolor": "white",
           "automargin": true,
           "zerolinewidth": 2
          },
          "yaxis": {
           "gridcolor": "white",
           "linecolor": "white",
           "ticks": "",
           "title": {
            "standoff": 15
           },
           "zerolinecolor": "white",
           "automargin": true,
           "zerolinewidth": 2
          },
          "scene": {
           "xaxis": {
            "backgroundcolor": "#E5ECF6",
            "gridcolor": "white",
            "linecolor": "white",
            "showbackground": true,
            "ticks": "",
            "zerolinecolor": "white",
            "gridwidth": 2
           },
           "yaxis": {
            "backgroundcolor": "#E5ECF6",
            "gridcolor": "white",
            "linecolor": "white",
            "showbackground": true,
            "ticks": "",
            "zerolinecolor": "white",
            "gridwidth": 2
           },
           "zaxis": {
            "backgroundcolor": "#E5ECF6",
            "gridcolor": "white",
            "linecolor": "white",
            "showbackground": true,
            "ticks": "",
            "zerolinecolor": "white",
            "gridwidth": 2
           }
          },
          "shapedefaults": {
           "line": {
            "color": "#2a3f5f"
           }
          },
          "annotationdefaults": {
           "arrowcolor": "#2a3f5f",
           "arrowhead": 0,
           "arrowwidth": 1
          },
          "geo": {
           "bgcolor": "white",
           "landcolor": "#E5ECF6",
           "subunitcolor": "white",
           "showland": true,
           "showlakes": true,
           "lakecolor": "white"
          },
          "title": {
           "x": 0.05
          },
          "mapbox": {
           "style": "light"
          }
         }
        },
        "title": {
         "font": {
          "size": 20
         },
         "text": "Sankey Taxonomia 6 month"
        },
        "font": {
         "size": 12
        },
        "width": 4000,
        "height": 1000
       },
       "config": {
        "plotlyServerURL": "https://plot.ly"
       }
      }
     },
     "metadata": {}
    }
   ],
   "metadata": {}
  },
  {
   "cell_type": "markdown",
   "source": [
    "# Organizando Dados de Abundância 🗃️"
   ],
   "metadata": {}
  },
  {
   "cell_type": "code",
   "execution_count": 169,
   "source": [
    "df_filo_abundancia_1month =  df_1month_tax2[\"Filo\"].value_counts().rename_axis('Filos').reset_index(name='Contagem')\r\n",
    "df_filo_abundancia_6month =  df_6month_tax2[\"Filo\"].value_counts().rename_axis('Filos').reset_index(name='Contagem')\r\n",
    "df_filo_abundancia = pd.merge(df_filo_abundancia_1month, df_filo_abundancia_6month, on='Filos', how='outer')\r\n",
    "\r\n",
    "df_filo_abundancia.fillna(0, inplace=True)\r\n",
    "df_filo_abundancia.rename(columns={'Contagem_x': '1 month', 'Contagem_y': '6 month'}, inplace=True)\r\n",
    "#df_filo_abundancia"
   ],
   "outputs": [],
   "metadata": {}
  },
  {
   "cell_type": "code",
   "execution_count": 186,
   "source": [
    "df_genero_abundancia_1month =  df_1month_tax2[\"Gênero\"].value_counts().rename_axis('Gêneros').reset_index(name='Contagem')\r\n",
    "df_genero_abundancia_6month =  df_6month_tax2[\"Gênero\"].value_counts().rename_axis('Gêneros').reset_index(name='Contagem')\r\n",
    "df_genero_abundancia = pd.merge(df_genero_abundancia_1month, df_genero_abundancia_6month, on='Gêneros', how='outer')\r\n",
    "\r\n",
    "df_genero_abundancia.fillna(0, inplace=True)\r\n",
    "df_genero_abundancia.rename(columns={'Contagem_x': '1 month', 'Contagem_y': '6 month'}, inplace=True)\r\n",
    "#df_genero_abundancia"
   ],
   "outputs": [],
   "metadata": {}
  },
  {
   "cell_type": "code",
   "execution_count": 103,
   "source": [
    "df_especie_abundancia_1month =  df_1month_tax2[\"Espécie\"].value_counts().rename_axis('Espécies').reset_index(name='Contagem')\r\n",
    "df_especie_abundancia_6month =  df_6month_tax2[\"Espécie\"].value_counts().rename_axis('Espécies').reset_index(name='Contagem')\r\n",
    "df_especie_abundancia = pd.merge(df_especie_abundancia_1month, df_especie_abundancia_6month, on='Espécies', how='outer')\r\n",
    "\r\n",
    "df_especie_abundancia.fillna(0, inplace=True)\r\n",
    "df_especie_abundancia.rename(columns={'Contagem_x': '1 month', 'Contagem_y': '6 month'}, inplace=True)\r\n",
    "#df_especie_abundancia"
   ],
   "outputs": [],
   "metadata": {}
  },
  {
   "cell_type": "code",
   "execution_count": 104,
   "source": [
    "df_ordem_abundancia_1month = df_1month_tax2[\"Ordem\"].value_counts().rename_axis('Ordens').reset_index(name='Contagem')\r\n",
    "df_ordem_abundancia_6month =  df_6month_tax2[\"Ordem\"].value_counts().rename_axis('Ordens').reset_index(name='Contagem')\r\n",
    "df_ordem_abundancia = pd.merge(df_ordem_abundancia_1month, df_ordem_abundancia_6month, on='Ordens', how='outer')\r\n",
    "\r\n",
    "df_ordem_abundancia.fillna(0, inplace=True)\r\n",
    "df_ordem_abundancia.rename(columns={'Contagem_x': '1 month', 'Contagem_y': '6 month'}, inplace=True)\r\n",
    "#df_ordem_abundancia"
   ],
   "outputs": [],
   "metadata": {}
  },
  {
   "cell_type": "markdown",
   "source": [
    "## Representação dos dados de taxonomia em Gráficos de Barras 📊"
   ],
   "metadata": {}
  },
  {
   "cell_type": "code",
   "execution_count": 120,
   "source": [
    "# Definir a coluna 'Filos' como índice\r\n",
    "df_filo_abundancia.set_index('Filos', inplace=True)\r\n",
    "\r\n",
    "# Transpor o DataFrame\r\n",
    "df_filo_abundancia_t = df_filo_abundancia.T\r\n",
    "\r\n",
    "# Criar o gráfico de barras empilhadas\r\n",
    "ax1 = df_filo_abundancia_t.plot(kind='bar', stacked=True, figsize=(10, 7), cmap='Pastel1', fontsize=14)\r\n",
    "\r\n",
    "# Adicionar título e rótulos aos eixos\r\n",
    "ax1.set_title('Abundância de Filos', fontsize=14)\r\n",
    "ax1.set_ylabel('Abundância', fontsize=14)\r\n",
    "\r\n",
    "# Adicionar legenda\r\n",
    "plt.legend(title='Filo', bbox_to_anchor=(1.05, 1), loc='upper left', fontsize=14)\r\n",
    "\r\n",
    "# Exibir o gráfico\r\n",
    "plt.tight_layout()\r\n",
    "\r\n",
    "plt.savefig('abund_filo.png')\r\n",
    "plt.show()"
   ],
   "outputs": [
    {
     "output_type": "display_data",
     "data": {
      "image/png": "[encoded data removed]",
      "text/plain": [
       "<Figure size 720x504 with 1 Axes>"
      ]
     },
     "metadata": {}
    }
   ],
   "metadata": {}
  },
  {
   "cell_type": "code",
   "execution_count": 121,
   "source": [
    "# Definir a coluna 'Ordens' como índice\r\n",
    "df_ordem_abundancia.set_index('Ordens', inplace=True)\r\n",
    "\r\n",
    "# Transpor o DataFrame \r\n",
    "df_ordem_abundancia_t = df_ordem_abundancia.T\r\n",
    "\r\n",
    "# Criar o gráfico de barras empilhadas\r\n",
    "ax1 = df_ordem_abundancia_t.plot(kind='bar', stacked=True, figsize=(10, 7), cmap='Pastel1', fontsize=14)\r\n",
    "\r\n",
    "# Adicionar título e rótulos aos eixos\r\n",
    "ax1.set_title('Abundância de Ordens', fontsize=14)\r\n",
    "ax1.set_ylabel('Abundância', fontsize=14)\r\n",
    "\r\n",
    "# Adicionar legenda\r\n",
    "plt.legend(title='Ordem', bbox_to_anchor=(1.05, 1), loc='upper left', fontsize=14)\r\n",
    "\r\n",
    "# Exibir o gráfico\r\n",
    "plt.tight_layout()\r\n",
    "\r\n",
    "plt.savefig('abund_ordem.png')\r\n",
    "plt.show()"
   ],
   "outputs": [
    {
     "output_type": "display_data",
     "data": {
      "image/png": "[encoded data removed]",
      "text/plain": [
       "<Figure size 720x504 with 1 Axes>"
      ]
     },
     "metadata": {}
    }
   ],
   "metadata": {}
  },
  {
   "cell_type": "code",
   "execution_count": 117,
   "source": [
    "# Definir a coluna 'Gêneros' como índice\r\n",
    "df_genero_abundancia.set_index('Gêneros', inplace=True)\r\n",
    "\r\n",
    "# Transpor o DataFrame \r\n",
    "df_genero_abundancia_t = df_genero_abundancia.T\r\n",
    "\r\n",
    "# Criar o gráfico de barras empilhadas\r\n",
    "ax1 = df_genero_abundancia_t.plot(kind='bar', stacked=True, figsize=(10, 7), cmap='Pastel1', fontsize=14)\r\n",
    "\r\n",
    "# Adicionar título e rótulos aos eixos\r\n",
    "ax1.set_title('Abundância de Genêros', fontsize=14)\r\n",
    "ax1.set_ylabel('Abundância', fontsize=14)\r\n",
    "\r\n",
    "# Adicionar legenda\r\n",
    "plt.legend(title='Genêro', bbox_to_anchor=(1.05, 1), loc='upper left', fontsize=14)\r\n",
    "\r\n",
    "# Exibir o gráfico\r\n",
    "plt.tight_layout()\r\n",
    "\r\n",
    "plt.savefig('abund_genero.png')\r\n",
    "plt.show()"
   ],
   "outputs": [
    {
     "output_type": "stream",
     "name": "stderr",
     "text": [
      "C:\\Users\\BARBAR~1\\AppData\\Local\\Temp/ipykernel_14996/1076851421.py:18: UserWarning:\n",
      "\n",
      "Tight layout not applied. The bottom and top margins cannot be made large enough to accommodate all axes decorations.\n",
      "\n"
     ]
    },
    {
     "output_type": "display_data",
     "data": {
      "image/png": "[encoded data removed]",
      "text/plain": [
       "<Figure size 720x504 with 1 Axes>"
      ]
     },
     "metadata": {}
    }
   ],
   "metadata": {}
  },
  {
   "cell_type": "code",
   "execution_count": 59,
   "source": [
    "df_long_filo = df_filo_abundancia.melt(id_vars=\"Filos\", value_vars=[\"1 month\", \"6 month\"], \r\n",
    "                                  var_name=\"Condition\", value_name=\"Value\")\r\n",
    "\r\n",
    "# Criando o gráfico com seaborn\r\n",
    "sns.set(style=\"whitegrid\")\r\n",
    "plot = sns.catplot(x=\"Filos\", y=\"Value\", hue=\"Condition\", data=df_long_filo, \r\n",
    "                   kind=\"bar\", height=8, aspect=2, palette={\"1 month\": \"#c6a0d8\", \"6 month\": \"#962d8a\"})\r\n",
    "\r\n",
    "# Rotacionar os rótulos do eixo x para melhor visualização\r\n",
    "plot.set_xticklabels(rotation=90)\r\n",
    "plt.tight_layout()\r\n",
    "\r\n",
    "plt.savefig('bar_filo.png')\r\n",
    "plt.show()"
   ],
   "outputs": [
    {
     "output_type": "display_data",
     "data": {
      "image/png": "[encoded data removed]",
      "text/plain": [
       "<Figure size 1231.48x576 with 1 Axes>"
      ]
     },
     "metadata": {}
    }
   ],
   "metadata": {}
  },
  {
   "cell_type": "code",
   "execution_count": 92,
   "source": [
    "df_long_genero = df_genero_abundancia.melt(id_vars=\"Gêneros\", value_vars=[\"1 month\", \"6 month\"], \r\n",
    "                                  var_name=\"Condition\", value_name=\"Value\")\r\n",
    "\r\n",
    "# Criando o gráfico com seaborn\r\n",
    "sns.set(style=\"whitegrid\")\r\n",
    "plot = sns.catplot(x=\"Gêneros\", y=\"Value\", hue=\"Condition\", data=df_long_genero, \r\n",
    "                   kind=\"bar\", height=8, aspect=2, palette={\"1 month\": \"#c6a0d8\", \"6 month\": \"#962d8a\"})\r\n",
    "\r\n",
    "# Rotacionar os rótulos do eixo x para melhor visualização\r\n",
    "plot.set_xticklabels(rotation=90)\r\n",
    "plt.tight_layout()\r\n",
    "plt.show()"
   ],
   "outputs": [
    {
     "output_type": "display_data",
     "data": {
      "image/png": "[encoded data removed]",
      "text/plain": [
       "<Figure size 1231.48x576 with 1 Axes>"
      ]
     },
     "metadata": {}
    }
   ],
   "metadata": {}
  },
  {
   "cell_type": "code",
   "execution_count": 69,
   "source": [
    "df_long_especie = df_especie_abundancia.melt(id_vars=\"Espécies\", value_vars=[\"1 month\", \"6 month\"], \r\n",
    "                                  var_name=\"Condition\", value_name=\"Value\")\r\n",
    "\r\n",
    "# Criando o gráfico com seaborn\r\n",
    "sns.set(style=\"whitegrid\")\r\n",
    "plot = sns.catplot(x=\"Espécies\", y=\"Value\", hue=\"Condition\", data=df_long_especie, \r\n",
    "                   kind=\"bar\", height=8, aspect=2, palette={\"1 month\": \"#c6a0d8\", \"6 month\": \"#962d8a\"})\r\n",
    "\r\n",
    "# Rotacionar os rótulos do eixo x para melhor visualização\r\n",
    "plot.set_xticklabels(rotation=90)\r\n",
    "plt.tight_layout()\r\n",
    "plt.show()"
   ],
   "outputs": [
    {
     "output_type": "display_data",
     "data": {
      "image/png": "[encoded data removed]",
      "text/plain": [
       "<Figure size 1231.48x576 with 1 Axes>"
      ]
     },
     "metadata": {}
    }
   ],
   "metadata": {}
  },
  {
   "cell_type": "code",
   "execution_count": 170,
   "source": [
    "# Definir a coluna 'Filos' como índice\r\n",
    "df_filo_abundancia.set_index('Filos', inplace=True)\r\n",
    "\r\n",
    "# Transpor o DataFrame para que os grupos (Obesos e Lean) sejam as colunas\r\n",
    "df_filo_abundancia_t = df_filo_abundancia.T\r\n",
    "\r\n",
    "# Definir uma paleta de cores personalizada\r\n",
    "custom_colors = colors.qualitative.Pastel  # Outra opção seria colors.qualitative.Set3 ou qualquer paleta disponível\r\n",
    "\r\n",
    "# Criar uma lista de barras empilhadas\r\n",
    "fig = go.Figure()\r\n",
    "\r\n",
    "# Adicionar cada filo ao gráfico como uma barra empilhada com cores personalizadas\r\n",
    "for i, filo in enumerate(df_filo_abundancia_t.columns):\r\n",
    "    fig.add_trace(go.Bar(\r\n",
    "        name=filo,\r\n",
    "        x=df_filo_abundancia_t.index,  # Grupos como \"Obesos\" e \"Lean\"\r\n",
    "        y=df_filo_abundancia_t[filo],  # Valores de abundância\r\n",
    "        hoverinfo='name+y',\r\n",
    "        text=df_filo_abundancia_t[filo],  # Exibir valores de abundância nas barras\r\n",
    "        marker_color=custom_colors[i % len(custom_colors)],  # Aplicar cores da paleta\r\n",
    "    ))\r\n",
    "\r\n",
    "# Definir o layout do gráfico, ajustando o tamanho (mais comprido) e a paleta de cores\r\n",
    "fig.update_layout(\r\n",
    "    barmode='stack',  # Empilhar as barras\r\n",
    "    title='Abundância de Filos',\r\n",
    "    xaxis_title='Período de vida',\r\n",
    "    yaxis_title='Abundância',\r\n",
    "    legend_title='Filo',\r\n",
    "    font=dict(size=14),\r\n",
    "    legend=dict(x=1.05, y=1, borderwidth=1),  # Posicionar a legenda\r\n",
    "    width=1200,  # Ajustar a largura do gráfico\r\n",
    "    height=600,  # Ajustar a altura do gráfico\r\n",
    ")\r\n",
    "\r\n",
    "# Exibir o gráfico\r\n",
    "fig.show()\r\n",
    "\r\n",
    "# Salvar o gráfico como imagem (png)\r\n",
    "#fig.write_image('abund_filo_custom_plotly.png')\r\n"
   ],
   "outputs": [
    {
     "output_type": "display_data",
     "data": {
      "application/vnd.plotly.v1+json": {
       "data": [
        {
         "hoverinfo": "name+y",
         "marker": {
          "color": "rgb(102, 197, 204)"
         },
         "name": "p__Actinobacteriota",
         "text": [
          17,
          19
         ],
         "x": [
          "1 month",
          "6 month"
         ],
         "y": [
          17,
          19
         ],
         "type": "bar"
        },
        {
         "hoverinfo": "name+y",
         "marker": {
          "color": "rgb(246, 207, 113)"
         },
         "name": "p__Bacteroidota",
         "text": [
          7,
          7
         ],
         "x": [
          "1 month",
          "6 month"
         ],
         "y": [
          7,
          7
         ],
         "type": "bar"
        },
        {
         "hoverinfo": "name+y",
         "marker": {
          "color": "rgb(248, 156, 116)"
         },
         "name": "p__Firmicutes",
         "text": [
          10,
          10
         ],
         "x": [
          "1 month",
          "6 month"
         ],
         "y": [
          10,
          10
         ],
         "type": "bar"
        },
        {
         "hoverinfo": "name+y",
         "marker": {
          "color": "rgb(220, 176, 242)"
         },
         "name": "p__Firmicutes_A",
         "text": [
          22,
          3
         ],
         "x": [
          "1 month",
          "6 month"
         ],
         "y": [
          22,
          3
         ],
         "type": "bar"
        },
        {
         "hoverinfo": "name+y",
         "marker": {
          "color": "rgb(135, 197, 95)"
         },
         "name": "p__Firmicutes_C",
         "text": [
          8,
          1
         ],
         "x": [
          "1 month",
          "6 month"
         ],
         "y": [
          8,
          1
         ],
         "type": "bar"
        },
        {
         "hoverinfo": "name+y",
         "marker": {
          "color": "rgb(158, 185, 243)"
         },
         "name": "p__Proteobacteria",
         "text": [
          10,
          8
         ],
         "x": [
          "1 month",
          "6 month"
         ],
         "y": [
          10,
          8
         ],
         "type": "bar"
        },
        {
         "hoverinfo": "name+y",
         "marker": {
          "color": "rgb(254, 136, 177)"
         },
         "name": "p__Verrucomicrobiota",
         "text": [
          2,
          0
         ],
         "x": [
          "1 month",
          "6 month"
         ],
         "y": [
          2,
          0
         ],
         "type": "bar"
        }
       ],
       "layout": {
        "template": {
         "data": {
          "histogram2dcontour": [
           {
            "type": "histogram2dcontour",
            "colorbar": {
             "outlinewidth": 0,
             "ticks": ""
            },
            "colorscale": [
             [
              0,
              "#0d0887"
             ],
             [
              0.1111111111111111,
              "#46039f"
             ],
             [
              0.2222222222222222,
              "#7201a8"
             ],
             [
              0.3333333333333333,
              "#9c179e"
             ],
             [
              0.4444444444444444,
              "#bd3786"
             ],
             [
              0.5555555555555556,
              "#d8576b"
             ],
             [
              0.6666666666666666,
              "#ed7953"
             ],
             [
              0.7777777777777778,
              "#fb9f3a"
             ],
             [
              0.8888888888888888,
              "#fdca26"
             ],
             [
              1,
              "#f0f921"
             ]
            ]
           }
          ],
          "choropleth": [
           {
            "type": "choropleth",
            "colorbar": {
             "outlinewidth": 0,
             "ticks": ""
            }
           }
          ],
          "histogram2d": [
           {
            "type": "histogram2d",
            "colorbar": {
             "outlinewidth": 0,
             "ticks": ""
            },
            "colorscale": [
             [
              0,
              "#0d0887"
             ],
             [
              0.1111111111111111,
              "#46039f"
             ],
             [
              0.2222222222222222,
              "#7201a8"
             ],
             [
              0.3333333333333333,
              "#9c179e"
             ],
             [
              0.4444444444444444,
              "#bd3786"
             ],
             [
              0.5555555555555556,
              "#d8576b"
             ],
             [
              0.6666666666666666,
              "#ed7953"
             ],
             [
              0.7777777777777778,
              "#fb9f3a"
             ],
             [
              0.8888888888888888,
              "#fdca26"
             ],
             [
              1,
              "#f0f921"
             ]
            ]
           }
          ],
          "heatmap": [
           {
            "type": "heatmap",
            "colorbar": {
             "outlinewidth": 0,
             "ticks": ""
            },
            "colorscale": [
             [
              0,
              "#0d0887"
             ],
             [
              0.1111111111111111,
              "#46039f"
             ],
             [
              0.2222222222222222,
              "#7201a8"
             ],
             [
              0.3333333333333333,
              "#9c179e"
             ],
             [
              0.4444444444444444,
              "#bd3786"
             ],
             [
              0.5555555555555556,
              "#d8576b"
             ],
             [
              0.6666666666666666,
              "#ed7953"
             ],
             [
              0.7777777777777778,
              "#fb9f3a"
             ],
             [
              0.8888888888888888,
              "#fdca26"
             ],
             [
              1,
              "#f0f921"
             ]
            ]
           }
          ],
          "heatmapgl": [
           {
            "type": "heatmapgl",
            "colorbar": {
             "outlinewidth": 0,
             "ticks": ""
            },
            "colorscale": [
             [
              0,
              "#0d0887"
             ],
             [
              0.1111111111111111,
              "#46039f"
             ],
             [
              0.2222222222222222,
              "#7201a8"
             ],
             [
              0.3333333333333333,
              "#9c179e"
             ],
             [
              0.4444444444444444,
              "#bd3786"
             ],
             [
              0.5555555555555556,
              "#d8576b"
             ],
             [
              0.6666666666666666,
              "#ed7953"
             ],
             [
              0.7777777777777778,
              "#fb9f3a"
             ],
             [
              0.8888888888888888,
              "#fdca26"
             ],
             [
              1,
              "#f0f921"
             ]
            ]
           }
          ],
          "contourcarpet": [
           {
            "type": "contourcarpet",
            "colorbar": {
             "outlinewidth": 0,
             "ticks": ""
            }
           }
          ],
          "contour": [
           {
            "type": "contour",
            "colorbar": {
             "outlinewidth": 0,
             "ticks": ""
            },
            "colorscale": [
             [
              0,
              "#0d0887"
             ],
             [
              0.1111111111111111,
              "#46039f"
             ],
             [
              0.2222222222222222,
              "#7201a8"
             ],
             [
              0.3333333333333333,
              "#9c179e"
             ],
             [
              0.4444444444444444,
              "#bd3786"
             ],
             [
              0.5555555555555556,
              "#d8576b"
             ],
             [
              0.6666666666666666,
              "#ed7953"
             ],
             [
              0.7777777777777778,
              "#fb9f3a"
             ],
             [
              0.8888888888888888,
              "#fdca26"
             ],
             [
              1,
              "#f0f921"
             ]
            ]
           }
          ],
          "surface": [
           {
            "type": "surface",
            "colorbar": {
             "outlinewidth": 0,
             "ticks": ""
            },
            "colorscale": [
             [
              0,
              "#0d0887"
             ],
             [
              0.1111111111111111,
              "#46039f"
             ],
             [
              0.2222222222222222,
              "#7201a8"
             ],
             [
              0.3333333333333333,
              "#9c179e"
             ],
             [
              0.4444444444444444,
              "#bd3786"
             ],
             [
              0.5555555555555556,
              "#d8576b"
             ],
             [
              0.6666666666666666,
              "#ed7953"
             ],
             [
              0.7777777777777778,
              "#fb9f3a"
             ],
             [
              0.8888888888888888,
              "#fdca26"
             ],
             [
              1,
              "#f0f921"
             ]
            ]
           }
          ],
          "mesh3d": [
           {
            "type": "mesh3d",
            "colorbar": {
             "outlinewidth": 0,
             "ticks": ""
            }
           }
          ],
          "scatter": [
           {
            "fillpattern": {
             "fillmode": "overlay",
             "size": 10,
             "solidity": 0.2
            },
            "type": "scatter"
           }
          ],
          "parcoords": [
           {
            "type": "parcoords",
            "line": {
             "colorbar": {
              "outlinewidth": 0,
              "ticks": ""
             }
            }
           }
          ],
          "scatterpolargl": [
           {
            "type": "scatterpolargl",
            "marker": {
             "colorbar": {
              "outlinewidth": 0,
              "ticks": ""
             }
            }
           }
          ],
          "bar": [
           {
            "error_x": {
             "color": "#2a3f5f"
            },
            "error_y": {
             "color": "#2a3f5f"
            },
            "marker": {
             "line": {
              "color": "#E5ECF6",
              "width": 0.5
             },
             "pattern": {
              "fillmode": "overlay",
              "size": 10,
              "solidity": 0.2
             }
            },
            "type": "bar"
           }
          ],
          "scattergeo": [
           {
            "type": "scattergeo",
            "marker": {
             "colorbar": {
              "outlinewidth": 0,
              "ticks": ""
             }
            }
           }
          ],
          "scatterpolar": [
           {
            "type": "scatterpolar",
            "marker": {
             "colorbar": {
              "outlinewidth": 0,
              "ticks": ""
             }
            }
           }
          ],
          "histogram": [
           {
            "marker": {
             "pattern": {
              "fillmode": "overlay",
              "size": 10,
              "solidity": 0.2
             }
            },
            "type": "histogram"
           }
          ],
          "scattergl": [
           {
            "type": "scattergl",
            "marker": {
             "colorbar": {
              "outlinewidth": 0,
              "ticks": ""
             }
            }
           }
          ],
          "scatter3d": [
           {
            "type": "scatter3d",
            "line": {
             "colorbar": {
              "outlinewidth": 0,
              "ticks": ""
             }
            },
            "marker": {
             "colorbar": {
              "outlinewidth": 0,
              "ticks": ""
             }
            }
           }
          ],
          "scattermapbox": [
           {
            "type": "scattermapbox",
            "marker": {
             "colorbar": {
              "outlinewidth": 0,
              "ticks": ""
             }
            }
           }
          ],
          "scatterternary": [
           {
            "type": "scatterternary",
            "marker": {
             "colorbar": {
              "outlinewidth": 0,
              "ticks": ""
             }
            }
           }
          ],
          "scattercarpet": [
           {
            "type": "scattercarpet",
            "marker": {
             "colorbar": {
              "outlinewidth": 0,
              "ticks": ""
             }
            }
           }
          ],
          "carpet": [
           {
            "aaxis": {
             "endlinecolor": "#2a3f5f",
             "gridcolor": "white",
             "linecolor": "white",
             "minorgridcolor": "white",
             "startlinecolor": "#2a3f5f"
            },
            "baxis": {
             "endlinecolor": "#2a3f5f",
             "gridcolor": "white",
             "linecolor": "white",
             "minorgridcolor": "white",
             "startlinecolor": "#2a3f5f"
            },
            "type": "carpet"
           }
          ],
          "table": [
           {
            "cells": {
             "fill": {
              "color": "#EBF0F8"
             },
             "line": {
              "color": "white"
             }
            },
            "header": {
             "fill": {
              "color": "#C8D4E3"
             },
             "line": {
              "color": "white"
             }
            },
            "type": "table"
           }
          ],
          "barpolar": [
           {
            "marker": {
             "line": {
              "color": "#E5ECF6",
              "width": 0.5
             },
             "pattern": {
              "fillmode": "overlay",
              "size": 10,
              "solidity": 0.2
             }
            },
            "type": "barpolar"
           }
          ],
          "pie": [
           {
            "automargin": true,
            "type": "pie"
           }
          ]
         },
         "layout": {
          "autotypenumbers": "strict",
          "colorway": [
           "#636efa",
           "#EF553B",
           "#00cc96",
           "#ab63fa",
           "#FFA15A",
           "#19d3f3",
           "#FF6692",
           "#B6E880",
           "#FF97FF",
           "#FECB52"
          ],
          "font": {
           "color": "#2a3f5f"
          },
          "hovermode": "closest",
          "hoverlabel": {
           "align": "left"
          },
          "paper_bgcolor": "white",
          "plot_bgcolor": "#E5ECF6",
          "polar": {
           "bgcolor": "#E5ECF6",
           "angularaxis": {
            "gridcolor": "white",
            "linecolor": "white",
            "ticks": ""
           },
           "radialaxis": {
            "gridcolor": "white",
            "linecolor": "white",
            "ticks": ""
           }
          },
          "ternary": {
           "bgcolor": "#E5ECF6",
           "aaxis": {
            "gridcolor": "white",
            "linecolor": "white",
            "ticks": ""
           },
           "baxis": {
            "gridcolor": "white",
            "linecolor": "white",
            "ticks": ""
           },
           "caxis": {
            "gridcolor": "white",
            "linecolor": "white",
            "ticks": ""
           }
          },
          "coloraxis": {
           "colorbar": {
            "outlinewidth": 0,
            "ticks": ""
           }
          },
          "colorscale": {
           "sequential": [
            [
             0,
             "#0d0887"
            ],
            [
             0.1111111111111111,
             "#46039f"
            ],
            [
             0.2222222222222222,
             "#7201a8"
            ],
            [
             0.3333333333333333,
             "#9c179e"
            ],
            [
             0.4444444444444444,
             "#bd3786"
            ],
            [
             0.5555555555555556,
             "#d8576b"
            ],
            [
             0.6666666666666666,
             "#ed7953"
            ],
            [
             0.7777777777777778,
             "#fb9f3a"
            ],
            [
             0.8888888888888888,
             "#fdca26"
            ],
            [
             1,
             "#f0f921"
            ]
           ],
           "sequentialminus": [
            [
             0,
             "#0d0887"
            ],
            [
             0.1111111111111111,
             "#46039f"
            ],
            [
             0.2222222222222222,
             "#7201a8"
            ],
            [
             0.3333333333333333,
             "#9c179e"
            ],
            [
             0.4444444444444444,
             "#bd3786"
            ],
            [
             0.5555555555555556,
             "#d8576b"
            ],
            [
             0.6666666666666666,
             "#ed7953"
            ],
            [
             0.7777777777777778,
             "#fb9f3a"
            ],
            [
             0.8888888888888888,
             "#fdca26"
            ],
            [
             1,
             "#f0f921"
            ]
           ],
           "diverging": [
            [
             0,
             "#8e0152"
            ],
            [
             0.1,
             "#c51b7d"
            ],
            [
             0.2,
             "#de77ae"
            ],
            [
             0.3,
             "#f1b6da"
            ],
            [
             0.4,
             "#fde0ef"
            ],
            [
             0.5,
             "#f7f7f7"
            ],
            [
             0.6,
             "#e6f5d0"
            ],
            [
             0.7,
             "#b8e186"
            ],
            [
             0.8,
             "#7fbc41"
            ],
            [
             0.9,
             "#4d9221"
            ],
            [
             1,
             "#276419"
            ]
           ]
          },
          "xaxis": {
           "gridcolor": "white",
           "linecolor": "white",
           "ticks": "",
           "title": {
            "standoff": 15
           },
           "zerolinecolor": "white",
           "automargin": true,
           "zerolinewidth": 2
          },
          "yaxis": {
           "gridcolor": "white",
           "linecolor": "white",
           "ticks": "",
           "title": {
            "standoff": 15
           },
           "zerolinecolor": "white",
           "automargin": true,
           "zerolinewidth": 2
          },
          "scene": {
           "xaxis": {
            "backgroundcolor": "#E5ECF6",
            "gridcolor": "white",
            "linecolor": "white",
            "showbackground": true,
            "ticks": "",
            "zerolinecolor": "white",
            "gridwidth": 2
           },
           "yaxis": {
            "backgroundcolor": "#E5ECF6",
            "gridcolor": "white",
            "linecolor": "white",
            "showbackground": true,
            "ticks": "",
            "zerolinecolor": "white",
            "gridwidth": 2
           },
           "zaxis": {
            "backgroundcolor": "#E5ECF6",
            "gridcolor": "white",
            "linecolor": "white",
            "showbackground": true,
            "ticks": "",
            "zerolinecolor": "white",
            "gridwidth": 2
           }
          },
          "shapedefaults": {
           "line": {
            "color": "#2a3f5f"
           }
          },
          "annotationdefaults": {
           "arrowcolor": "#2a3f5f",
           "arrowhead": 0,
           "arrowwidth": 1
          },
          "geo": {
           "bgcolor": "white",
           "landcolor": "#E5ECF6",
           "subunitcolor": "white",
           "showland": true,
           "showlakes": true,
           "lakecolor": "white"
          },
          "title": {
           "x": 0.05
          },
          "mapbox": {
           "style": "light"
          }
         }
        },
        "font": {
         "size": 14
        },
        "legend": {
         "title": {
          "text": "Filo"
         },
         "x": 1.05,
         "y": 1,
         "borderwidth": 1
        },
        "barmode": "stack",
        "title": {
         "text": "Abundância de Filos"
        },
        "xaxis": {
         "title": {
          "text": "Período de vida"
         }
        },
        "yaxis": {
         "title": {
          "text": "Abundância"
         }
        },
        "width": 1200,
        "height": 600
       },
       "config": {
        "plotlyServerURL": "https://plot.ly"
       }
      }
     },
     "metadata": {}
    }
   ],
   "metadata": {}
  }
 ],
 "metadata": {
  "orig_nbformat": 4,
  "language_info": {
   "name": "python",
   "version": "3.9.7",
   "mimetype": "text/x-python",
   "codemirror_mode": {
    "name": "ipython",
    "version": 3
   },
   "pygments_lexer": "ipython3",
   "nbconvert_exporter": "python",
   "file_extension": ".py"
  },
  "kernelspec": {
   "name": "python3",
   "display_name": "Python 3.9.7 64-bit"
  },
  "interpreter": {
   "hash": "ac59ebe37160ed0dfa835113d9b8498d9f09ceb179beaac4002f036b9467c963"
  }
 },
 "nbformat": 4,
 "nbformat_minor": 2
}