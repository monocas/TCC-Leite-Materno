{
 "cells": [
  {
   "cell_type": "markdown",
   "source": [
    "# Notebook para tratamento dos dados de taxonomia da microbiota intestinal dos bebês 👶🏽💩"
   ],
   "metadata": {}
  },
  {
   "cell_type": "code",
   "execution_count": 13,
   "source": [
    "#importações \r\n",
    "\r\n",
    "import plotly.graph_objects as go\r\n",
    "import pandas as pd\r\n",
    "import os\r\n",
    "import seaborn.objects as so\r\n",
    "import seaborn as sns\r\n",
    "import matplotlib.pyplot as plt\r\n",
    "import plotly.graph_objects as go\r\n",
    "import plotly.colors as colors"
   ],
   "outputs": [],
   "metadata": {}
  },
  {
   "cell_type": "code",
   "execution_count": 14,
   "source": [
    "#Lendo os arquivos\r\n",
    "\r\n",
    "arquivos_colostrum = 'C:\\JupyterLab\\estudos_2024\\TCC_leite_materno\\Metaphlan\\gtdb_colostrum'\r\n",
    "df_colostrum_tax = pd.DataFrame([])\r\n",
    "for file in os.listdir(arquivos_colostrum):\r\n",
    "    df_colostrum_tax_i = pd.read_csv(os.path.join(arquivos_colostrum, file), sep='\\t')\r\n",
    "    df_colostrum_tax = pd.concat([df_colostrum_tax, df_colostrum_tax_i])\r\n",
    "\r\n",
    "arquivos_LM1 = 'C:\\JupyterLab\\estudos_2024\\TCC_leite_materno\\Metaphlan\\gtdb_LM1'\r\n",
    "df_LM1_tax = pd.DataFrame([])\r\n",
    "for file in os.listdir(arquivos_LM1):\r\n",
    "    df_LM1_tax_i = pd.read_csv(os.path.join(arquivos_LM1, file), sep='\\t')\r\n",
    "    df_LM1_tax = pd.concat([df_LM1_tax, df_LM1_tax_i])"
   ],
   "outputs": [],
   "metadata": {}
  },
  {
   "cell_type": "code",
   "execution_count": 15,
   "source": [
    "#Organizando os dados\r\n",
    "\r\n",
    "colunas_classificacao = ['Domínio', 'Filo', 'Classe', 'Ordem', 'Família','Gênero', 'Espécie']\r\n",
    "df_colostrum_tax[colunas_classificacao] = df_colostrum_tax['#clade_name'].str.split(';', expand=True)\r\n",
    "df_LM1_tax[colunas_classificacao] = df_LM1_tax['#clade_name'].str.split(';', expand=True)"
   ],
   "outputs": [],
   "metadata": {}
  },
  {
   "cell_type": "code",
   "execution_count": 16,
   "source": [
    "#Filtrando os dados\r\n",
    "\r\n",
    "df_colostrum_tax = df_colostrum_tax[df_colostrum_tax['#clade_name'] != 'None']\r\n",
    "\r\n",
    "df_LM1_tax = df_LM1_tax[df_LM1_tax['#clade_name'] != 'None']"
   ],
   "outputs": [],
   "metadata": {}
  },
  {
   "cell_type": "code",
   "execution_count": 18,
   "source": [
    "# Função para contar as frequências de cada item da classificação\r\n",
    "def contar_frequencias(df, coluna):\r\n",
    "    # Contagem de frequências\r\n",
    "    frequencias = df[coluna].value_counts().to_dict()\r\n",
    "    # Preencher lista com frequências\r\n",
    "    return [frequencias.get(value, 0) for value in df[coluna]]\r\n",
    "\r\n",
    "frequencias_tax_colostrum = [] # Lista para armazenar todas as frequências \r\n",
    "frequencias_tax_LM1 = []\r\n",
    "\r\n",
    "# Colunas taxonômicas a serem processadas\r\n",
    "colunas = [\"Domínio\", \"Filo\", \"Classe\", \"Ordem\", \"Família\", \"Gênero\", \"Espécie\"]\r\n",
    "\r\n",
    "# Preencher a lista com as frequências\r\n",
    "for coluna in colunas:\r\n",
    "    frequencias_tax_colostrum.extend(contar_frequencias(df_colostrum_tax, coluna))\r\n",
    "    frequencias_tax_LM1.extend(contar_frequencias(df_LM1_tax, coluna))"
   ],
   "outputs": [],
   "metadata": {}
  },
  {
   "cell_type": "markdown",
   "source": [
    "## Plot Sankey 🪢"
   ],
   "metadata": {}
  },
  {
   "cell_type": "code",
   "execution_count": 22,
   "source": [
    "def plot_taxonomy_sankey(df,titulo,value):\r\n",
    "    stats_data = df\r\n",
    "   \r\n",
    "    #stats_data\r\n",
    "\r\n",
    "    taxonomies = stats_data[stats_data[\"#clade_name\"].notna()][\r\n",
    "        \"#clade_name\"\r\n",
    "    ].tolist()\r\n",
    "\r\n",
    "    sources = []\r\n",
    "    targets = []\r\n",
    "    values = value\r\n",
    "\r\n",
    "    for taxonomy in taxonomies:\r\n",
    "        taxonomy_levels = taxonomy.split(\";\")\r\n",
    "        for i in range(len(taxonomy_levels) - 1):\r\n",
    "            sources.append(taxonomy_levels[i])\r\n",
    "            targets.append(taxonomy_levels[i + 1])\r\n",
    "            \r\n",
    "    \r\n",
    "\r\n",
    "    all_taxonomies = list(set(sources + targets))\r\n",
    "    taxonomy_to_index = {taxonomy: i for i, taxonomy in enumerate(all_taxonomies)}\r\n",
    "\r\n",
    "    colors = [\r\n",
    "        \"#00CED1\",\r\n",
    "        \"#7FFFD4\",\r\n",
    "        \"#FFB6C1\",\r\n",
    "        \"#E6E6FA\",\r\n",
    "        \"#D8BFD8\",\r\n",
    "        \"#BA55D3\",\r\n",
    "        \"#87CEFA\",\r\n",
    "        \"#DC143C\",\r\n",
    "        \"#FFD700\",\r\n",
    "        \"#7B68EE\",\r\n",
    "        \"#FF00FF\",\r\n",
    "        \"#98FB98\",\r\n",
    "        \"#5F9EA0\",\r\n",
    "        \"#8B008B\",\r\n",
    "        \"#CD5C5C\",\r\n",
    "        \"#F0E68C\",\r\n",
    "        \"#32CD32\"\r\n",
    "\r\n",
    "\r\n",
    "    ]\r\n",
    "\r\n",
    "    fig = go.Figure(\r\n",
    "        data=[\r\n",
    "            go.Sankey(\r\n",
    "                node=dict(\r\n",
    "                    pad=20,\r\n",
    "                    thickness=30,\r\n",
    "                    line=dict(color=\"black\", width=0.5),\r\n",
    "                    label=all_taxonomies,\r\n",
    "                    color=colors * (len(all_taxonomies) // len(colors) + 1),\r\n",
    "                    #itle=node_titles \r\n",
    "                ),\r\n",
    "                link=dict(\r\n",
    "                    source=[taxonomy_to_index[source] for source in sources],\r\n",
    "                    target=[taxonomy_to_index[target] for target in targets],\r\n",
    "                    value=values,\r\n",
    "                    #color = colors\r\n",
    "                    color=\"#DCDCDC\",\r\n",
    "                   #color=\"rgba(0, 0, 0, 0.5)\"\r\n",
    "                )\r\n",
    "            )\r\n",
    "        ]\r\n",
    "    )\r\n",
    "\r\n",
    "    fig.update_layout(\r\n",
    "        title_text=titulo,\r\n",
    "        font_size=12,\r\n",
    "        title_font_size=20,\r\n",
    "        \r\n",
    "    )\r\n",
    "\r\n",
    "    fig.update_layout(\r\n",
    "    width=4000,\r\n",
    "    height=1000\r\n",
    ")\r\n",
    "\r\n",
    "    return fig"
   ],
   "outputs": [],
   "metadata": {}
  },
  {
   "cell_type": "code",
   "execution_count": 23,
   "source": [
    "plot_taxonomy_sankey(df_colostrum_tax, 'Sankey Taxonomia Colostro',frequencias_tax_colostrum)"
   ],
   "outputs": [
    {
     "output_type": "display_data",
     "data": {
      "application/vnd.plotly.v1+json": {
       "data": [
        {
         "link": {
          "color": "#DCDCDC",
          "source": [
           29,
           29,
           29,
           29,
           50,
           29,
           33,
           29,
           27,
           29,
           50,
           51,
           29,
           33,
           54,
           29,
           27,
           24,
           29,
           33,
           54,
           29,
           50,
           51,
           4,
           29,
           50,
           51,
           4,
           29,
           33,
           54,
           35,
           29,
           27,
           24,
           43,
           29,
           33,
           54,
           21,
           29,
           50,
           51,
           4,
           36,
           29,
           50,
           51,
           4,
           1,
           29,
           33,
           54,
           35,
           44,
           29,
           50,
           51,
           4,
           36,
           29,
           27,
           24,
           43,
           15,
           29,
           33,
           54,
           21,
           11,
           29,
           50,
           51,
           4,
           36,
           7,
           29,
           50,
           51,
           4,
           1,
           38,
           29,
           33,
           54,
           35,
           44,
           40,
           29,
           50,
           51,
           4,
           36,
           28,
           29,
           27,
           24,
           43,
           15,
           48,
           29,
           33,
           54,
           21,
           11,
           26,
           29,
           33,
           54,
           35,
           44,
           40,
           29,
           29,
           33,
           29,
           33,
           54,
           29,
           33,
           54,
           21,
           29,
           33,
           54,
           21,
           11,
           29,
           33,
           54,
           21,
           11,
           26,
           29,
           29,
           33,
           29,
           33,
           54,
           29,
           33,
           54,
           21,
           29,
           33,
           54,
           21,
           11,
           29,
           33,
           54,
           21,
           11,
           26,
           29,
           29,
           29,
           39,
           29,
           39,
           29,
           33,
           29,
           39,
           41,
           29,
           39,
           6,
           29,
           39,
           41,
           29,
           33,
           54,
           29,
           39,
           41,
           45,
           29,
           39,
           41,
           45,
           29,
           39,
           6,
           19,
           29,
           39,
           41,
           47,
           29,
           33,
           54,
           35,
           29,
           39,
           41,
           45,
           42,
           29,
           39,
           41,
           45,
           13,
           29,
           39,
           41,
           45,
           13,
           29,
           39,
           6,
           19,
           37,
           29,
           39,
           41,
           47,
           30,
           29,
           39,
           41,
           47,
           30,
           29,
           33,
           54,
           35,
           44,
           29,
           39,
           41,
           45,
           42,
           29,
           39,
           41,
           45,
           42,
           34,
           29,
           39,
           41,
           45,
           13,
           49,
           29,
           39,
           41,
           45,
           13,
           31,
           29,
           39,
           6,
           19,
           37,
           22,
           29,
           39,
           41,
           47,
           30,
           18,
           29,
           39,
           41,
           47,
           30,
           20,
           29,
           33,
           54,
           35,
           44,
           40,
           29,
           39,
           41,
           45,
           13,
           49,
           29,
           39,
           41,
           45,
           42,
           2,
           29,
           29,
           33,
           29,
           33,
           54,
           29,
           33,
           54,
           35,
           29,
           33,
           54,
           35,
           44,
           29,
           33,
           54,
           35,
           44,
           40,
           29,
           33,
           54,
           35,
           44,
           40,
           29,
           29,
           29,
           50,
           29,
           33,
           29,
           50,
           51,
           29,
           33,
           54,
           29,
           50,
           51,
           4,
           29,
           33,
           54,
           35,
           29,
           50,
           51,
           4,
           1,
           29,
           33,
           54,
           35,
           44,
           29,
           50,
           51,
           4,
           1,
           38,
           29,
           33,
           54,
           35,
           44,
           40,
           29,
           29,
           33,
           29,
           33,
           54,
           29,
           33,
           54,
           35,
           29,
           33,
           54,
           35,
           44,
           29,
           33,
           54,
           35,
           44,
           40
          ],
          "target": [
           50,
           33,
           27,
           50,
           51,
           33,
           54,
           27,
           24,
           50,
           51,
           4,
           33,
           54,
           35,
           27,
           24,
           43,
           33,
           54,
           21,
           50,
           51,
           4,
           36,
           50,
           51,
           4,
           1,
           33,
           54,
           35,
           44,
           27,
           24,
           43,
           15,
           33,
           54,
           21,
           11,
           50,
           51,
           4,
           36,
           7,
           50,
           51,
           4,
           1,
           38,
           33,
           54,
           35,
           44,
           40,
           50,
           51,
           4,
           36,
           28,
           27,
           24,
           43,
           15,
           48,
           33,
           54,
           21,
           11,
           26,
           50,
           51,
           4,
           36,
           7,
           3,
           50,
           51,
           4,
           1,
           38,
           0,
           33,
           54,
           35,
           44,
           40,
           12,
           50,
           51,
           4,
           36,
           28,
           16,
           27,
           24,
           43,
           15,
           48,
           25,
           33,
           54,
           21,
           11,
           26,
           17,
           33,
           54,
           35,
           44,
           40,
           32,
           33,
           33,
           54,
           33,
           54,
           21,
           33,
           54,
           21,
           11,
           33,
           54,
           21,
           11,
           26,
           33,
           54,
           21,
           11,
           26,
           17,
           33,
           33,
           54,
           33,
           54,
           21,
           33,
           54,
           21,
           11,
           33,
           54,
           21,
           11,
           26,
           33,
           54,
           21,
           11,
           26,
           17,
           39,
           33,
           39,
           41,
           39,
           6,
           33,
           54,
           39,
           41,
           45,
           39,
           6,
           19,
           39,
           41,
           47,
           33,
           54,
           35,
           39,
           41,
           45,
           42,
           39,
           41,
           45,
           13,
           39,
           6,
           19,
           37,
           39,
           41,
           47,
           30,
           33,
           54,
           35,
           44,
           39,
           41,
           45,
           42,
           34,
           39,
           41,
           45,
           13,
           49,
           39,
           41,
           45,
           13,
           31,
           39,
           6,
           19,
           37,
           22,
           39,
           41,
           47,
           30,
           18,
           39,
           41,
           47,
           30,
           20,
           33,
           54,
           35,
           44,
           40,
           39,
           41,
           45,
           42,
           2,
           39,
           41,
           45,
           42,
           34,
           52,
           39,
           41,
           45,
           13,
           49,
           9,
           39,
           41,
           45,
           13,
           31,
           23,
           39,
           6,
           19,
           37,
           22,
           46,
           39,
           41,
           47,
           30,
           18,
           14,
           39,
           41,
           47,
           30,
           20,
           53,
           33,
           54,
           35,
           44,
           40,
           32,
           39,
           41,
           45,
           13,
           49,
           8,
           39,
           41,
           45,
           42,
           2,
           5,
           33,
           33,
           54,
           33,
           54,
           35,
           33,
           54,
           35,
           44,
           33,
           54,
           35,
           44,
           40,
           33,
           54,
           35,
           44,
           40,
           32,
           33,
           54,
           35,
           44,
           40,
           12,
           50,
           33,
           50,
           51,
           33,
           54,
           50,
           51,
           4,
           33,
           54,
           35,
           50,
           51,
           4,
           1,
           33,
           54,
           35,
           44,
           50,
           51,
           4,
           1,
           38,
           33,
           54,
           35,
           44,
           40,
           50,
           51,
           4,
           1,
           38,
           0,
           33,
           54,
           35,
           44,
           40,
           10,
           33,
           33,
           54,
           33,
           54,
           35,
           33,
           54,
           35,
           44,
           33,
           54,
           35,
           44,
           40,
           33,
           54,
           35,
           44,
           40,
           12
          ],
          "value": [
           9,
           103,
           103,
           103,
           103,
           103,
           103,
           103,
           103,
           103,
           103,
           103,
           103,
           103,
           103,
           103,
           103,
           103,
           103,
           103,
           103,
           103,
           103,
           103,
           103,
           103,
           103,
           103,
           103,
           103,
           9,
           9,
           9,
           9,
           103,
           103,
           103,
           103,
           103,
           103,
           103,
           103,
           103,
           103,
           103,
           103,
           103,
           103,
           103,
           103,
           103,
           103,
           103,
           103,
           103,
           103,
           103,
           103,
           103,
           103,
           103,
           103,
           103,
           103,
           103,
           103,
           103,
           103,
           103,
           103,
           103,
           103,
           103,
           103,
           103,
           103,
           103,
           103,
           103,
           103,
           103,
           103,
           103,
           103,
           103,
           103,
           103,
           103,
           9,
           9,
           103,
           103,
           103,
           103,
           103,
           103,
           103,
           103,
           103,
           103,
           103,
           103,
           103,
           9,
           103,
           103,
           103,
           103,
           103,
           103,
           103,
           9,
           0,
           0,
           17,
           48,
           6,
           17,
           48,
           6,
           17,
           48,
           6,
           48,
           17,
           17,
           48,
           6,
           48,
           17,
           17,
           48,
           17,
           6,
           48,
           17,
           17,
           48,
           17,
           6,
           48,
           48,
           0,
           0,
           0,
           0,
           0,
           48,
           48,
           48,
           48,
           48,
           48,
           0,
           48,
           48,
           48,
           48,
           48,
           48,
           0,
           25,
           48,
           25,
           25,
           48,
           25,
           25,
           25,
           48,
           25,
           25,
           25,
           25,
           48,
           25,
           25,
           25,
           25,
           25,
           25,
           48,
           25,
           25,
           25,
           25,
           25,
           25,
           25,
           48,
           25,
           25,
           0,
           48,
           48,
           48,
           48,
           48,
           48,
           48,
           0,
           0,
           0,
           17,
           48,
           17,
           48,
           17,
           48,
           17,
           48,
           17,
           48,
           17,
           48,
           0,
           0,
           48,
           48,
           48,
           48,
           48,
           48,
           0,
           0,
           0,
           0,
           0,
           0,
           15,
           41,
           5,
           15,
           41,
           5,
           41,
           15,
           15,
           41,
           5,
           41,
           15,
           15,
           41,
           15,
           5,
           41,
           15,
           15,
           41,
           15,
           5,
           41,
           41,
           0,
           0,
           0,
           0,
           0,
           0,
           41,
           41,
           41,
           41,
           41,
           0,
           0,
           41,
           41,
           41,
           41,
           41,
           0,
           0,
           0,
           19,
           5,
           41,
           19,
           5,
           19,
           41,
           19,
           19,
           5,
           19,
           41,
           19,
           19,
           19,
           5,
           19,
           19,
           41,
           19,
           19,
           19,
           19,
           5,
           19,
           19,
           41,
           19,
           19,
           0,
           0,
           41,
           41,
           41,
           41,
           41,
           41,
           0,
           0,
           0,
           0,
           0,
           15,
           41,
           15,
           41,
           15,
           41,
           15,
           41,
           15,
           41,
           0,
           0,
           0,
           41,
           41,
           41,
           41,
           41,
           0,
           0,
           0,
           0,
           0,
           0,
           0,
           0,
           0,
           13,
           22,
           4,
           12,
           13,
           13,
           22,
           4,
           12,
           13,
           13,
           22,
           13,
           4,
           12,
           13,
           13,
           22,
           13,
           4,
           12,
           22,
           0,
           0,
           0,
           0,
           0,
           0,
           0,
           12,
           12,
           12,
           12,
           0,
           0,
           0,
           12,
           12,
           12,
           12,
           0,
           0,
           0,
           0,
           0,
           0,
           12,
           4,
           6,
           22,
           12,
           12,
           4,
           6,
           22,
           12,
           12,
           12,
           4,
           6,
           6,
           22,
           12,
           12,
           12,
           12,
           4,
           6,
           6,
           22,
           12,
           12,
           0,
           0,
           0,
           22,
           22,
           22,
           22,
           22,
           0,
           0,
           0,
           0,
           0,
           0,
           0,
           13,
           22,
           13,
           22,
           13,
           22,
           13,
           22,
           0,
           0,
           0,
           0,
           22,
           22,
           22,
           22,
           0,
           0,
           0,
           0,
           0,
           0,
           0,
           0,
           0,
           0,
           0,
           0,
           0,
           5,
           6,
           17,
           3,
           9,
           5,
           6,
           17,
           5,
           3,
           9,
           5,
           6,
           17,
           5,
           3,
           9,
           17,
           0,
           0,
           0,
           0,
           0,
           0,
           0,
           0,
           9,
           9,
           9,
           0,
           0,
           0,
           0,
           9,
           9,
           9,
           0,
           0,
           0,
           0,
           0,
           0,
           0,
           0,
           0,
           0,
           5,
           6,
           3,
           5,
           17,
           5,
           6,
           6,
           3,
           5,
           5,
           17,
           5,
           5,
           6,
           6,
           3,
           5,
           5,
           17,
           6,
           5,
           0,
           0,
           0,
           0,
           17,
           17,
           17,
           17,
           0,
           0,
           0,
           0,
           0,
           0,
           0,
           0,
           0,
           6,
           17,
           6,
           17,
           6,
           17,
           0,
           0,
           0,
           0,
           0,
           17,
           17,
           17,
           0,
           0,
           0,
           0,
           0,
           0,
           0,
           0,
           0,
           0,
           0,
           0,
           0,
           0,
           0,
           0,
           0,
           0,
           2,
           4,
           12,
           2,
           2,
           6,
           2,
           4,
           12,
           2,
           2,
           6,
           12,
           0,
           0,
           0,
           0,
           0,
           0,
           0,
           0,
           0,
           6,
           6,
           0,
           0,
           0,
           0,
           0,
           6,
           6,
           0,
           0,
           0,
           0,
           0,
           0,
           0,
           0,
           0,
           0,
           0,
           0,
           0,
           0,
           0,
           2,
           3,
           2,
           2,
           2,
           2,
           12,
           2,
           2,
           3,
           2,
           2,
           2,
           2,
           12,
           3,
           2,
           0,
           0,
           0,
           0,
           0,
           12,
           12,
           12,
           0,
           0,
           0,
           0,
           0,
           0,
           0,
           0,
           0,
           0,
           0,
           4,
           12,
           4,
           12,
           0,
           0,
           0,
           0,
           0,
           0,
           12,
           12,
           0,
           0,
           0,
           0,
           0,
           0,
           0,
           0,
           0,
           0,
           0,
           0,
           0,
           0,
           0,
           0,
           0,
           0,
           0,
           0,
           0,
           0,
           0,
           0,
           1,
           2,
           3,
           1,
           1,
           3,
           3,
           0,
           0,
           0,
           0,
           0,
           0,
           0,
           0,
           0,
           0,
           3,
           0,
           0,
           0,
           0,
           0,
           0,
           3,
           0,
           0,
           0,
           0,
           0,
           0,
           0,
           0,
           0,
           0,
           0,
           0,
           0,
           0,
           0,
           0,
           0,
           0,
           0,
           0,
           0,
           0,
           0,
           1,
           1,
           1,
           1,
           1,
           1,
           3,
           1,
           1,
           0,
           0,
           0,
           0,
           0,
           0,
           3,
           3,
           0,
           0,
           0,
           0,
           0,
           0,
           0,
           0,
           0,
           0,
           0,
           0,
           0,
           2,
           1,
           0,
           0,
           0,
           0,
           0,
           0,
           0,
           3,
           0
          ]
         },
         "node": {
          "color": [
           "#00CED1",
           "#7FFFD4",
           "#FFB6C1",
           "#E6E6FA",
           "#D8BFD8",
           "#BA55D3",
           "#87CEFA",
           "#DC143C",
           "#FFD700",
           "#7B68EE",
           "#FF00FF",
           "#98FB98",
           "#5F9EA0",
           "#8B008B",
           "#CD5C5C",
           "#F0E68C",
           "#32CD32",
           "#00CED1",
           "#7FFFD4",
           "#FFB6C1",
           "#E6E6FA",
           "#D8BFD8",
           "#BA55D3",
           "#87CEFA",
           "#DC143C",
           "#FFD700",
           "#7B68EE",
           "#FF00FF",
           "#98FB98",
           "#5F9EA0",
           "#8B008B",
           "#CD5C5C",
           "#F0E68C",
           "#32CD32",
           "#00CED1",
           "#7FFFD4",
           "#FFB6C1",
           "#E6E6FA",
           "#D8BFD8",
           "#BA55D3",
           "#87CEFA",
           "#DC143C",
           "#FFD700",
           "#7B68EE",
           "#FF00FF",
           "#98FB98",
           "#5F9EA0",
           "#8B008B",
           "#CD5C5C",
           "#F0E68C",
           "#32CD32",
           "#00CED1",
           "#7FFFD4",
           "#FFB6C1",
           "#E6E6FA",
           "#D8BFD8",
           "#BA55D3",
           "#87CEFA",
           "#DC143C",
           "#FFD700",
           "#7B68EE",
           "#FF00FF",
           "#98FB98",
           "#5F9EA0",
           "#8B008B",
           "#CD5C5C",
           "#F0E68C",
           "#32CD32"
          ],
          "label": [
           "s__Rothia mucilaginosa",
           "f__Micrococcaceae",
           "g__Pseudomonas",
           "s__Actinomyces graevenitzii",
           "o__Actinomycetales",
           "s__Pseudomonas sp014852585",
           "c__Alphaproteobacteria",
           "g__Actinomyces",
           "s__Acinetobacter johnsonii",
           "s__Acinetobacter pittii",
           "s__Streptococcus sp001813295",
           "f__Staphylococcaceae",
           "s__Streptococcus salivarius",
           "f__Moraxellaceae",
           "s__Enterobacter cloacae_M",
           "f__Veillonellaceae",
           "s__Pauljensenia sp000308055",
           "s__Staphylococcus epidermidis",
           "g__Enterobacter",
           "o__Rhizobiales",
           "g__Kluyvera",
           "o__Staphylococcales",
           "g__Agrobacterium",
           "s__Moraxella_A cinereus",
           "c__Negativicutes",
           "s__Veillonella nakazawae",
           "g__Staphylococcus",
           "p__Firmicutes_C",
           "g__Pauljensenia",
           "d__Bacteria",
           "f__Enterobacteriaceae",
           "g__Moraxella_A",
           "s__Streptococcus mitis_BM",
           "p__Firmicutes",
           "g__Pseudomonas_E",
           "o__Lactobacillales",
           "f__Actinomycetaceae",
           "f__Rhizobiaceae",
           "g__Rothia",
           "p__Proteobacteria",
           "g__Streptococcus",
           "c__Gammaproteobacteria",
           "f__Pseudomonadaceae",
           "o__Veillonellales",
           "f__Streptococcaceae",
           "o__Pseudomonadales",
           "s__Agrobacterium pusense",
           "o__Enterobacterales",
           "g__Veillonella",
           "g__Acinetobacter",
           "p__Actinobacteriota",
           "c__Actinomycetia",
           "s__Pseudomonas_E putida",
           "s__Kluyvera cryocrescens",
           "c__Bacilli"
          ],
          "line": {
           "color": "black",
           "width": 0.5
          },
          "pad": 20,
          "thickness": 30
         },
         "type": "sankey"
        }
       ],
       "layout": {
        "template": {
         "data": {
          "histogram2dcontour": [
           {
            "type": "histogram2dcontour",
            "colorbar": {
             "outlinewidth": 0,
             "ticks": ""
            },
            "colorscale": [
             [
              0,
              "#0d0887"
             ],
             [
              0.1111111111111111,
              "#46039f"
             ],
             [
              0.2222222222222222,
              "#7201a8"
             ],
             [
              0.3333333333333333,
              "#9c179e"
             ],
             [
              0.4444444444444444,
              "#bd3786"
             ],
             [
              0.5555555555555556,
              "#d8576b"
             ],
             [
              0.6666666666666666,
              "#ed7953"
             ],
             [
              0.7777777777777778,
              "#fb9f3a"
             ],
             [
              0.8888888888888888,
              "#fdca26"
             ],
             [
              1,
              "#f0f921"
             ]
            ]
           }
          ],
          "choropleth": [
           {
            "type": "choropleth",
            "colorbar": {
             "outlinewidth": 0,
             "ticks": ""
            }
           }
          ],
          "histogram2d": [
           {
            "type": "histogram2d",
            "colorbar": {
             "outlinewidth": 0,
             "ticks": ""
            },
            "colorscale": [
             [
              0,
              "#0d0887"
             ],
             [
              0.1111111111111111,
              "#46039f"
             ],
             [
              0.2222222222222222,
              "#7201a8"
             ],
             [
              0.3333333333333333,
              "#9c179e"
             ],
             [
              0.4444444444444444,
              "#bd3786"
             ],
             [
              0.5555555555555556,
              "#d8576b"
             ],
             [
              0.6666666666666666,
              "#ed7953"
             ],
             [
              0.7777777777777778,
              "#fb9f3a"
             ],
             [
              0.8888888888888888,
              "#fdca26"
             ],
             [
              1,
              "#f0f921"
             ]
            ]
           }
          ],
          "heatmap": [
           {
            "type": "heatmap",
            "colorbar": {
             "outlinewidth": 0,
             "ticks": ""
            },
            "colorscale": [
             [
              0,
              "#0d0887"
             ],
             [
              0.1111111111111111,
              "#46039f"
             ],
             [
              0.2222222222222222,
              "#7201a8"
             ],
             [
              0.3333333333333333,
              "#9c179e"
             ],
             [
              0.4444444444444444,
              "#bd3786"
             ],
             [
              0.5555555555555556,
              "#d8576b"
             ],
             [
              0.6666666666666666,
              "#ed7953"
             ],
             [
              0.7777777777777778,
              "#fb9f3a"
             ],
             [
              0.8888888888888888,
              "#fdca26"
             ],
             [
              1,
              "#f0f921"
             ]
            ]
           }
          ],
          "heatmapgl": [
           {
            "type": "heatmapgl",
            "colorbar": {
             "outlinewidth": 0,
             "ticks": ""
            },
            "colorscale": [
             [
              0,
              "#0d0887"
             ],
             [
              0.1111111111111111,
              "#46039f"
             ],
             [
              0.2222222222222222,
              "#7201a8"
             ],
             [
              0.3333333333333333,
              "#9c179e"
             ],
             [
              0.4444444444444444,
              "#bd3786"
             ],
             [
              0.5555555555555556,
              "#d8576b"
             ],
             [
              0.6666666666666666,
              "#ed7953"
             ],
             [
              0.7777777777777778,
              "#fb9f3a"
             ],
             [
              0.8888888888888888,
              "#fdca26"
             ],
             [
              1,
              "#f0f921"
             ]
            ]
           }
          ],
          "contourcarpet": [
           {
            "type": "contourcarpet",
            "colorbar": {
             "outlinewidth": 0,
             "ticks": ""
            }
           }
          ],
          "contour": [
           {
            "type": "contour",
            "colorbar": {
             "outlinewidth": 0,
             "ticks": ""
            },
            "colorscale": [
             [
              0,
              "#0d0887"
             ],
             [
              0.1111111111111111,
              "#46039f"
             ],
             [
              0.2222222222222222,
              "#7201a8"
             ],
             [
              0.3333333333333333,
              "#9c179e"
             ],
             [
              0.4444444444444444,
              "#bd3786"
             ],
             [
              0.5555555555555556,
              "#d8576b"
             ],
             [
              0.6666666666666666,
              "#ed7953"
             ],
             [
              0.7777777777777778,
              "#fb9f3a"
             ],
             [
              0.8888888888888888,
              "#fdca26"
             ],
             [
              1,
              "#f0f921"
             ]
            ]
           }
          ],
          "surface": [
           {
            "type": "surface",
            "colorbar": {
             "outlinewidth": 0,
             "ticks": ""
            },
            "colorscale": [
             [
              0,
              "#0d0887"
             ],
             [
              0.1111111111111111,
              "#46039f"
             ],
             [
              0.2222222222222222,
              "#7201a8"
             ],
             [
              0.3333333333333333,
              "#9c179e"
             ],
             [
              0.4444444444444444,
              "#bd3786"
             ],
             [
              0.5555555555555556,
              "#d8576b"
             ],
             [
              0.6666666666666666,
              "#ed7953"
             ],
             [
              0.7777777777777778,
              "#fb9f3a"
             ],
             [
              0.8888888888888888,
              "#fdca26"
             ],
             [
              1,
              "#f0f921"
             ]
            ]
           }
          ],
          "mesh3d": [
           {
            "type": "mesh3d",
            "colorbar": {
             "outlinewidth": 0,
             "ticks": ""
            }
           }
          ],
          "scatter": [
           {
            "fillpattern": {
             "fillmode": "overlay",
             "size": 10,
             "solidity": 0.2
            },
            "type": "scatter"
           }
          ],
          "parcoords": [
           {
            "type": "parcoords",
            "line": {
             "colorbar": {
              "outlinewidth": 0,
              "ticks": ""
             }
            }
           }
          ],
          "scatterpolargl": [
           {
            "type": "scatterpolargl",
            "marker": {
             "colorbar": {
              "outlinewidth": 0,
              "ticks": ""
             }
            }
           }
          ],
          "bar": [
           {
            "error_x": {
             "color": "#2a3f5f"
            },
            "error_y": {
             "color": "#2a3f5f"
            },
            "marker": {
             "line": {
              "color": "#E5ECF6",
              "width": 0.5
             },
             "pattern": {
              "fillmode": "overlay",
              "size": 10,
              "solidity": 0.2
             }
            },
            "type": "bar"
           }
          ],
          "scattergeo": [
           {
            "type": "scattergeo",
            "marker": {
             "colorbar": {
              "outlinewidth": 0,
              "ticks": ""
             }
            }
           }
          ],
          "scatterpolar": [
           {
            "type": "scatterpolar",
            "marker": {
             "colorbar": {
              "outlinewidth": 0,
              "ticks": ""
             }
            }
           }
          ],
          "histogram": [
           {
            "marker": {
             "pattern": {
              "fillmode": "overlay",
              "size": 10,
              "solidity": 0.2
             }
            },
            "type": "histogram"
           }
          ],
          "scattergl": [
           {
            "type": "scattergl",
            "marker": {
             "colorbar": {
              "outlinewidth": 0,
              "ticks": ""
             }
            }
           }
          ],
          "scatter3d": [
           {
            "type": "scatter3d",
            "line": {
             "colorbar": {
              "outlinewidth": 0,
              "ticks": ""
             }
            },
            "marker": {
             "colorbar": {
              "outlinewidth": 0,
              "ticks": ""
             }
            }
           }
          ],
          "scattermapbox": [
           {
            "type": "scattermapbox",
            "marker": {
             "colorbar": {
              "outlinewidth": 0,
              "ticks": ""
             }
            }
           }
          ],
          "scatterternary": [
           {
            "type": "scatterternary",
            "marker": {
             "colorbar": {
              "outlinewidth": 0,
              "ticks": ""
             }
            }
           }
          ],
          "scattercarpet": [
           {
            "type": "scattercarpet",
            "marker": {
             "colorbar": {
              "outlinewidth": 0,
              "ticks": ""
             }
            }
           }
          ],
          "carpet": [
           {
            "aaxis": {
             "endlinecolor": "#2a3f5f",
             "gridcolor": "white",
             "linecolor": "white",
             "minorgridcolor": "white",
             "startlinecolor": "#2a3f5f"
            },
            "baxis": {
             "endlinecolor": "#2a3f5f",
             "gridcolor": "white",
             "linecolor": "white",
             "minorgridcolor": "white",
             "startlinecolor": "#2a3f5f"
            },
            "type": "carpet"
           }
          ],
          "table": [
           {
            "cells": {
             "fill": {
              "color": "#EBF0F8"
             },
             "line": {
              "color": "white"
             }
            },
            "header": {
             "fill": {
              "color": "#C8D4E3"
             },
             "line": {
              "color": "white"
             }
            },
            "type": "table"
           }
          ],
          "barpolar": [
           {
            "marker": {
             "line": {
              "color": "#E5ECF6",
              "width": 0.5
             },
             "pattern": {
              "fillmode": "overlay",
              "size": 10,
              "solidity": 0.2
             }
            },
            "type": "barpolar"
           }
          ],
          "pie": [
           {
            "automargin": true,
            "type": "pie"
           }
          ]
         },
         "layout": {
          "autotypenumbers": "strict",
          "colorway": [
           "#636efa",
           "#EF553B",
           "#00cc96",
           "#ab63fa",
           "#FFA15A",
           "#19d3f3",
           "#FF6692",
           "#B6E880",
           "#FF97FF",
           "#FECB52"
          ],
          "font": {
           "color": "#2a3f5f"
          },
          "hovermode": "closest",
          "hoverlabel": {
           "align": "left"
          },
          "paper_bgcolor": "white",
          "plot_bgcolor": "#E5ECF6",
          "polar": {
           "bgcolor": "#E5ECF6",
           "angularaxis": {
            "gridcolor": "white",
            "linecolor": "white",
            "ticks": ""
           },
           "radialaxis": {
            "gridcolor": "white",
            "linecolor": "white",
            "ticks": ""
           }
          },
          "ternary": {
           "bgcolor": "#E5ECF6",
           "aaxis": {
            "gridcolor": "white",
            "linecolor": "white",
            "ticks": ""
           },
           "baxis": {
            "gridcolor": "white",
            "linecolor": "white",
            "ticks": ""
           },
           "caxis": {
            "gridcolor": "white",
            "linecolor": "white",
            "ticks": ""
           }
          },
          "coloraxis": {
           "colorbar": {
            "outlinewidth": 0,
            "ticks": ""
           }
          },
          "colorscale": {
           "sequential": [
            [
             0,
             "#0d0887"
            ],
            [
             0.1111111111111111,
             "#46039f"
            ],
            [
             0.2222222222222222,
             "#7201a8"
            ],
            [
             0.3333333333333333,
             "#9c179e"
            ],
            [
             0.4444444444444444,
             "#bd3786"
            ],
            [
             0.5555555555555556,
             "#d8576b"
            ],
            [
             0.6666666666666666,
             "#ed7953"
            ],
            [
             0.7777777777777778,
             "#fb9f3a"
            ],
            [
             0.8888888888888888,
             "#fdca26"
            ],
            [
             1,
             "#f0f921"
            ]
           ],
           "sequentialminus": [
            [
             0,
             "#0d0887"
            ],
            [
             0.1111111111111111,
             "#46039f"
            ],
            [
             0.2222222222222222,
             "#7201a8"
            ],
            [
             0.3333333333333333,
             "#9c179e"
            ],
            [
             0.4444444444444444,
             "#bd3786"
            ],
            [
             0.5555555555555556,
             "#d8576b"
            ],
            [
             0.6666666666666666,
             "#ed7953"
            ],
            [
             0.7777777777777778,
             "#fb9f3a"
            ],
            [
             0.8888888888888888,
             "#fdca26"
            ],
            [
             1,
             "#f0f921"
            ]
           ],
           "diverging": [
            [
             0,
             "#8e0152"
            ],
            [
             0.1,
             "#c51b7d"
            ],
            [
             0.2,
             "#de77ae"
            ],
            [
             0.3,
             "#f1b6da"
            ],
            [
             0.4,
             "#fde0ef"
            ],
            [
             0.5,
             "#f7f7f7"
            ],
            [
             0.6,
             "#e6f5d0"
            ],
            [
             0.7,
             "#b8e186"
            ],
            [
             0.8,
             "#7fbc41"
            ],
            [
             0.9,
             "#4d9221"
            ],
            [
             1,
             "#276419"
            ]
           ]
          },
          "xaxis": {
           "gridcolor": "white",
           "linecolor": "white",
           "ticks": "",
           "title": {
            "standoff": 15
           },
           "zerolinecolor": "white",
           "automargin": true,
           "zerolinewidth": 2
          },
          "yaxis": {
           "gridcolor": "white",
           "linecolor": "white",
           "ticks": "",
           "title": {
            "standoff": 15
           },
           "zerolinecolor": "white",
           "automargin": true,
           "zerolinewidth": 2
          },
          "scene": {
           "xaxis": {
            "backgroundcolor": "#E5ECF6",
            "gridcolor": "white",
            "linecolor": "white",
            "showbackground": true,
            "ticks": "",
            "zerolinecolor": "white",
            "gridwidth": 2
           },
           "yaxis": {
            "backgroundcolor": "#E5ECF6",
            "gridcolor": "white",
            "linecolor": "white",
            "showbackground": true,
            "ticks": "",
            "zerolinecolor": "white",
            "gridwidth": 2
           },
           "zaxis": {
            "backgroundcolor": "#E5ECF6",
            "gridcolor": "white",
            "linecolor": "white",
            "showbackground": true,
            "ticks": "",
            "zerolinecolor": "white",
            "gridwidth": 2
           }
          },
          "shapedefaults": {
           "line": {
            "color": "#2a3f5f"
           }
          },
          "annotationdefaults": {
           "arrowcolor": "#2a3f5f",
           "arrowhead": 0,
           "arrowwidth": 1
          },
          "geo": {
           "bgcolor": "white",
           "landcolor": "#E5ECF6",
           "subunitcolor": "white",
           "showland": true,
           "showlakes": true,
           "lakecolor": "white"
          },
          "title": {
           "x": 0.05
          },
          "mapbox": {
           "style": "light"
          }
         }
        },
        "title": {
         "font": {
          "size": 20
         },
         "text": "Sankey Taxonomia Colostro"
        },
        "font": {
         "size": 12
        },
        "width": 4000,
        "height": 1000
       },
       "config": {
        "plotlyServerURL": "https://plot.ly"
       }
      }
     },
     "metadata": {}
    }
   ],
   "metadata": {}
  },
  {
   "cell_type": "code",
   "execution_count": 24,
   "source": [
    "plot_taxonomy_sankey(df_LM1_tax, 'Sankey Taxonomia Leite Materno após 1 mês',frequencias_tax_LM1)"
   ],
   "outputs": [
    {
     "output_type": "display_data",
     "data": {
      "application/vnd.plotly.v1+json": {
       "data": [
        {
         "link": {
          "color": "#DCDCDC",
          "source": [
           17,
           17,
           17,
           22,
           17,
           39,
           17,
           22,
           15,
           17,
           39,
           40,
           17,
           22,
           15,
           23,
           17,
           39,
           40,
           2,
           17,
           22,
           15,
           23,
           30,
           17,
           39,
           40,
           2,
           1,
           17,
           22,
           15,
           23,
           30,
           29,
           17,
           39,
           40,
           2,
           1,
           25,
           17,
           17,
           17,
           17,
           39,
           17,
           22,
           17,
           27,
           17,
           39,
           40,
           17,
           22,
           15,
           17,
           27,
           28,
           17,
           39,
           40,
           24,
           17,
           22,
           15,
           23,
           17,
           27,
           28,
           44,
           17,
           39,
           40,
           24,
           35,
           17,
           22,
           15,
           23,
           30,
           17,
           27,
           28,
           44,
           41,
           17,
           39,
           40,
           24,
           35,
           3,
           17,
           22,
           15,
           23,
           30,
           29,
           17,
           27,
           28,
           44,
           41,
           31,
           17,
           22,
           15,
           23,
           30,
           29,
           17,
           17,
           22,
           17,
           22,
           15,
           17,
           22,
           15,
           23,
           17,
           22,
           15,
           23,
           30,
           17,
           22,
           15,
           23,
           30,
           29,
           17,
           22,
           15,
           23,
           30,
           29,
           17,
           17,
           17,
           22,
           17,
           27,
           17,
           22,
           15,
           17,
           27,
           28,
           17,
           22,
           15,
           17,
           22,
           15,
           11,
           17,
           27,
           28,
           34,
           17,
           22,
           15,
           23,
           17,
           22,
           15,
           11,
           18,
           17,
           27,
           28,
           34,
           21,
           17,
           22,
           15,
           23,
           30,
           17,
           22,
           15,
           11,
           18,
           12,
           17,
           27,
           28,
           34,
           21,
           33,
           17,
           22,
           15,
           23,
           30,
           29,
           17,
           22,
           15,
           23,
           30,
           29,
           17,
           17,
           17,
           39,
           17,
           22,
           17,
           39,
           40,
           17,
           22,
           15,
           17,
           22,
           15,
           17,
           39,
           40,
           17,
           39,
           40,
           17,
           39,
           40,
           2,
           17,
           22,
           15,
           11,
           17,
           22,
           15,
           23,
           17,
           39,
           40,
           42,
           17,
           39,
           40,
           24,
           17,
           39,
           40,
           2,
           1,
           17,
           22,
           15,
           11,
           8,
           17,
           22,
           15,
           23,
           30,
           17,
           39,
           40,
           42,
           6,
           17,
           39,
           40,
           24,
           35,
           17,
           39,
           40,
           2,
           1,
           25,
           17,
           22,
           15,
           11,
           8,
           13,
           17,
           22,
           15,
           23,
           30,
           29,
           17,
           22,
           15,
           23,
           30,
           29,
           17,
           39,
           40,
           42,
           6,
           36,
           17,
           39,
           40,
           42,
           6,
           36,
           17,
           39,
           40,
           24,
           35,
           3,
           17,
           22,
           15,
           11,
           8,
           13,
           17,
           17,
           22,
           17,
           22,
           15,
           17,
           22,
           15,
           23,
           17,
           22,
           15,
           23,
           30,
           17,
           22,
           15,
           23,
           30,
           29,
           17,
           22,
           15,
           23,
           30,
           29,
           17,
           17,
           22,
           17,
           22,
           15,
           17,
           22,
           15,
           17,
           22,
           15,
           23,
           17,
           22,
           15,
           11,
           17,
           22,
           15,
           23,
           30,
           17,
           22,
           15,
           11,
           8,
           17,
           22,
           15,
           23,
           30,
           29,
           17,
           22,
           15,
           11,
           8,
           13,
           17,
           17,
           22,
           17,
           22,
           15,
           17,
           22,
           15,
           23,
           17,
           22,
           15,
           23,
           30,
           17,
           22,
           15,
           23,
           30,
           29,
           17,
           17,
           22,
           17,
           22,
           15,
           17,
           22,
           15,
           23,
           17,
           22,
           15,
           23,
           30,
           17,
           22,
           15,
           23,
           30,
           29,
           17,
           22,
           15,
           23,
           30,
           29,
           17,
           17,
           27,
           17,
           27,
           28,
           17,
           27,
           28,
           44,
           17,
           27,
           28,
           44,
           41,
           17,
           27,
           28,
           44,
           41,
           31
          ],
          "target": [
           22,
           39,
           22,
           15,
           39,
           40,
           22,
           15,
           23,
           39,
           40,
           2,
           22,
           15,
           23,
           30,
           39,
           40,
           2,
           1,
           22,
           15,
           23,
           30,
           29,
           39,
           40,
           2,
           1,
           25,
           22,
           15,
           23,
           30,
           29,
           19,
           39,
           40,
           2,
           1,
           25,
           0,
           39,
           22,
           27,
           39,
           40,
           22,
           15,
           27,
           28,
           39,
           40,
           24,
           22,
           15,
           23,
           27,
           28,
           44,
           39,
           40,
           24,
           35,
           22,
           15,
           23,
           30,
           27,
           28,
           44,
           41,
           39,
           40,
           24,
           35,
           3,
           22,
           15,
           23,
           30,
           29,
           27,
           28,
           44,
           41,
           31,
           39,
           40,
           24,
           35,
           3,
           4,
           22,
           15,
           23,
           30,
           29,
           19,
           27,
           28,
           44,
           41,
           31,
           37,
           22,
           15,
           23,
           30,
           29,
           9,
           22,
           22,
           15,
           22,
           15,
           23,
           22,
           15,
           23,
           30,
           22,
           15,
           23,
           30,
           29,
           22,
           15,
           23,
           30,
           29,
           19,
           22,
           15,
           23,
           30,
           29,
           20,
           22,
           27,
           22,
           15,
           27,
           28,
           22,
           15,
           11,
           27,
           28,
           34,
           22,
           15,
           23,
           22,
           15,
           11,
           18,
           27,
           28,
           34,
           21,
           22,
           15,
           23,
           30,
           22,
           15,
           11,
           18,
           12,
           27,
           28,
           34,
           21,
           33,
           22,
           15,
           23,
           30,
           29,
           22,
           15,
           11,
           18,
           12,
           43,
           27,
           28,
           34,
           21,
           33,
           32,
           22,
           15,
           23,
           30,
           29,
           20,
           22,
           15,
           23,
           30,
           29,
           9,
           39,
           22,
           39,
           40,
           22,
           15,
           39,
           40,
           2,
           22,
           15,
           11,
           22,
           15,
           23,
           39,
           40,
           42,
           39,
           40,
           24,
           39,
           40,
           2,
           1,
           22,
           15,
           11,
           8,
           22,
           15,
           23,
           30,
           39,
           40,
           42,
           6,
           39,
           40,
           24,
           35,
           39,
           40,
           2,
           1,
           25,
           22,
           15,
           11,
           8,
           13,
           22,
           15,
           23,
           30,
           29,
           39,
           40,
           42,
           6,
           36,
           39,
           40,
           24,
           35,
           3,
           39,
           40,
           2,
           1,
           25,
           26,
           22,
           15,
           11,
           8,
           13,
           10,
           22,
           15,
           23,
           30,
           29,
           19,
           22,
           15,
           23,
           30,
           29,
           7,
           39,
           40,
           42,
           6,
           36,
           16,
           39,
           40,
           42,
           6,
           36,
           38,
           39,
           40,
           24,
           35,
           3,
           4,
           22,
           15,
           11,
           8,
           13,
           5,
           22,
           22,
           15,
           22,
           15,
           23,
           22,
           15,
           23,
           30,
           22,
           15,
           23,
           30,
           29,
           22,
           15,
           23,
           30,
           29,
           20,
           22,
           15,
           23,
           30,
           29,
           7,
           22,
           22,
           15,
           22,
           15,
           23,
           22,
           15,
           11,
           22,
           15,
           23,
           30,
           22,
           15,
           11,
           8,
           22,
           15,
           23,
           30,
           29,
           22,
           15,
           11,
           8,
           13,
           22,
           15,
           23,
           30,
           29,
           20,
           22,
           15,
           11,
           8,
           13,
           5,
           22,
           22,
           15,
           22,
           15,
           23,
           22,
           15,
           23,
           30,
           22,
           15,
           23,
           30,
           29,
           22,
           15,
           23,
           30,
           29,
           19,
           22,
           22,
           15,
           22,
           15,
           23,
           22,
           15,
           23,
           30,
           22,
           15,
           23,
           30,
           29,
           22,
           15,
           23,
           30,
           29,
           20,
           22,
           15,
           23,
           30,
           29,
           19,
           27,
           27,
           28,
           27,
           28,
           44,
           27,
           28,
           44,
           41,
           27,
           28,
           44,
           41,
           31,
           27,
           28,
           44,
           41,
           31,
           14
          ],
          "value": [
           128,
           128,
           128,
           128,
           128,
           128,
           128,
           128,
           128,
           128,
           128,
           128,
           128,
           128,
           128,
           128,
           128,
           128,
           128,
           128,
           128,
           128,
           128,
           128,
           128,
           128,
           128,
           128,
           128,
           128,
           128,
           128,
           128,
           6,
           6,
           128,
           128,
           128,
           128,
           128,
           128,
           128,
           128,
           6,
           128,
           128,
           128,
           128,
           128,
           128,
           128,
           128,
           128,
           128,
           128,
           128,
           128,
           128,
           128,
           128,
           128,
           128,
           128,
           128,
           128,
           128,
           128,
           128,
           128,
           128,
           128,
           128,
           128,
           128,
           128,
           128,
           128,
           128,
           128,
           128,
           128,
           128,
           128,
           128,
           128,
           128,
           128,
           128,
           128,
           128,
           128,
           128,
           128,
           128,
           128,
           128,
           128,
           128,
           128,
           128,
           128,
           128,
           128,
           128,
           128,
           128,
           128,
           128,
           128,
           6,
           128,
           128,
           128,
           128,
           128,
           128,
           128,
           6,
           128,
           128,
           128,
           128,
           128,
           128,
           128,
           128,
           6,
           128,
           128,
           128,
           128,
           128,
           128,
           128,
           0,
           73,
           27,
           73,
           27,
           73,
           27,
           73,
           27,
           73,
           27,
           73,
           27,
           0,
           27,
           73,
           18,
           27,
           73,
           18,
           27,
           73,
           18,
           27,
           73,
           18,
           27,
           73,
           18,
           27,
           73,
           18,
           73,
           0,
           0,
           0,
           73,
           73,
           73,
           73,
           73,
           73,
           73,
           0,
           0,
           73,
           18,
           73,
           18,
           73,
           18,
           73,
           73,
           18,
           73,
           73,
           18,
           73,
           73,
           18,
           73,
           73,
           0,
           27,
           73,
           27,
           73,
           27,
           73,
           73,
           27,
           27,
           27,
           73,
           73,
           27,
           27,
           27,
           73,
           73,
           27,
           27,
           27,
           73,
           73,
           73,
           27,
           27,
           27,
           73,
           0,
           73,
           73,
           73,
           73,
           73,
           73,
           73,
           0,
           73,
           73,
           73,
           73,
           73,
           73,
           73,
           73,
           73,
           73,
           0,
           0,
           73,
           73,
           73,
           73,
           73,
           73,
           0,
           0,
           73,
           73,
           73,
           73,
           73,
           73,
           73,
           0,
           0,
           18,
           18,
           18,
           18,
           18,
           18,
           0,
           0,
           0,
           64,
           24,
           64,
           24,
           64,
           24,
           64,
           24,
           64,
           24,
           0,
           0,
           0,
           0,
           24,
           64,
           15,
           24,
           64,
           15,
           24,
           64,
           15,
           24,
           64,
           15,
           24,
           64,
           15,
           64,
           0,
           0,
           0,
           0,
           64,
           64,
           64,
           64,
           64,
           64,
           0,
           0,
           0,
           0,
           64,
           15,
           64,
           15,
           64,
           64,
           15,
           64,
           64,
           15,
           64,
           64,
           15,
           64,
           64,
           0,
           0,
           0,
           24,
           64,
           24,
           64,
           64,
           24,
           24,
           24,
           64,
           64,
           24,
           24,
           24,
           64,
           64,
           24,
           24,
           24,
           64,
           64,
           64,
           24,
           24,
           24,
           64,
           0,
           0,
           64,
           64,
           64,
           64,
           64,
           64,
           0,
           0,
           64,
           64,
           64,
           64,
           64,
           64,
           64,
           64,
           64,
           0,
           0,
           0,
           64,
           64,
           64,
           64,
           64,
           0,
           0,
           0,
           64,
           64,
           64,
           64,
           64,
           64,
           0,
           0,
           0,
           15,
           15,
           15,
           15,
           15,
           0,
           0,
           0,
           0,
           0,
           42,
           8,
           42,
           8,
           42,
           8,
           42,
           8,
           0,
           0,
           0,
           0,
           0,
           0,
           0,
           8,
           42,
           8,
           8,
           42,
           8,
           8,
           42,
           8,
           8,
           42,
           8,
           42,
           0,
           0,
           0,
           0,
           0,
           42,
           42,
           42,
           42,
           42,
           0,
           0,
           0,
           0,
           0,
           0,
           13,
           4,
           42,
           13,
           4,
           42,
           13,
           4,
           42,
           13,
           4,
           42,
           42,
           0,
           0,
           0,
           0,
           0,
           8,
           13,
           42,
           5,
           8,
           8,
           13,
           42,
           5,
           8,
           8,
           13,
           42,
           5,
           8,
           8,
           13,
           42,
           42,
           5,
           5,
           8,
           13,
           0,
           0,
           0,
           42,
           42,
           42,
           42,
           42,
           0,
           0,
           0,
           42,
           13,
           42,
           13,
           42,
           13,
           42,
           13,
           0,
           0,
           0,
           0,
           42,
           42,
           42,
           42,
           0,
           0,
           0,
           0,
           42,
           42,
           42,
           42,
           42,
           0,
           0,
           0,
           0,
           8,
           8,
           8,
           8,
           0,
           0,
           0,
           0,
           0,
           0,
           0,
           33,
           6,
           33,
           6,
           33,
           6,
           0,
           0,
           0,
           0,
           0,
           0,
           0,
           0,
           0,
           0,
           6,
           33,
           6,
           6,
           33,
           6,
           6,
           33,
           6,
           33,
           0,
           0,
           0,
           0,
           0,
           0,
           33,
           33,
           33,
           33,
           0,
           0,
           0,
           0,
           0,
           0,
           0,
           0,
           0,
           3,
           3,
           33,
           3,
           3,
           33,
           3,
           3,
           33,
           33,
           0,
           0,
           0,
           0,
           0,
           0,
           0,
           0,
           0,
           0,
           6,
           7,
           33,
           4,
           6,
           6,
           7,
           33,
           4,
           6,
           6,
           7,
           33,
           33,
           4,
           4,
           6,
           7,
           0,
           0,
           0,
           0,
           33,
           33,
           33,
           33,
           0,
           0,
           0,
           0,
           0,
           33,
           7,
           33,
           7,
           33,
           7,
           0,
           0,
           0,
           0,
           0,
           33,
           33,
           33,
           0,
           0,
           0,
           0,
           0,
           33,
           33,
           33,
           33,
           0,
           0,
           0,
           0,
           0,
           6,
           6,
           6,
           0,
           0,
           0,
           0,
           0,
           0,
           0,
           0,
           0,
           24,
           4,
           24,
           4,
           0,
           0,
           0,
           0,
           0,
           0,
           0,
           0,
           0,
           0,
           0,
           0,
           0,
           4,
           24,
           4,
           4,
           24,
           4,
           24,
           0,
           0,
           0,
           0,
           0,
           0,
           0,
           24,
           24,
           24,
           0,
           0,
           0,
           0,
           0,
           0,
           0,
           0,
           0,
           0,
           0,
           0,
           2,
           2,
           24,
           2,
           2,
           24,
           24,
           0,
           0,
           0,
           0,
           0,
           0,
           0,
           0,
           0,
           0,
           0,
           0,
           0,
           0,
           0,
           4,
           5,
           24,
           3,
           4,
           4,
           5,
           24,
           24,
           3,
           3,
           4,
           5,
           0,
           0,
           0,
           0,
           0,
           24,
           24,
           24,
           0,
           0,
           0,
           0,
           0,
           0,
           0,
           24,
           5,
           24,
           5,
           0,
           0,
           0,
           0,
           0,
           0,
           24,
           24,
           0,
           0,
           0,
           0,
           0,
           0,
           24,
           24,
           24,
           0,
           0,
           0,
           0,
           0,
           0,
           4,
           4,
           0,
           0,
           0,
           0,
           0,
           0,
           0,
           0,
           0,
           0,
           0,
           6,
           1,
           0,
           0,
           0,
           0,
           0,
           0,
           0,
           0,
           0,
           0,
           0,
           0,
           0,
           0,
           0,
           0,
           2,
           6,
           1,
           2,
           0,
           0,
           0,
           0,
           0,
           0,
           0,
           0,
           6,
           5,
           0,
           0,
           0,
           0,
           0,
           0,
           0,
           0,
           0,
           0,
           0,
           0,
           0,
           0,
           0,
           1,
           1,
           5,
           2,
           0,
           0,
           0,
           0,
           0,
           0,
           0,
           0,
           0,
           0,
           0,
           0,
           0,
           0,
           0,
           0,
           0,
           0,
           0,
           0,
           1,
           1,
           6,
           2,
           1,
           1,
           2,
           2,
           0,
           0,
           0,
           0,
           0,
           0,
           5,
           2,
           0,
           0,
           0,
           0,
           0,
           0,
           0,
           0,
           0,
           5,
           2,
           0,
           0,
           0,
           0,
           0,
           0,
           0,
           6,
           0,
           0,
           0,
           0,
           0,
           0,
           0,
           5,
           6,
           0,
           0,
           0,
           0,
           0,
           0,
           0,
           1
          ]
         },
         "node": {
          "color": [
           "#00CED1",
           "#7FFFD4",
           "#FFB6C1",
           "#E6E6FA",
           "#D8BFD8",
           "#BA55D3",
           "#87CEFA",
           "#DC143C",
           "#FFD700",
           "#7B68EE",
           "#FF00FF",
           "#98FB98",
           "#5F9EA0",
           "#8B008B",
           "#CD5C5C",
           "#F0E68C",
           "#32CD32",
           "#00CED1",
           "#7FFFD4",
           "#FFB6C1",
           "#E6E6FA",
           "#D8BFD8",
           "#BA55D3",
           "#87CEFA",
           "#DC143C",
           "#FFD700",
           "#7B68EE",
           "#FF00FF",
           "#98FB98",
           "#5F9EA0",
           "#8B008B",
           "#CD5C5C",
           "#F0E68C",
           "#32CD32",
           "#00CED1",
           "#7FFFD4",
           "#FFB6C1",
           "#E6E6FA",
           "#D8BFD8",
           "#BA55D3",
           "#87CEFA",
           "#DC143C",
           "#FFD700",
           "#7B68EE",
           "#FF00FF",
           "#98FB98",
           "#5F9EA0",
           "#8B008B",
           "#CD5C5C",
           "#F0E68C",
           "#32CD32"
          ],
          "label": [
           "s__Rothia mucilaginosa",
           "f__Micrococcaceae",
           "o__Actinomycetales",
           "g__Cutibacterium",
           "s__Cutibacterium acnes",
           "s__Staphylococcus hominis",
           "f__Mycobacteriaceae",
           "s__Streptococcus sp001813295",
           "f__Staphylococcaceae",
           "s__Streptococcus salivarius",
           "s__Staphylococcus epidermidis",
           "o__Staphylococcales",
           "g__Gemella",
           "g__Staphylococcus",
           "s__Neisseria subflava_C",
           "c__Bacilli",
           "s__Corynebacterium simulans",
           "d__Bacteria",
           "f__Gemellaceae",
           "s__Streptococcus mitis",
           "s__Streptococcus mitis_BM",
           "f__Pasteurellaceae",
           "p__Firmicutes",
           "o__Lactobacillales",
           "o__Propionibacteriales",
           "g__Rothia",
           "s__Rothia mucilaginosa_A",
           "p__Proteobacteria",
           "c__Gammaproteobacteria",
           "g__Streptococcus",
           "f__Streptococcaceae",
           "g__Neisseria",
           "s__Haemophilus seminalis",
           "g__Haemophilus",
           "o__Enterobacterales",
           "f__Propionibacteriaceae",
           "g__Corynebacterium",
           "s__Neisseria mucosa",
           "s__Corynebacterium kroppenstedtii_A",
           "p__Actinobacteriota",
           "c__Actinomycetia",
           "f__Neisseriaceae",
           "o__Mycobacteriales",
           "s__Gemella haemolysans_B",
           "o__Burkholderiales"
          ],
          "line": {
           "color": "black",
           "width": 0.5
          },
          "pad": 20,
          "thickness": 30
         },
         "type": "sankey"
        }
       ],
       "layout": {
        "template": {
         "data": {
          "histogram2dcontour": [
           {
            "type": "histogram2dcontour",
            "colorbar": {
             "outlinewidth": 0,
             "ticks": ""
            },
            "colorscale": [
             [
              0,
              "#0d0887"
             ],
             [
              0.1111111111111111,
              "#46039f"
             ],
             [
              0.2222222222222222,
              "#7201a8"
             ],
             [
              0.3333333333333333,
              "#9c179e"
             ],
             [
              0.4444444444444444,
              "#bd3786"
             ],
             [
              0.5555555555555556,
              "#d8576b"
             ],
             [
              0.6666666666666666,
              "#ed7953"
             ],
             [
              0.7777777777777778,
              "#fb9f3a"
             ],
             [
              0.8888888888888888,
              "#fdca26"
             ],
             [
              1,
              "#f0f921"
             ]
            ]
           }
          ],
          "choropleth": [
           {
            "type": "choropleth",
            "colorbar": {
             "outlinewidth": 0,
             "ticks": ""
            }
           }
          ],
          "histogram2d": [
           {
            "type": "histogram2d",
            "colorbar": {
             "outlinewidth": 0,
             "ticks": ""
            },
            "colorscale": [
             [
              0,
              "#0d0887"
             ],
             [
              0.1111111111111111,
              "#46039f"
             ],
             [
              0.2222222222222222,
              "#7201a8"
             ],
             [
              0.3333333333333333,
              "#9c179e"
             ],
             [
              0.4444444444444444,
              "#bd3786"
             ],
             [
              0.5555555555555556,
              "#d8576b"
             ],
             [
              0.6666666666666666,
              "#ed7953"
             ],
             [
              0.7777777777777778,
              "#fb9f3a"
             ],
             [
              0.8888888888888888,
              "#fdca26"
             ],
             [
              1,
              "#f0f921"
             ]
            ]
           }
          ],
          "heatmap": [
           {
            "type": "heatmap",
            "colorbar": {
             "outlinewidth": 0,
             "ticks": ""
            },
            "colorscale": [
             [
              0,
              "#0d0887"
             ],
             [
              0.1111111111111111,
              "#46039f"
             ],
             [
              0.2222222222222222,
              "#7201a8"
             ],
             [
              0.3333333333333333,
              "#9c179e"
             ],
             [
              0.4444444444444444,
              "#bd3786"
             ],
             [
              0.5555555555555556,
              "#d8576b"
             ],
             [
              0.6666666666666666,
              "#ed7953"
             ],
             [
              0.7777777777777778,
              "#fb9f3a"
             ],
             [
              0.8888888888888888,
              "#fdca26"
             ],
             [
              1,
              "#f0f921"
             ]
            ]
           }
          ],
          "heatmapgl": [
           {
            "type": "heatmapgl",
            "colorbar": {
             "outlinewidth": 0,
             "ticks": ""
            },
            "colorscale": [
             [
              0,
              "#0d0887"
             ],
             [
              0.1111111111111111,
              "#46039f"
             ],
             [
              0.2222222222222222,
              "#7201a8"
             ],
             [
              0.3333333333333333,
              "#9c179e"
             ],
             [
              0.4444444444444444,
              "#bd3786"
             ],
             [
              0.5555555555555556,
              "#d8576b"
             ],
             [
              0.6666666666666666,
              "#ed7953"
             ],
             [
              0.7777777777777778,
              "#fb9f3a"
             ],
             [
              0.8888888888888888,
              "#fdca26"
             ],
             [
              1,
              "#f0f921"
             ]
            ]
           }
          ],
          "contourcarpet": [
           {
            "type": "contourcarpet",
            "colorbar": {
             "outlinewidth": 0,
             "ticks": ""
            }
           }
          ],
          "contour": [
           {
            "type": "contour",
            "colorbar": {
             "outlinewidth": 0,
             "ticks": ""
            },
            "colorscale": [
             [
              0,
              "#0d0887"
             ],
             [
              0.1111111111111111,
              "#46039f"
             ],
             [
              0.2222222222222222,
              "#7201a8"
             ],
             [
              0.3333333333333333,
              "#9c179e"
             ],
             [
              0.4444444444444444,
              "#bd3786"
             ],
             [
              0.5555555555555556,
              "#d8576b"
             ],
             [
              0.6666666666666666,
              "#ed7953"
             ],
             [
              0.7777777777777778,
              "#fb9f3a"
             ],
             [
              0.8888888888888888,
              "#fdca26"
             ],
             [
              1,
              "#f0f921"
             ]
            ]
           }
          ],
          "surface": [
           {
            "type": "surface",
            "colorbar": {
             "outlinewidth": 0,
             "ticks": ""
            },
            "colorscale": [
             [
              0,
              "#0d0887"
             ],
             [
              0.1111111111111111,
              "#46039f"
             ],
             [
              0.2222222222222222,
              "#7201a8"
             ],
             [
              0.3333333333333333,
              "#9c179e"
             ],
             [
              0.4444444444444444,
              "#bd3786"
             ],
             [
              0.5555555555555556,
              "#d8576b"
             ],
             [
              0.6666666666666666,
              "#ed7953"
             ],
             [
              0.7777777777777778,
              "#fb9f3a"
             ],
             [
              0.8888888888888888,
              "#fdca26"
             ],
             [
              1,
              "#f0f921"
             ]
            ]
           }
          ],
          "mesh3d": [
           {
            "type": "mesh3d",
            "colorbar": {
             "outlinewidth": 0,
             "ticks": ""
            }
           }
          ],
          "scatter": [
           {
            "fillpattern": {
             "fillmode": "overlay",
             "size": 10,
             "solidity": 0.2
            },
            "type": "scatter"
           }
          ],
          "parcoords": [
           {
            "type": "parcoords",
            "line": {
             "colorbar": {
              "outlinewidth": 0,
              "ticks": ""
             }
            }
           }
          ],
          "scatterpolargl": [
           {
            "type": "scatterpolargl",
            "marker": {
             "colorbar": {
              "outlinewidth": 0,
              "ticks": ""
             }
            }
           }
          ],
          "bar": [
           {
            "error_x": {
             "color": "#2a3f5f"
            },
            "error_y": {
             "color": "#2a3f5f"
            },
            "marker": {
             "line": {
              "color": "#E5ECF6",
              "width": 0.5
             },
             "pattern": {
              "fillmode": "overlay",
              "size": 10,
              "solidity": 0.2
             }
            },
            "type": "bar"
           }
          ],
          "scattergeo": [
           {
            "type": "scattergeo",
            "marker": {
             "colorbar": {
              "outlinewidth": 0,
              "ticks": ""
             }
            }
           }
          ],
          "scatterpolar": [
           {
            "type": "scatterpolar",
            "marker": {
             "colorbar": {
              "outlinewidth": 0,
              "ticks": ""
             }
            }
           }
          ],
          "histogram": [
           {
            "marker": {
             "pattern": {
              "fillmode": "overlay",
              "size": 10,
              "solidity": 0.2
             }
            },
            "type": "histogram"
           }
          ],
          "scattergl": [
           {
            "type": "scattergl",
            "marker": {
             "colorbar": {
              "outlinewidth": 0,
              "ticks": ""
             }
            }
           }
          ],
          "scatter3d": [
           {
            "type": "scatter3d",
            "line": {
             "colorbar": {
              "outlinewidth": 0,
              "ticks": ""
             }
            },
            "marker": {
             "colorbar": {
              "outlinewidth": 0,
              "ticks": ""
             }
            }
           }
          ],
          "scattermapbox": [
           {
            "type": "scattermapbox",
            "marker": {
             "colorbar": {
              "outlinewidth": 0,
              "ticks": ""
             }
            }
           }
          ],
          "scatterternary": [
           {
            "type": "scatterternary",
            "marker": {
             "colorbar": {
              "outlinewidth": 0,
              "ticks": ""
             }
            }
           }
          ],
          "scattercarpet": [
           {
            "type": "scattercarpet",
            "marker": {
             "colorbar": {
              "outlinewidth": 0,
              "ticks": ""
             }
            }
           }
          ],
          "carpet": [
           {
            "aaxis": {
             "endlinecolor": "#2a3f5f",
             "gridcolor": "white",
             "linecolor": "white",
             "minorgridcolor": "white",
             "startlinecolor": "#2a3f5f"
            },
            "baxis": {
             "endlinecolor": "#2a3f5f",
             "gridcolor": "white",
             "linecolor": "white",
             "minorgridcolor": "white",
             "startlinecolor": "#2a3f5f"
            },
            "type": "carpet"
           }
          ],
          "table": [
           {
            "cells": {
             "fill": {
              "color": "#EBF0F8"
             },
             "line": {
              "color": "white"
             }
            },
            "header": {
             "fill": {
              "color": "#C8D4E3"
             },
             "line": {
              "color": "white"
             }
            },
            "type": "table"
           }
          ],
          "barpolar": [
           {
            "marker": {
             "line": {
              "color": "#E5ECF6",
              "width": 0.5
             },
             "pattern": {
              "fillmode": "overlay",
              "size": 10,
              "solidity": 0.2
             }
            },
            "type": "barpolar"
           }
          ],
          "pie": [
           {
            "automargin": true,
            "type": "pie"
           }
          ]
         },
         "layout": {
          "autotypenumbers": "strict",
          "colorway": [
           "#636efa",
           "#EF553B",
           "#00cc96",
           "#ab63fa",
           "#FFA15A",
           "#19d3f3",
           "#FF6692",
           "#B6E880",
           "#FF97FF",
           "#FECB52"
          ],
          "font": {
           "color": "#2a3f5f"
          },
          "hovermode": "closest",
          "hoverlabel": {
           "align": "left"
          },
          "paper_bgcolor": "white",
          "plot_bgcolor": "#E5ECF6",
          "polar": {
           "bgcolor": "#E5ECF6",
           "angularaxis": {
            "gridcolor": "white",
            "linecolor": "white",
            "ticks": ""
           },
           "radialaxis": {
            "gridcolor": "white",
            "linecolor": "white",
            "ticks": ""
           }
          },
          "ternary": {
           "bgcolor": "#E5ECF6",
           "aaxis": {
            "gridcolor": "white",
            "linecolor": "white",
            "ticks": ""
           },
           "baxis": {
            "gridcolor": "white",
            "linecolor": "white",
            "ticks": ""
           },
           "caxis": {
            "gridcolor": "white",
            "linecolor": "white",
            "ticks": ""
           }
          },
          "coloraxis": {
           "colorbar": {
            "outlinewidth": 0,
            "ticks": ""
           }
          },
          "colorscale": {
           "sequential": [
            [
             0,
             "#0d0887"
            ],
            [
             0.1111111111111111,
             "#46039f"
            ],
            [
             0.2222222222222222,
             "#7201a8"
            ],
            [
             0.3333333333333333,
             "#9c179e"
            ],
            [
             0.4444444444444444,
             "#bd3786"
            ],
            [
             0.5555555555555556,
             "#d8576b"
            ],
            [
             0.6666666666666666,
             "#ed7953"
            ],
            [
             0.7777777777777778,
             "#fb9f3a"
            ],
            [
             0.8888888888888888,
             "#fdca26"
            ],
            [
             1,
             "#f0f921"
            ]
           ],
           "sequentialminus": [
            [
             0,
             "#0d0887"
            ],
            [
             0.1111111111111111,
             "#46039f"
            ],
            [
             0.2222222222222222,
             "#7201a8"
            ],
            [
             0.3333333333333333,
             "#9c179e"
            ],
            [
             0.4444444444444444,
             "#bd3786"
            ],
            [
             0.5555555555555556,
             "#d8576b"
            ],
            [
             0.6666666666666666,
             "#ed7953"
            ],
            [
             0.7777777777777778,
             "#fb9f3a"
            ],
            [
             0.8888888888888888,
             "#fdca26"
            ],
            [
             1,
             "#f0f921"
            ]
           ],
           "diverging": [
            [
             0,
             "#8e0152"
            ],
            [
             0.1,
             "#c51b7d"
            ],
            [
             0.2,
             "#de77ae"
            ],
            [
             0.3,
             "#f1b6da"
            ],
            [
             0.4,
             "#fde0ef"
            ],
            [
             0.5,
             "#f7f7f7"
            ],
            [
             0.6,
             "#e6f5d0"
            ],
            [
             0.7,
             "#b8e186"
            ],
            [
             0.8,
             "#7fbc41"
            ],
            [
             0.9,
             "#4d9221"
            ],
            [
             1,
             "#276419"
            ]
           ]
          },
          "xaxis": {
           "gridcolor": "white",
           "linecolor": "white",
           "ticks": "",
           "title": {
            "standoff": 15
           },
           "zerolinecolor": "white",
           "automargin": true,
           "zerolinewidth": 2
          },
          "yaxis": {
           "gridcolor": "white",
           "linecolor": "white",
           "ticks": "",
           "title": {
            "standoff": 15
           },
           "zerolinecolor": "white",
           "automargin": true,
           "zerolinewidth": 2
          },
          "scene": {
           "xaxis": {
            "backgroundcolor": "#E5ECF6",
            "gridcolor": "white",
            "linecolor": "white",
            "showbackground": true,
            "ticks": "",
            "zerolinecolor": "white",
            "gridwidth": 2
           },
           "yaxis": {
            "backgroundcolor": "#E5ECF6",
            "gridcolor": "white",
            "linecolor": "white",
            "showbackground": true,
            "ticks": "",
            "zerolinecolor": "white",
            "gridwidth": 2
           },
           "zaxis": {
            "backgroundcolor": "#E5ECF6",
            "gridcolor": "white",
            "linecolor": "white",
            "showbackground": true,
            "ticks": "",
            "zerolinecolor": "white",
            "gridwidth": 2
           }
          },
          "shapedefaults": {
           "line": {
            "color": "#2a3f5f"
           }
          },
          "annotationdefaults": {
           "arrowcolor": "#2a3f5f",
           "arrowhead": 0,
           "arrowwidth": 1
          },
          "geo": {
           "bgcolor": "white",
           "landcolor": "#E5ECF6",
           "subunitcolor": "white",
           "showland": true,
           "showlakes": true,
           "lakecolor": "white"
          },
          "title": {
           "x": 0.05
          },
          "mapbox": {
           "style": "light"
          }
         }
        },
        "title": {
         "font": {
          "size": 20
         },
         "text": "Sankey Taxonomia Leite Materno após 1 mês"
        },
        "font": {
         "size": 12
        },
        "width": 4000,
        "height": 1000
       },
       "config": {
        "plotlyServerURL": "https://plot.ly"
       }
      }
     },
     "metadata": {}
    }
   ],
   "metadata": {}
  },
  {
   "cell_type": "markdown",
   "source": [
    "# Organizando Dados de Abundância 🗃️"
   ],
   "metadata": {}
  },
  {
   "cell_type": "code",
   "execution_count": 61,
   "source": [
    "df_filo_abundancia_colostrum =  df_colostrum_tax[\"Filo\"].value_counts().rename_axis('Filos').reset_index(name='Contagem')\r\n",
    "df_filo_abundancia_LM1 =  df_LM1_tax[\"Filo\"].value_counts().rename_axis('Filos').reset_index(name='Contagem')\r\n",
    "df_filo_abundancia = pd.merge(df_filo_abundancia_colostrum, df_filo_abundancia_LM1, on='Filos', how='outer')\r\n",
    "\r\n",
    "df_filo_abundancia.fillna(0, inplace=True)\r\n",
    "df_filo_abundancia.rename(columns={'Contagem_x': 'Colostro', 'Contagem_y': 'Leite Materno de 1 mês'}, inplace=True)\r\n",
    "#df_filo_abundancia"
   ],
   "outputs": [],
   "metadata": {}
  },
  {
   "cell_type": "code",
   "execution_count": 76,
   "source": [
    "df_genero_abundancia_colostrum =  df_colostrum_tax[\"Gênero\"].value_counts().rename_axis('Gêneros').reset_index(name='Contagem')\r\n",
    "df_genero_abundancia_LM1 =  df_LM1_tax[\"Gênero\"].value_counts().rename_axis('Gêneros').reset_index(name='Contagem')\r\n",
    "df_genero_abundancia = pd.merge(df_genero_abundancia_colostrum, df_genero_abundancia_LM1, on='Gêneros', how='outer')\r\n",
    "\r\n",
    "df_genero_abundancia.fillna(0, inplace=True)\r\n",
    "df_genero_abundancia.rename(columns={'Contagem_x': 'Colostro', 'Contagem_y': 'Leite Materno de 1 mês'}, inplace=True)\r\n",
    "#df_genero_abundancia"
   ],
   "outputs": [],
   "metadata": {}
  },
  {
   "cell_type": "code",
   "execution_count": 53,
   "source": [
    "df_especie_abundancia_colostrum =  df_colostrum_tax[\"Espécie\"].value_counts().rename_axis('Espécies').reset_index(name='Contagem')\r\n",
    "df_especie_abundancia_LM1 =  df_LM1_tax[\"Espécie\"].value_counts().rename_axis('Espécies').reset_index(name='Contagem')\r\n",
    "df_especie_abundancia = pd.merge(df_especie_abundancia_colostrum, df_especie_abundancia_LM1, on='Espécies', how='outer')\r\n",
    "\r\n",
    "df_especie_abundancia.fillna(0, inplace=True)\r\n",
    "df_especie_abundancia.rename(columns={'Contagem_x': 'Colostro', 'Contagem_y': 'Leite Materno de 1 mês'}, inplace=True)\r\n",
    "#df_especie_abundancia"
   ],
   "outputs": [],
   "metadata": {}
  },
  {
   "cell_type": "code",
   "execution_count": 54,
   "source": [
    "df_ordem_abundancia_colostrum = df_colostrum_tax[\"Ordem\"].value_counts().rename_axis('Ordens').reset_index(name='Contagem')\r\n",
    "df_ordem_abundancia_LM1 =  df_LM1_tax[\"Ordem\"].value_counts().rename_axis('Ordens').reset_index(name='Contagem')\r\n",
    "df_ordem_abundancia = pd.merge(df_ordem_abundancia_colostrum, df_ordem_abundancia_LM1, on='Ordens', how='outer')\r\n",
    "\r\n",
    "df_ordem_abundancia.fillna(0, inplace=True)\r\n",
    "df_ordem_abundancia.rename(columns={'Contagem_x': 'Colostro', 'Contagem_y': 'Leite Materno de 1 mês'}, inplace=True)\r\n",
    "#df_ordem_abundancia"
   ],
   "outputs": [],
   "metadata": {}
  },
  {
   "cell_type": "markdown",
   "source": [
    "## Representação dos dados de taxonomia em Gráficos de Barras 📊"
   ],
   "metadata": {}
  },
  {
   "cell_type": "code",
   "execution_count": 48,
   "source": [
    "# Definir a coluna 'Filos' como índice\r\n",
    "df_filo_abundancia.set_index('Filos', inplace=True)\r\n",
    "\r\n",
    "# Transpor o DataFrame\r\n",
    "df_filo_abundancia_t = df_filo_abundancia.T\r\n",
    "\r\n",
    "# Criar o gráfico de barras empilhadas\r\n",
    "ax1 = df_filo_abundancia_t.plot(kind='bar', stacked=True, figsize=(10, 7), cmap='Pastel1', fontsize=14)\r\n",
    "\r\n",
    "# Adicionar título e rótulos aos eixos\r\n",
    "ax1.set_title('Abundância de Filos', fontsize=14)\r\n",
    "ax1.set_ylabel('Abundância', fontsize=14)\r\n",
    "\r\n",
    "# Adicionar legenda\r\n",
    "plt.legend(title='Filo', bbox_to_anchor=(1.05, 1), loc='upper left', fontsize=14)\r\n",
    "\r\n",
    "# Exibir o gráfico\r\n",
    "plt.tight_layout()\r\n",
    "\r\n",
    "plt.savefig('abundancia_filo_LM.png')\r\n",
    "plt.show()"
   ],
   "outputs": [
    {
     "output_type": "display_data",
     "data": {
      "image/png": "[encoded data removed]",
      "text/plain": [
       "<Figure size 720x504 with 1 Axes>"
      ]
     },
     "metadata": {
      "needs_background": "light"
     }
    }
   ],
   "metadata": {}
  },
  {
   "cell_type": "code",
   "execution_count": 121,
   "source": [
    "# Definir a coluna 'Ordens' como índice\r\n",
    "df_ordem_abundancia.set_index('Ordens', inplace=True)\r\n",
    "\r\n",
    "# Transpor o DataFrame \r\n",
    "df_ordem_abundancia_t = df_ordem_abundancia.T\r\n",
    "\r\n",
    "# Criar o gráfico de barras empilhadas\r\n",
    "ax1 = df_ordem_abundancia_t.plot(kind='bar', stacked=True, figsize=(10, 7), cmap='Pastel1', fontsize=14)\r\n",
    "\r\n",
    "# Adicionar título e rótulos aos eixos\r\n",
    "ax1.set_title('Abundância de Ordens', fontsize=14)\r\n",
    "ax1.set_ylabel('Abundância', fontsize=14)\r\n",
    "\r\n",
    "# Adicionar legenda\r\n",
    "plt.legend(title='Ordem', bbox_to_anchor=(1.05, 1), loc='upper left', fontsize=14)\r\n",
    "\r\n",
    "# Exibir o gráfico\r\n",
    "plt.tight_layout()\r\n",
    "\r\n",
    "plt.savefig('abund_ordem.png')\r\n",
    "plt.show()"
   ],
   "outputs": [
    {
     "output_type": "display_data",
     "data": {
      "image/png": "[encoded data removed]",
      "text/plain": [
       "<Figure size 720x504 with 1 Axes>"
      ]
     },
     "metadata": {}
    }
   ],
   "metadata": {}
  },
  {
   "cell_type": "code",
   "execution_count": 49,
   "source": [
    "# Definir a coluna 'Gêneros' como índice\r\n",
    "df_genero_abundancia.set_index('Gêneros', inplace=True)\r\n",
    "\r\n",
    "# Transpor o DataFrame \r\n",
    "df_genero_abundancia_t = df_genero_abundancia.T\r\n",
    "\r\n",
    "# Criar o gráfico de barras empilhadas\r\n",
    "ax1 = df_genero_abundancia_t.plot(kind='bar', stacked=True, figsize=(10, 7), cmap='Pastel1', fontsize=14)\r\n",
    "\r\n",
    "# Adicionar título e rótulos aos eixos\r\n",
    "ax1.set_title('Abundância de Genêros', fontsize=14)\r\n",
    "ax1.set_ylabel('Abundância', fontsize=14)\r\n",
    "\r\n",
    "# Adicionar legenda\r\n",
    "plt.legend(title='Gênero', bbox_to_anchor=(1.05, 1), loc='upper left', fontsize=14)\r\n",
    "\r\n",
    "# Exibir o gráfico\r\n",
    "plt.tight_layout()\r\n",
    "\r\n",
    "plt.savefig('abund_genero.png')\r\n",
    "plt.show()"
   ],
   "outputs": [
    {
     "output_type": "display_data",
     "data": {
      "image/png": "[encoded data removed]",
      "text/plain": [
       "<Figure size 720x504 with 1 Axes>"
      ]
     },
     "metadata": {
      "needs_background": "light"
     }
    }
   ],
   "metadata": {}
  },
  {
   "cell_type": "code",
   "execution_count": 56,
   "source": [
    "df_filo_abundancia"
   ],
   "outputs": [
    {
     "output_type": "execute_result",
     "data": {
      "text/html": [
       "<div>\n",
       "<style scoped>\n",
       "    .dataframe tbody tr th:only-of-type {\n",
       "        vertical-align: middle;\n",
       "    }\n",
       "\n",
       "    .dataframe tbody tr th {\n",
       "        vertical-align: top;\n",
       "    }\n",
       "\n",
       "    .dataframe thead th {\n",
       "        text-align: right;\n",
       "    }\n",
       "</style>\n",
       "<table border=\"1\" class=\"dataframe\">\n",
       "  <thead>\n",
       "    <tr style=\"text-align: right;\">\n",
       "      <th></th>\n",
       "      <th>Filos</th>\n",
       "      <th>Colostro</th>\n",
       "      <th>Leite Materno de 1 mês</th>\n",
       "    </tr>\n",
       "  </thead>\n",
       "  <tbody>\n",
       "    <tr>\n",
       "      <th>0</th>\n",
       "      <td>p__Actinobacteriota</td>\n",
       "      <td>17</td>\n",
       "      <td>27.0</td>\n",
       "    </tr>\n",
       "    <tr>\n",
       "      <th>1</th>\n",
       "      <td>p__Firmicutes</td>\n",
       "      <td>48</td>\n",
       "      <td>73.0</td>\n",
       "    </tr>\n",
       "    <tr>\n",
       "      <th>2</th>\n",
       "      <td>p__Firmicutes_C</td>\n",
       "      <td>6</td>\n",
       "      <td>0.0</td>\n",
       "    </tr>\n",
       "    <tr>\n",
       "      <th>3</th>\n",
       "      <td>p__Proteobacteria</td>\n",
       "      <td>25</td>\n",
       "      <td>18.0</td>\n",
       "    </tr>\n",
       "  </tbody>\n",
       "</table>\n",
       "</div>"
      ],
      "text/plain": [
       "                 Filos  Colostro  Leite Materno de 1 mês\n",
       "0  p__Actinobacteriota        17                    27.0\n",
       "1        p__Firmicutes        48                    73.0\n",
       "2      p__Firmicutes_C         6                     0.0\n",
       "3    p__Proteobacteria        25                    18.0"
      ]
     },
     "metadata": {},
     "execution_count": 56
    }
   ],
   "metadata": {}
  },
  {
   "cell_type": "code",
   "execution_count": 58,
   "source": [
    "df_long_filo = df_filo_abundancia.melt(id_vars=\"Filos\", value_vars=[\"Colostro\", \"Leite Materno de 1 mês\"], \r\n",
    "                                  var_name=\"Condition\", value_name=\"Value\")\r\n",
    "\r\n",
    "# Criando o gráfico com seaborn\r\n",
    "sns.set(style=\"whitegrid\")\r\n",
    "plot = sns.catplot(x=\"Filos\", y=\"Value\", hue=\"Condition\", data=df_long_filo, \r\n",
    "                   kind=\"bar\", height=8, aspect=2, palette={\"Colostro\": \"#c6a0d8\", \"Leite Materno de 1 mês\": \"#962d8a\"})\r\n",
    "\r\n",
    "# Rotacionar os rótulos do eixo x para melhor visualização\r\n",
    "plot.set_xticklabels(rotation=90)\r\n",
    "plt.tight_layout()\r\n",
    "\r\n",
    "plt.savefig('bar_filo.png')\r\n",
    "plt.show()"
   ],
   "outputs": [
    {
     "output_type": "display_data",
     "data": {
      "image/png": "[encoded data removed]",
      "text/plain": [
       "<Figure size 1307.23x576 with 1 Axes>"
      ]
     },
     "metadata": {}
    }
   ],
   "metadata": {}
  },
  {
   "cell_type": "code",
   "execution_count": 59,
   "source": [
    "df_long_genero = df_genero_abundancia.melt(id_vars=\"Gêneros\", value_vars=[\"Colostro\", \"Leite Materno de 1 mês\"], \r\n",
    "                                  var_name=\"Condition\", value_name=\"Value\")\r\n",
    "\r\n",
    "# Criando o gráfico com seaborn\r\n",
    "sns.set(style=\"whitegrid\")\r\n",
    "plot = sns.catplot(x=\"Gêneros\", y=\"Value\", hue=\"Condition\", data=df_long_genero, \r\n",
    "                   kind=\"bar\", height=8, aspect=2, palette={\"Colostro\": \"#c6a0d8\", \"Leite Materno de 1 mês\": \"#962d8a\"})\r\n",
    "\r\n",
    "# Rotacionar os rótulos do eixo x para melhor visualização\r\n",
    "plot.set_xticklabels(rotation=90)\r\n",
    "plt.tight_layout()\r\n",
    "plt.show()"
   ],
   "outputs": [
    {
     "output_type": "display_data",
     "data": {
      "image/png": "[encoded data removed]",
      "text/plain": [
       "<Figure size 1307.23x576 with 1 Axes>"
      ]
     },
     "metadata": {}
    }
   ],
   "metadata": {}
  },
  {
   "cell_type": "code",
   "execution_count": 60,
   "source": [
    "df_long_especie = df_especie_abundancia.melt(id_vars=\"Espécies\", value_vars=[\"Colostro\", \"Leite Materno de 1 mês\"], \r\n",
    "                                  var_name=\"Condition\", value_name=\"Value\")\r\n",
    "\r\n",
    "# Criando o gráfico com seaborn\r\n",
    "sns.set(style=\"whitegrid\")\r\n",
    "plot = sns.catplot(x=\"Espécies\", y=\"Value\", hue=\"Condition\", data=df_long_especie, \r\n",
    "                   kind=\"bar\", height=8, aspect=2, palette={\"Colostro\": \"#c6a0d8\", \"Leite Materno de 1 mês\": \"#962d8a\"})\r\n",
    "\r\n",
    "# Rotacionar os rótulos do eixo x para melhor visualização\r\n",
    "plot.set_xticklabels(rotation=90)\r\n",
    "plt.tight_layout()\r\n",
    "plt.show()"
   ],
   "outputs": [
    {
     "output_type": "display_data",
     "data": {
      "image/png": "[encoded data removed]",
      "text/plain": [
       "<Figure size 1307.23x576 with 1 Axes>"
      ]
     },
     "metadata": {}
    }
   ],
   "metadata": {}
  },
  {
   "cell_type": "code",
   "execution_count": 62,
   "source": [
    "# Definir a coluna 'Filos' como índice\r\n",
    "df_filo_abundancia.set_index('Filos', inplace=True)\r\n",
    "\r\n",
    "# Transpor o DataFrame para que os grupos (Obesos e Lean) sejam as colunas\r\n",
    "df_filo_abundancia_t = df_filo_abundancia.T\r\n",
    "\r\n",
    "# Definir uma paleta de cores personalizada\r\n",
    "custom_colors = colors.qualitative.Pastel  # Outra opção seria colors.qualitative.Set3 ou qualquer paleta disponível\r\n",
    "\r\n",
    "# Criar uma lista de barras empilhadas\r\n",
    "fig = go.Figure()\r\n",
    "\r\n",
    "# Adicionar cada filo ao gráfico como uma barra empilhada com cores personalizadas\r\n",
    "for i, filo in enumerate(df_filo_abundancia_t.columns):\r\n",
    "    fig.add_trace(go.Bar(\r\n",
    "        name=filo,\r\n",
    "        x=df_filo_abundancia_t.index, \r\n",
    "        y=df_filo_abundancia_t[filo],  # Valores de abundância\r\n",
    "        hoverinfo='name+y',\r\n",
    "        text=df_filo_abundancia_t[filo],  # Exibir valores de abundância nas barras\r\n",
    "        marker_color=custom_colors[i % len(custom_colors)],  # Aplicar cores da paleta\r\n",
    "    ))\r\n",
    "\r\n",
    "# Definir o layout do gráfico, ajustando o tamanho (mais comprido) e a paleta de cores\r\n",
    "fig.update_layout(\r\n",
    "    barmode='stack',  # Empilhar as barras\r\n",
    "    title='Abundância de Filos',\r\n",
    "    xaxis_title='Período de vida',\r\n",
    "    yaxis_title='Abundância',\r\n",
    "    legend_title='Filo',\r\n",
    "    font=dict(size=14),\r\n",
    "    legend=dict(x=1.05, y=1, borderwidth=1),  # Posicionar a legenda\r\n",
    "    width=1200,  # Ajustar a largura do gráfico\r\n",
    "    height=600,  # Ajustar a altura do gráfico\r\n",
    ")\r\n",
    "\r\n",
    "# Exibir o gráfico\r\n",
    "fig.show()\r\n",
    "\r\n",
    "# Salvar o gráfico como imagem (png)\r\n",
    "#fig.write_image('abund_filo_custom_plotly.png')\r\n"
   ],
   "outputs": [
    {
     "output_type": "display_data",
     "data": {
      "application/vnd.plotly.v1+json": {
       "data": [
        {
         "hoverinfo": "name+y",
         "marker": {
          "color": "rgb(102, 197, 204)"
         },
         "name": "p__Actinobacteriota",
         "text": [
          17,
          27
         ],
         "x": [
          "Colostro",
          "Leite Materno de 1 mês"
         ],
         "y": [
          17,
          27
         ],
         "type": "bar"
        },
        {
         "hoverinfo": "name+y",
         "marker": {
          "color": "rgb(246, 207, 113)"
         },
         "name": "p__Firmicutes",
         "text": [
          48,
          73
         ],
         "x": [
          "Colostro",
          "Leite Materno de 1 mês"
         ],
         "y": [
          48,
          73
         ],
         "type": "bar"
        },
        {
         "hoverinfo": "name+y",
         "marker": {
          "color": "rgb(248, 156, 116)"
         },
         "name": "p__Firmicutes_C",
         "text": [
          6,
          0
         ],
         "x": [
          "Colostro",
          "Leite Materno de 1 mês"
         ],
         "y": [
          6,
          0
         ],
         "type": "bar"
        },
        {
         "hoverinfo": "name+y",
         "marker": {
          "color": "rgb(220, 176, 242)"
         },
         "name": "p__Proteobacteria",
         "text": [
          25,
          18
         ],
         "x": [
          "Colostro",
          "Leite Materno de 1 mês"
         ],
         "y": [
          25,
          18
         ],
         "type": "bar"
        }
       ],
       "layout": {
        "template": {
         "data": {
          "histogram2dcontour": [
           {
            "type": "histogram2dcontour",
            "colorbar": {
             "outlinewidth": 0,
             "ticks": ""
            },
            "colorscale": [
             [
              0,
              "#0d0887"
             ],
             [
              0.1111111111111111,
              "#46039f"
             ],
             [
              0.2222222222222222,
              "#7201a8"
             ],
             [
              0.3333333333333333,
              "#9c179e"
             ],
             [
              0.4444444444444444,
              "#bd3786"
             ],
             [
              0.5555555555555556,
              "#d8576b"
             ],
             [
              0.6666666666666666,
              "#ed7953"
             ],
             [
              0.7777777777777778,
              "#fb9f3a"
             ],
             [
              0.8888888888888888,
              "#fdca26"
             ],
             [
              1,
              "#f0f921"
             ]
            ]
           }
          ],
          "choropleth": [
           {
            "type": "choropleth",
            "colorbar": {
             "outlinewidth": 0,
             "ticks": ""
            }
           }
          ],
          "histogram2d": [
           {
            "type": "histogram2d",
            "colorbar": {
             "outlinewidth": 0,
             "ticks": ""
            },
            "colorscale": [
             [
              0,
              "#0d0887"
             ],
             [
              0.1111111111111111,
              "#46039f"
             ],
             [
              0.2222222222222222,
              "#7201a8"
             ],
             [
              0.3333333333333333,
              "#9c179e"
             ],
             [
              0.4444444444444444,
              "#bd3786"
             ],
             [
              0.5555555555555556,
              "#d8576b"
             ],
             [
              0.6666666666666666,
              "#ed7953"
             ],
             [
              0.7777777777777778,
              "#fb9f3a"
             ],
             [
              0.8888888888888888,
              "#fdca26"
             ],
             [
              1,
              "#f0f921"
             ]
            ]
           }
          ],
          "heatmap": [
           {
            "type": "heatmap",
            "colorbar": {
             "outlinewidth": 0,
             "ticks": ""
            },
            "colorscale": [
             [
              0,
              "#0d0887"
             ],
             [
              0.1111111111111111,
              "#46039f"
             ],
             [
              0.2222222222222222,
              "#7201a8"
             ],
             [
              0.3333333333333333,
              "#9c179e"
             ],
             [
              0.4444444444444444,
              "#bd3786"
             ],
             [
              0.5555555555555556,
              "#d8576b"
             ],
             [
              0.6666666666666666,
              "#ed7953"
             ],
             [
              0.7777777777777778,
              "#fb9f3a"
             ],
             [
              0.8888888888888888,
              "#fdca26"
             ],
             [
              1,
              "#f0f921"
             ]
            ]
           }
          ],
          "heatmapgl": [
           {
            "type": "heatmapgl",
            "colorbar": {
             "outlinewidth": 0,
             "ticks": ""
            },
            "colorscale": [
             [
              0,
              "#0d0887"
             ],
             [
              0.1111111111111111,
              "#46039f"
             ],
             [
              0.2222222222222222,
              "#7201a8"
             ],
             [
              0.3333333333333333,
              "#9c179e"
             ],
             [
              0.4444444444444444,
              "#bd3786"
             ],
             [
              0.5555555555555556,
              "#d8576b"
             ],
             [
              0.6666666666666666,
              "#ed7953"
             ],
             [
              0.7777777777777778,
              "#fb9f3a"
             ],
             [
              0.8888888888888888,
              "#fdca26"
             ],
             [
              1,
              "#f0f921"
             ]
            ]
           }
          ],
          "contourcarpet": [
           {
            "type": "contourcarpet",
            "colorbar": {
             "outlinewidth": 0,
             "ticks": ""
            }
           }
          ],
          "contour": [
           {
            "type": "contour",
            "colorbar": {
             "outlinewidth": 0,
             "ticks": ""
            },
            "colorscale": [
             [
              0,
              "#0d0887"
             ],
             [
              0.1111111111111111,
              "#46039f"
             ],
             [
              0.2222222222222222,
              "#7201a8"
             ],
             [
              0.3333333333333333,
              "#9c179e"
             ],
             [
              0.4444444444444444,
              "#bd3786"
             ],
             [
              0.5555555555555556,
              "#d8576b"
             ],
             [
              0.6666666666666666,
              "#ed7953"
             ],
             [
              0.7777777777777778,
              "#fb9f3a"
             ],
             [
              0.8888888888888888,
              "#fdca26"
             ],
             [
              1,
              "#f0f921"
             ]
            ]
           }
          ],
          "surface": [
           {
            "type": "surface",
            "colorbar": {
             "outlinewidth": 0,
             "ticks": ""
            },
            "colorscale": [
             [
              0,
              "#0d0887"
             ],
             [
              0.1111111111111111,
              "#46039f"
             ],
             [
              0.2222222222222222,
              "#7201a8"
             ],
             [
              0.3333333333333333,
              "#9c179e"
             ],
             [
              0.4444444444444444,
              "#bd3786"
             ],
             [
              0.5555555555555556,
              "#d8576b"
             ],
             [
              0.6666666666666666,
              "#ed7953"
             ],
             [
              0.7777777777777778,
              "#fb9f3a"
             ],
             [
              0.8888888888888888,
              "#fdca26"
             ],
             [
              1,
              "#f0f921"
             ]
            ]
           }
          ],
          "mesh3d": [
           {
            "type": "mesh3d",
            "colorbar": {
             "outlinewidth": 0,
             "ticks": ""
            }
           }
          ],
          "scatter": [
           {
            "fillpattern": {
             "fillmode": "overlay",
             "size": 10,
             "solidity": 0.2
            },
            "type": "scatter"
           }
          ],
          "parcoords": [
           {
            "type": "parcoords",
            "line": {
             "colorbar": {
              "outlinewidth": 0,
              "ticks": ""
             }
            }
           }
          ],
          "scatterpolargl": [
           {
            "type": "scatterpolargl",
            "marker": {
             "colorbar": {
              "outlinewidth": 0,
              "ticks": ""
             }
            }
           }
          ],
          "bar": [
           {
            "error_x": {
             "color": "#2a3f5f"
            },
            "error_y": {
             "color": "#2a3f5f"
            },
            "marker": {
             "line": {
              "color": "#E5ECF6",
              "width": 0.5
             },
             "pattern": {
              "fillmode": "overlay",
              "size": 10,
              "solidity": 0.2
             }
            },
            "type": "bar"
           }
          ],
          "scattergeo": [
           {
            "type": "scattergeo",
            "marker": {
             "colorbar": {
              "outlinewidth": 0,
              "ticks": ""
             }
            }
           }
          ],
          "scatterpolar": [
           {
            "type": "scatterpolar",
            "marker": {
             "colorbar": {
              "outlinewidth": 0,
              "ticks": ""
             }
            }
           }
          ],
          "histogram": [
           {
            "marker": {
             "pattern": {
              "fillmode": "overlay",
              "size": 10,
              "solidity": 0.2
             }
            },
            "type": "histogram"
           }
          ],
          "scattergl": [
           {
            "type": "scattergl",
            "marker": {
             "colorbar": {
              "outlinewidth": 0,
              "ticks": ""
             }
            }
           }
          ],
          "scatter3d": [
           {
            "type": "scatter3d",
            "line": {
             "colorbar": {
              "outlinewidth": 0,
              "ticks": ""
             }
            },
            "marker": {
             "colorbar": {
              "outlinewidth": 0,
              "ticks": ""
             }
            }
           }
          ],
          "scattermapbox": [
           {
            "type": "scattermapbox",
            "marker": {
             "colorbar": {
              "outlinewidth": 0,
              "ticks": ""
             }
            }
           }
          ],
          "scatterternary": [
           {
            "type": "scatterternary",
            "marker": {
             "colorbar": {
              "outlinewidth": 0,
              "ticks": ""
             }
            }
           }
          ],
          "scattercarpet": [
           {
            "type": "scattercarpet",
            "marker": {
             "colorbar": {
              "outlinewidth": 0,
              "ticks": ""
             }
            }
           }
          ],
          "carpet": [
           {
            "aaxis": {
             "endlinecolor": "#2a3f5f",
             "gridcolor": "white",
             "linecolor": "white",
             "minorgridcolor": "white",
             "startlinecolor": "#2a3f5f"
            },
            "baxis": {
             "endlinecolor": "#2a3f5f",
             "gridcolor": "white",
             "linecolor": "white",
             "minorgridcolor": "white",
             "startlinecolor": "#2a3f5f"
            },
            "type": "carpet"
           }
          ],
          "table": [
           {
            "cells": {
             "fill": {
              "color": "#EBF0F8"
             },
             "line": {
              "color": "white"
             }
            },
            "header": {
             "fill": {
              "color": "#C8D4E3"
             },
             "line": {
              "color": "white"
             }
            },
            "type": "table"
           }
          ],
          "barpolar": [
           {
            "marker": {
             "line": {
              "color": "#E5ECF6",
              "width": 0.5
             },
             "pattern": {
              "fillmode": "overlay",
              "size": 10,
              "solidity": 0.2
             }
            },
            "type": "barpolar"
           }
          ],
          "pie": [
           {
            "automargin": true,
            "type": "pie"
           }
          ]
         },
         "layout": {
          "autotypenumbers": "strict",
          "colorway": [
           "#636efa",
           "#EF553B",
           "#00cc96",
           "#ab63fa",
           "#FFA15A",
           "#19d3f3",
           "#FF6692",
           "#B6E880",
           "#FF97FF",
           "#FECB52"
          ],
          "font": {
           "color": "#2a3f5f"
          },
          "hovermode": "closest",
          "hoverlabel": {
           "align": "left"
          },
          "paper_bgcolor": "white",
          "plot_bgcolor": "#E5ECF6",
          "polar": {
           "bgcolor": "#E5ECF6",
           "angularaxis": {
            "gridcolor": "white",
            "linecolor": "white",
            "ticks": ""
           },
           "radialaxis": {
            "gridcolor": "white",
            "linecolor": "white",
            "ticks": ""
           }
          },
          "ternary": {
           "bgcolor": "#E5ECF6",
           "aaxis": {
            "gridcolor": "white",
            "linecolor": "white",
            "ticks": ""
           },
           "baxis": {
            "gridcolor": "white",
            "linecolor": "white",
            "ticks": ""
           },
           "caxis": {
            "gridcolor": "white",
            "linecolor": "white",
            "ticks": ""
           }
          },
          "coloraxis": {
           "colorbar": {
            "outlinewidth": 0,
            "ticks": ""
           }
          },
          "colorscale": {
           "sequential": [
            [
             0,
             "#0d0887"
            ],
            [
             0.1111111111111111,
             "#46039f"
            ],
            [
             0.2222222222222222,
             "#7201a8"
            ],
            [
             0.3333333333333333,
             "#9c179e"
            ],
            [
             0.4444444444444444,
             "#bd3786"
            ],
            [
             0.5555555555555556,
             "#d8576b"
            ],
            [
             0.6666666666666666,
             "#ed7953"
            ],
            [
             0.7777777777777778,
             "#fb9f3a"
            ],
            [
             0.8888888888888888,
             "#fdca26"
            ],
            [
             1,
             "#f0f921"
            ]
           ],
           "sequentialminus": [
            [
             0,
             "#0d0887"
            ],
            [
             0.1111111111111111,
             "#46039f"
            ],
            [
             0.2222222222222222,
             "#7201a8"
            ],
            [
             0.3333333333333333,
             "#9c179e"
            ],
            [
             0.4444444444444444,
             "#bd3786"
            ],
            [
             0.5555555555555556,
             "#d8576b"
            ],
            [
             0.6666666666666666,
             "#ed7953"
            ],
            [
             0.7777777777777778,
             "#fb9f3a"
            ],
            [
             0.8888888888888888,
             "#fdca26"
            ],
            [
             1,
             "#f0f921"
            ]
           ],
           "diverging": [
            [
             0,
             "#8e0152"
            ],
            [
             0.1,
             "#c51b7d"
            ],
            [
             0.2,
             "#de77ae"
            ],
            [
             0.3,
             "#f1b6da"
            ],
            [
             0.4,
             "#fde0ef"
            ],
            [
             0.5,
             "#f7f7f7"
            ],
            [
             0.6,
             "#e6f5d0"
            ],
            [
             0.7,
             "#b8e186"
            ],
            [
             0.8,
             "#7fbc41"
            ],
            [
             0.9,
             "#4d9221"
            ],
            [
             1,
             "#276419"
            ]
           ]
          },
          "xaxis": {
           "gridcolor": "white",
           "linecolor": "white",
           "ticks": "",
           "title": {
            "standoff": 15
           },
           "zerolinecolor": "white",
           "automargin": true,
           "zerolinewidth": 2
          },
          "yaxis": {
           "gridcolor": "white",
           "linecolor": "white",
           "ticks": "",
           "title": {
            "standoff": 15
           },
           "zerolinecolor": "white",
           "automargin": true,
           "zerolinewidth": 2
          },
          "scene": {
           "xaxis": {
            "backgroundcolor": "#E5ECF6",
            "gridcolor": "white",
            "linecolor": "white",
            "showbackground": true,
            "ticks": "",
            "zerolinecolor": "white",
            "gridwidth": 2
           },
           "yaxis": {
            "backgroundcolor": "#E5ECF6",
            "gridcolor": "white",
            "linecolor": "white",
            "showbackground": true,
            "ticks": "",
            "zerolinecolor": "white",
            "gridwidth": 2
           },
           "zaxis": {
            "backgroundcolor": "#E5ECF6",
            "gridcolor": "white",
            "linecolor": "white",
            "showbackground": true,
            "ticks": "",
            "zerolinecolor": "white",
            "gridwidth": 2
           }
          },
          "shapedefaults": {
           "line": {
            "color": "#2a3f5f"
           }
          },
          "annotationdefaults": {
           "arrowcolor": "#2a3f5f",
           "arrowhead": 0,
           "arrowwidth": 1
          },
          "geo": {
           "bgcolor": "white",
           "landcolor": "#E5ECF6",
           "subunitcolor": "white",
           "showland": true,
           "showlakes": true,
           "lakecolor": "white"
          },
          "title": {
           "x": 0.05
          },
          "mapbox": {
           "style": "light"
          }
         }
        },
        "font": {
         "size": 14
        },
        "legend": {
         "title": {
          "text": "Filo"
         },
         "x": 1.05,
         "y": 1,
         "borderwidth": 1
        },
        "barmode": "stack",
        "title": {
         "text": "Abundância de Filos"
        },
        "xaxis": {
         "title": {
          "text": "Período de vida"
         }
        },
        "yaxis": {
         "title": {
          "text": "Abundância"
         }
        },
        "width": 1200,
        "height": 600
       },
       "config": {
        "plotlyServerURL": "https://plot.ly"
       }
      }
     },
     "metadata": {}
    }
   ],
   "metadata": {}
  },
  {
   "cell_type": "code",
   "execution_count": 77,
   "source": [
    "# Definir a coluna 'Filos' como índice\r\n",
    "df_genero_abundancia.set_index('Gêneros', inplace=True)\r\n",
    "\r\n",
    "# Transpor o DataFrame para que os grupos (Obesos e Lean) sejam as colunas\r\n",
    "df_genero_abundancia_t = df_genero_abundancia.T\r\n",
    "\r\n",
    "# Definir uma paleta de cores personalizada\r\n",
    "custom_colors = colors.qualitative.Pastel  # Outra opção seria colors.qualitative.Set3 ou qualquer paleta disponível\r\n",
    "\r\n",
    "# Criar uma lista de barras empilhadas\r\n",
    "fig = go.Figure()\r\n",
    "\r\n",
    "# Adicionar cada filo ao gráfico como uma barra empilhada com cores personalizadas\r\n",
    "for i, genero in enumerate(df_genero_abundancia_t.columns):\r\n",
    "    fig.add_trace(go.Bar(\r\n",
    "        name=genero,\r\n",
    "        x=df_genero_abundancia_t.index, \r\n",
    "        y=df_genero_abundancia_t[genero],  # Valores de abundância\r\n",
    "        hoverinfo='name+y',\r\n",
    "        text=df_genero_abundancia_t[genero],  # Exibir valores de abundância nas barras\r\n",
    "        marker_color=custom_colors[i % len(custom_colors)],  # Aplicar cores da paleta\r\n",
    "    ))\r\n",
    "\r\n",
    "# Definir o layout do gráfico, ajustando o tamanho (mais comprido) e a paleta de cores\r\n",
    "fig.update_layout(\r\n",
    "    barmode='stack',  # Empilhar as barras\r\n",
    "    title='Abundância de Gêneros bacterianos',\r\n",
    "    xaxis_title='Leite',\r\n",
    "    yaxis_title='Abundância',\r\n",
    "    legend_title='Gênero',\r\n",
    "    font=dict(size=14),\r\n",
    "    legend=dict(x=1.05, y=1, borderwidth=1),  # Posicionar a legenda\r\n",
    "    width=1200,  # Ajustar a largura do gráfico\r\n",
    "    height=600,  # Ajustar a altura do gráfico\r\n",
    ")\r\n",
    "\r\n",
    "# Exibir o gráfico\r\n",
    "fig.show()\r\n",
    "\r\n",
    "# Salvar o gráfico como imagem (png)\r\n",
    "#fig.write_image('abund_filo_custom_plotly.png')\r\n"
   ],
   "outputs": [
    {
     "output_type": "display_data",
     "data": {
      "application/vnd.plotly.v1+json": {
       "data": [
        {
         "hoverinfo": "name+y",
         "marker": {
          "color": "rgb(102, 197, 204)"
         },
         "name": "g__Acinetobacter",
         "text": [
          3,
          0
         ],
         "x": [
          "Colostro",
          "Leite Materno de 1 mês"
         ],
         "y": [
          3,
          0
         ],
         "type": "bar"
        },
        {
         "hoverinfo": "name+y",
         "marker": {
          "color": "rgb(246, 207, 113)"
         },
         "name": "g__Actinomyces",
         "text": [
          2,
          0
         ],
         "x": [
          "Colostro",
          "Leite Materno de 1 mês"
         ],
         "y": [
          2,
          0
         ],
         "type": "bar"
        },
        {
         "hoverinfo": "name+y",
         "marker": {
          "color": "rgb(248, 156, 116)"
         },
         "name": "g__Agrobacterium",
         "text": [
          2,
          0
         ],
         "x": [
          "Colostro",
          "Leite Materno de 1 mês"
         ],
         "y": [
          2,
          0
         ],
         "type": "bar"
        },
        {
         "hoverinfo": "name+y",
         "marker": {
          "color": "rgb(220, 176, 242)"
         },
         "name": "g__Corynebacterium",
         "text": [
          0,
          3
         ],
         "x": [
          "Colostro",
          "Leite Materno de 1 mês"
         ],
         "y": [
          0,
          3
         ],
         "type": "bar"
        },
        {
         "hoverinfo": "name+y",
         "marker": {
          "color": "rgb(135, 197, 95)"
         },
         "name": "g__Cutibacterium",
         "text": [
          0,
          4
         ],
         "x": [
          "Colostro",
          "Leite Materno de 1 mês"
         ],
         "y": [
          0,
          4
         ],
         "type": "bar"
        },
        {
         "hoverinfo": "name+y",
         "marker": {
          "color": "rgb(158, 185, 243)"
         },
         "name": "g__Enterobacter",
         "text": [
          2,
          0
         ],
         "x": [
          "Colostro",
          "Leite Materno de 1 mês"
         ],
         "y": [
          2,
          0
         ],
         "type": "bar"
        },
        {
         "hoverinfo": "name+y",
         "marker": {
          "color": "rgb(254, 136, 177)"
         },
         "name": "g__Gemella",
         "text": [
          0,
          2
         ],
         "x": [
          "Colostro",
          "Leite Materno de 1 mês"
         ],
         "y": [
          0,
          2
         ],
         "type": "bar"
        },
        {
         "hoverinfo": "name+y",
         "marker": {
          "color": "rgb(201, 219, 116)"
         },
         "name": "g__Haemophilus",
         "text": [
          0,
          2
         ],
         "x": [
          "Colostro",
          "Leite Materno de 1 mês"
         ],
         "y": [
          0,
          2
         ],
         "type": "bar"
        },
        {
         "hoverinfo": "name+y",
         "marker": {
          "color": "rgb(139, 224, 164)"
         },
         "name": "g__Kluyvera",
         "text": [
          2,
          0
         ],
         "x": [
          "Colostro",
          "Leite Materno de 1 mês"
         ],
         "y": [
          2,
          0
         ],
         "type": "bar"
        },
        {
         "hoverinfo": "name+y",
         "marker": {
          "color": "rgb(180, 151, 231)"
         },
         "name": "g__Moraxella_A",
         "text": [
          2,
          0
         ],
         "x": [
          "Colostro",
          "Leite Materno de 1 mês"
         ],
         "y": [
          2,
          0
         ],
         "type": "bar"
        },
        {
         "hoverinfo": "name+y",
         "marker": {
          "color": "rgb(179, 179, 179)"
         },
         "name": "g__Neisseria",
         "text": [
          0,
          4
         ],
         "x": [
          "Colostro",
          "Leite Materno de 1 mês"
         ],
         "y": [
          0,
          4
         ],
         "type": "bar"
        },
        {
         "hoverinfo": "name+y",
         "marker": {
          "color": "rgb(102, 197, 204)"
         },
         "name": "g__Pauljensenia",
         "text": [
          2,
          0
         ],
         "x": [
          "Colostro",
          "Leite Materno de 1 mês"
         ],
         "y": [
          2,
          0
         ],
         "type": "bar"
        },
        {
         "hoverinfo": "name+y",
         "marker": {
          "color": "rgb(246, 207, 113)"
         },
         "name": "g__Pseudomonas",
         "text": [
          2,
          0
         ],
         "x": [
          "Colostro",
          "Leite Materno de 1 mês"
         ],
         "y": [
          2,
          0
         ],
         "type": "bar"
        },
        {
         "hoverinfo": "name+y",
         "marker": {
          "color": "rgb(248, 156, 116)"
         },
         "name": "g__Pseudomonas_E",
         "text": [
          2,
          0
         ],
         "x": [
          "Colostro",
          "Leite Materno de 1 mês"
         ],
         "y": [
          2,
          0
         ],
         "type": "bar"
        },
        {
         "hoverinfo": "name+y",
         "marker": {
          "color": "rgb(220, 176, 242)"
         },
         "name": "g__Rothia",
         "text": [
          4,
          4
         ],
         "x": [
          "Colostro",
          "Leite Materno de 1 mês"
         ],
         "y": [
          4,
          4
         ],
         "type": "bar"
        },
        {
         "hoverinfo": "name+y",
         "marker": {
          "color": "rgb(135, 197, 95)"
         },
         "name": "g__Staphylococcus",
         "text": [
          6,
          5
         ],
         "x": [
          "Colostro",
          "Leite Materno de 1 mês"
         ],
         "y": [
          6,
          5
         ],
         "type": "bar"
        },
        {
         "hoverinfo": "name+y",
         "marker": {
          "color": "rgb(158, 185, 243)"
         },
         "name": "g__Streptococcus",
         "text": [
          12,
          24
         ],
         "x": [
          "Colostro",
          "Leite Materno de 1 mês"
         ],
         "y": [
          12,
          24
         ],
         "type": "bar"
        },
        {
         "hoverinfo": "name+y",
         "marker": {
          "color": "rgb(254, 136, 177)"
         },
         "name": "g__Veillonella",
         "text": [
          2,
          0
         ],
         "x": [
          "Colostro",
          "Leite Materno de 1 mês"
         ],
         "y": [
          2,
          0
         ],
         "type": "bar"
        }
       ],
       "layout": {
        "template": {
         "data": {
          "histogram2dcontour": [
           {
            "type": "histogram2dcontour",
            "colorbar": {
             "outlinewidth": 0,
             "ticks": ""
            },
            "colorscale": [
             [
              0,
              "#0d0887"
             ],
             [
              0.1111111111111111,
              "#46039f"
             ],
             [
              0.2222222222222222,
              "#7201a8"
             ],
             [
              0.3333333333333333,
              "#9c179e"
             ],
             [
              0.4444444444444444,
              "#bd3786"
             ],
             [
              0.5555555555555556,
              "#d8576b"
             ],
             [
              0.6666666666666666,
              "#ed7953"
             ],
             [
              0.7777777777777778,
              "#fb9f3a"
             ],
             [
              0.8888888888888888,
              "#fdca26"
             ],
             [
              1,
              "#f0f921"
             ]
            ]
           }
          ],
          "choropleth": [
           {
            "type": "choropleth",
            "colorbar": {
             "outlinewidth": 0,
             "ticks": ""
            }
           }
          ],
          "histogram2d": [
           {
            "type": "histogram2d",
            "colorbar": {
             "outlinewidth": 0,
             "ticks": ""
            },
            "colorscale": [
             [
              0,
              "#0d0887"
             ],
             [
              0.1111111111111111,
              "#46039f"
             ],
             [
              0.2222222222222222,
              "#7201a8"
             ],
             [
              0.3333333333333333,
              "#9c179e"
             ],
             [
              0.4444444444444444,
              "#bd3786"
             ],
             [
              0.5555555555555556,
              "#d8576b"
             ],
             [
              0.6666666666666666,
              "#ed7953"
             ],
             [
              0.7777777777777778,
              "#fb9f3a"
             ],
             [
              0.8888888888888888,
              "#fdca26"
             ],
             [
              1,
              "#f0f921"
             ]
            ]
           }
          ],
          "heatmap": [
           {
            "type": "heatmap",
            "colorbar": {
             "outlinewidth": 0,
             "ticks": ""
            },
            "colorscale": [
             [
              0,
              "#0d0887"
             ],
             [
              0.1111111111111111,
              "#46039f"
             ],
             [
              0.2222222222222222,
              "#7201a8"
             ],
             [
              0.3333333333333333,
              "#9c179e"
             ],
             [
              0.4444444444444444,
              "#bd3786"
             ],
             [
              0.5555555555555556,
              "#d8576b"
             ],
             [
              0.6666666666666666,
              "#ed7953"
             ],
             [
              0.7777777777777778,
              "#fb9f3a"
             ],
             [
              0.8888888888888888,
              "#fdca26"
             ],
             [
              1,
              "#f0f921"
             ]
            ]
           }
          ],
          "heatmapgl": [
           {
            "type": "heatmapgl",
            "colorbar": {
             "outlinewidth": 0,
             "ticks": ""
            },
            "colorscale": [
             [
              0,
              "#0d0887"
             ],
             [
              0.1111111111111111,
              "#46039f"
             ],
             [
              0.2222222222222222,
              "#7201a8"
             ],
             [
              0.3333333333333333,
              "#9c179e"
             ],
             [
              0.4444444444444444,
              "#bd3786"
             ],
             [
              0.5555555555555556,
              "#d8576b"
             ],
             [
              0.6666666666666666,
              "#ed7953"
             ],
             [
              0.7777777777777778,
              "#fb9f3a"
             ],
             [
              0.8888888888888888,
              "#fdca26"
             ],
             [
              1,
              "#f0f921"
             ]
            ]
           }
          ],
          "contourcarpet": [
           {
            "type": "contourcarpet",
            "colorbar": {
             "outlinewidth": 0,
             "ticks": ""
            }
           }
          ],
          "contour": [
           {
            "type": "contour",
            "colorbar": {
             "outlinewidth": 0,
             "ticks": ""
            },
            "colorscale": [
             [
              0,
              "#0d0887"
             ],
             [
              0.1111111111111111,
              "#46039f"
             ],
             [
              0.2222222222222222,
              "#7201a8"
             ],
             [
              0.3333333333333333,
              "#9c179e"
             ],
             [
              0.4444444444444444,
              "#bd3786"
             ],
             [
              0.5555555555555556,
              "#d8576b"
             ],
             [
              0.6666666666666666,
              "#ed7953"
             ],
             [
              0.7777777777777778,
              "#fb9f3a"
             ],
             [
              0.8888888888888888,
              "#fdca26"
             ],
             [
              1,
              "#f0f921"
             ]
            ]
           }
          ],
          "surface": [
           {
            "type": "surface",
            "colorbar": {
             "outlinewidth": 0,
             "ticks": ""
            },
            "colorscale": [
             [
              0,
              "#0d0887"
             ],
             [
              0.1111111111111111,
              "#46039f"
             ],
             [
              0.2222222222222222,
              "#7201a8"
             ],
             [
              0.3333333333333333,
              "#9c179e"
             ],
             [
              0.4444444444444444,
              "#bd3786"
             ],
             [
              0.5555555555555556,
              "#d8576b"
             ],
             [
              0.6666666666666666,
              "#ed7953"
             ],
             [
              0.7777777777777778,
              "#fb9f3a"
             ],
             [
              0.8888888888888888,
              "#fdca26"
             ],
             [
              1,
              "#f0f921"
             ]
            ]
           }
          ],
          "mesh3d": [
           {
            "type": "mesh3d",
            "colorbar": {
             "outlinewidth": 0,
             "ticks": ""
            }
           }
          ],
          "scatter": [
           {
            "fillpattern": {
             "fillmode": "overlay",
             "size": 10,
             "solidity": 0.2
            },
            "type": "scatter"
           }
          ],
          "parcoords": [
           {
            "type": "parcoords",
            "line": {
             "colorbar": {
              "outlinewidth": 0,
              "ticks": ""
             }
            }
           }
          ],
          "scatterpolargl": [
           {
            "type": "scatterpolargl",
            "marker": {
             "colorbar": {
              "outlinewidth": 0,
              "ticks": ""
             }
            }
           }
          ],
          "bar": [
           {
            "error_x": {
             "color": "#2a3f5f"
            },
            "error_y": {
             "color": "#2a3f5f"
            },
            "marker": {
             "line": {
              "color": "#E5ECF6",
              "width": 0.5
             },
             "pattern": {
              "fillmode": "overlay",
              "size": 10,
              "solidity": 0.2
             }
            },
            "type": "bar"
           }
          ],
          "scattergeo": [
           {
            "type": "scattergeo",
            "marker": {
             "colorbar": {
              "outlinewidth": 0,
              "ticks": ""
             }
            }
           }
          ],
          "scatterpolar": [
           {
            "type": "scatterpolar",
            "marker": {
             "colorbar": {
              "outlinewidth": 0,
              "ticks": ""
             }
            }
           }
          ],
          "histogram": [
           {
            "marker": {
             "pattern": {
              "fillmode": "overlay",
              "size": 10,
              "solidity": 0.2
             }
            },
            "type": "histogram"
           }
          ],
          "scattergl": [
           {
            "type": "scattergl",
            "marker": {
             "colorbar": {
              "outlinewidth": 0,
              "ticks": ""
             }
            }
           }
          ],
          "scatter3d": [
           {
            "type": "scatter3d",
            "line": {
             "colorbar": {
              "outlinewidth": 0,
              "ticks": ""
             }
            },
            "marker": {
             "colorbar": {
              "outlinewidth": 0,
              "ticks": ""
             }
            }
           }
          ],
          "scattermapbox": [
           {
            "type": "scattermapbox",
            "marker": {
             "colorbar": {
              "outlinewidth": 0,
              "ticks": ""
             }
            }
           }
          ],
          "scatterternary": [
           {
            "type": "scatterternary",
            "marker": {
             "colorbar": {
              "outlinewidth": 0,
              "ticks": ""
             }
            }
           }
          ],
          "scattercarpet": [
           {
            "type": "scattercarpet",
            "marker": {
             "colorbar": {
              "outlinewidth": 0,
              "ticks": ""
             }
            }
           }
          ],
          "carpet": [
           {
            "aaxis": {
             "endlinecolor": "#2a3f5f",
             "gridcolor": "white",
             "linecolor": "white",
             "minorgridcolor": "white",
             "startlinecolor": "#2a3f5f"
            },
            "baxis": {
             "endlinecolor": "#2a3f5f",
             "gridcolor": "white",
             "linecolor": "white",
             "minorgridcolor": "white",
             "startlinecolor": "#2a3f5f"
            },
            "type": "carpet"
           }
          ],
          "table": [
           {
            "cells": {
             "fill": {
              "color": "#EBF0F8"
             },
             "line": {
              "color": "white"
             }
            },
            "header": {
             "fill": {
              "color": "#C8D4E3"
             },
             "line": {
              "color": "white"
             }
            },
            "type": "table"
           }
          ],
          "barpolar": [
           {
            "marker": {
             "line": {
              "color": "#E5ECF6",
              "width": 0.5
             },
             "pattern": {
              "fillmode": "overlay",
              "size": 10,
              "solidity": 0.2
             }
            },
            "type": "barpolar"
           }
          ],
          "pie": [
           {
            "automargin": true,
            "type": "pie"
           }
          ]
         },
         "layout": {
          "autotypenumbers": "strict",
          "colorway": [
           "#636efa",
           "#EF553B",
           "#00cc96",
           "#ab63fa",
           "#FFA15A",
           "#19d3f3",
           "#FF6692",
           "#B6E880",
           "#FF97FF",
           "#FECB52"
          ],
          "font": {
           "color": "#2a3f5f"
          },
          "hovermode": "closest",
          "hoverlabel": {
           "align": "left"
          },
          "paper_bgcolor": "white",
          "plot_bgcolor": "#E5ECF6",
          "polar": {
           "bgcolor": "#E5ECF6",
           "angularaxis": {
            "gridcolor": "white",
            "linecolor": "white",
            "ticks": ""
           },
           "radialaxis": {
            "gridcolor": "white",
            "linecolor": "white",
            "ticks": ""
           }
          },
          "ternary": {
           "bgcolor": "#E5ECF6",
           "aaxis": {
            "gridcolor": "white",
            "linecolor": "white",
            "ticks": ""
           },
           "baxis": {
            "gridcolor": "white",
            "linecolor": "white",
            "ticks": ""
           },
           "caxis": {
            "gridcolor": "white",
            "linecolor": "white",
            "ticks": ""
           }
          },
          "coloraxis": {
           "colorbar": {
            "outlinewidth": 0,
            "ticks": ""
           }
          },
          "colorscale": {
           "sequential": [
            [
             0,
             "#0d0887"
            ],
            [
             0.1111111111111111,
             "#46039f"
            ],
            [
             0.2222222222222222,
             "#7201a8"
            ],
            [
             0.3333333333333333,
             "#9c179e"
            ],
            [
             0.4444444444444444,
             "#bd3786"
            ],
            [
             0.5555555555555556,
             "#d8576b"
            ],
            [
             0.6666666666666666,
             "#ed7953"
            ],
            [
             0.7777777777777778,
             "#fb9f3a"
            ],
            [
             0.8888888888888888,
             "#fdca26"
            ],
            [
             1,
             "#f0f921"
            ]
           ],
           "sequentialminus": [
            [
             0,
             "#0d0887"
            ],
            [
             0.1111111111111111,
             "#46039f"
            ],
            [
             0.2222222222222222,
             "#7201a8"
            ],
            [
             0.3333333333333333,
             "#9c179e"
            ],
            [
             0.4444444444444444,
             "#bd3786"
            ],
            [
             0.5555555555555556,
             "#d8576b"
            ],
            [
             0.6666666666666666,
             "#ed7953"
            ],
            [
             0.7777777777777778,
             "#fb9f3a"
            ],
            [
             0.8888888888888888,
             "#fdca26"
            ],
            [
             1,
             "#f0f921"
            ]
           ],
           "diverging": [
            [
             0,
             "#8e0152"
            ],
            [
             0.1,
             "#c51b7d"
            ],
            [
             0.2,
             "#de77ae"
            ],
            [
             0.3,
             "#f1b6da"
            ],
            [
             0.4,
             "#fde0ef"
            ],
            [
             0.5,
             "#f7f7f7"
            ],
            [
             0.6,
             "#e6f5d0"
            ],
            [
             0.7,
             "#b8e186"
            ],
            [
             0.8,
             "#7fbc41"
            ],
            [
             0.9,
             "#4d9221"
            ],
            [
             1,
             "#276419"
            ]
           ]
          },
          "xaxis": {
           "gridcolor": "white",
           "linecolor": "white",
           "ticks": "",
           "title": {
            "standoff": 15
           },
           "zerolinecolor": "white",
           "automargin": true,
           "zerolinewidth": 2
          },
          "yaxis": {
           "gridcolor": "white",
           "linecolor": "white",
           "ticks": "",
           "title": {
            "standoff": 15
           },
           "zerolinecolor": "white",
           "automargin": true,
           "zerolinewidth": 2
          },
          "scene": {
           "xaxis": {
            "backgroundcolor": "#E5ECF6",
            "gridcolor": "white",
            "linecolor": "white",
            "showbackground": true,
            "ticks": "",
            "zerolinecolor": "white",
            "gridwidth": 2
           },
           "yaxis": {
            "backgroundcolor": "#E5ECF6",
            "gridcolor": "white",
            "linecolor": "white",
            "showbackground": true,
            "ticks": "",
            "zerolinecolor": "white",
            "gridwidth": 2
           },
           "zaxis": {
            "backgroundcolor": "#E5ECF6",
            "gridcolor": "white",
            "linecolor": "white",
            "showbackground": true,
            "ticks": "",
            "zerolinecolor": "white",
            "gridwidth": 2
           }
          },
          "shapedefaults": {
           "line": {
            "color": "#2a3f5f"
           }
          },
          "annotationdefaults": {
           "arrowcolor": "#2a3f5f",
           "arrowhead": 0,
           "arrowwidth": 1
          },
          "geo": {
           "bgcolor": "white",
           "landcolor": "#E5ECF6",
           "subunitcolor": "white",
           "showland": true,
           "showlakes": true,
           "lakecolor": "white"
          },
          "title": {
           "x": 0.05
          },
          "mapbox": {
           "style": "light"
          }
         }
        },
        "font": {
         "size": 14
        },
        "legend": {
         "title": {
          "text": "Gênero"
         },
         "x": 1.05,
         "y": 1,
         "borderwidth": 1
        },
        "barmode": "stack",
        "title": {
         "text": "Abundância de Gêneros bacterianos"
        },
        "xaxis": {
         "title": {
          "text": "Leite"
         }
        },
        "yaxis": {
         "title": {
          "text": "Abundância"
         }
        },
        "width": 1200,
        "height": 600
       },
       "config": {
        "plotlyServerURL": "https://plot.ly"
       }
      }
     },
     "metadata": {}
    }
   ],
   "metadata": {}
  },
  {
   "cell_type": "code",
   "execution_count": null,
   "source": [],
   "outputs": [],
   "metadata": {}
  }
 ],
 "metadata": {
  "orig_nbformat": 4,
  "language_info": {
   "name": "python",
   "version": "3.9.7",
   "mimetype": "text/x-python",
   "codemirror_mode": {
    "name": "ipython",
    "version": 3
   },
   "pygments_lexer": "ipython3",
   "nbconvert_exporter": "python",
   "file_extension": ".py"
  },
  "kernelspec": {
   "name": "python3",
   "display_name": "Python 3.9.7 64-bit"
  },
  "interpreter": {
   "hash": "ac59ebe37160ed0dfa835113d9b8498d9f09ceb179beaac4002f036b9467c963"
  }
 },
 "nbformat": 4,
 "nbformat_minor": 2
}